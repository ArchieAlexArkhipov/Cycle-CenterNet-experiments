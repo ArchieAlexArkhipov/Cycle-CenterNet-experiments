{
 "cells": [
  {
   "cell_type": "code",
   "execution_count": 1,
   "metadata": {},
   "outputs": [],
   "source": [
    "import os.path as osp\n",
    "from utils import *\n",
    "import mmcv\n",
    "import torch\n",
    "import wandb\n",
    "from mmcv import Config\n",
    "from mmcv.parallel import MMDistributedDataParallel\n",
    "from mmdet.apis import set_random_seed, train_detector\n",
    "from mmdet.apis import init_detector, inference_detector, show_result_pyplot\n",
    "from algo2_result_to_aligned_result import algo2_result_to_aligned_result\n",
    "# Let's take a look at the dataset image\n",
    "from mmdet.datasets import build_dataset\n",
    "from mmdet.models import build_detector\n",
    "from xml_to_np import xml_to_np\n",
    "from AP import calc_iou_individual, get_single_image_results\n",
    "from soft_nms import py_cpu_softnms\n",
    "from dbscan_result_to_aligned_result import dbscan_result_to_aligned_result\n",
    "from AP import calc_iou_individual\n",
    "import xml.etree.ElementTree as ET\n",
    "import numpy as np\n",
    "from tqdm.notebook import tqdm\n",
    "import pandas as pd\n",
    "from utils import print_LC"
   ]
  },
  {
   "cell_type": "code",
   "execution_count": 2,
   "metadata": {},
   "outputs": [
    {
     "name": "stdout",
     "output_type": "stream",
     "text": [
      "loading annotations into memory...\n",
      "Done (t=4.26s)\n",
      "creating index...\n",
      "index created!\n",
      "load checkpoint from local path: /home/aiarhipov/centernet/exps/16_paper_params_dla34_batch8/epoch_150.pth\n"
     ]
    },
    {
     "name": "stderr",
     "output_type": "stream",
     "text": [
      "2023-05-07 12:06:29,118 - root - INFO - ModulatedDeformConvPack neck.deconv_layers.0.conv is upgraded to version 2.\n",
      "2023-05-07 12:06:29,213 - root - INFO - ModulatedDeformConvPack neck.deconv_layers.2.conv is upgraded to version 2.\n",
      "2023-05-07 12:06:29,312 - root - INFO - ModulatedDeformConvPack neck.deconv_layers.4.conv is upgraded to version 2.\n"
     ]
    }
   ],
   "source": [
    "checkpoint_file = '/home/aiarhipov/centernet/exps/16_paper_params_dla34_batch8/epoch_150.pth'\n",
    "\n",
    "config_file = \"/home/aiarhipov/centernet/exps/16_paper_params_dla34_batch8/config.py\"\n",
    "cfg = Config.fromfile(config_file)\n",
    "\n",
    "set_random_seed(0, deterministic=False)\n",
    "\n",
    "dataset = build_dataset(cfg.data.test)\n",
    "\n",
    "model = build_detector(cfg.model)\n",
    "model.CLASSES = dataset.CLASSES\n",
    "\n",
    "model = init_detector(config_file, checkpoint_file, device='cuda:6')"
   ]
  },
  {
   "cell_type": "code",
   "execution_count": 3,
   "metadata": {},
   "outputs": [
    {
     "name": "stdout",
     "output_type": "stream",
     "text": [
      "(92, 4)\n",
      "(87, 4)\n"
     ]
    }
   ],
   "source": [
    "conf_threshold = 0.5\n",
    "iou_threshold = 0.9\n",
    "res = []\n",
    "# for idx in tqdm(range(int(len(dataset)))):\n",
    "idx = 7\n",
    "anno = dataset.get_ann_info(idx=idx)\n",
    "boxes = anno[\"bboxes\"]\n",
    "segm_path = anno[\"seg_map\"]\n",
    "xml_path = f\"/home/aiarhipov/datasets/WTW-dataset/test/xml/{segm_path[:-4]}.xml\"\n",
    "img_path = f\"/home/aiarhipov/datasets/WTW-dataset/test/images/{segm_path[:-4]}.jpg\"\n",
    "\n",
    "gt_boxes = xml_to_np(xml_path)\n",
    "# print(f\"gt_boxes[0] = {gt_boxes[:5]}\")\n",
    "pred = inference_detector(model, img_path)[0]\n",
    "# print(f\"pred[0] = {pred[:5]}\")\n",
    "conf_indexes = py_cpu_softnms(pred[:, :4], pred[:, 4], thresh=0.475, method=2)\n",
    "# print(f\"conf_indexes = {conf_indexes}\")\n",
    "conf_pred = pred[conf_indexes]\n",
    "# print(f\"conf_pred[0] = {conf_pred[:5]}\")\n",
    "if conf_pred.shape[0] > 1:\n",
    "    conf_pred = dbscan_result_to_aligned_result([conf_pred])\n",
    "    if conf_pred:\n",
    "        conf_pred = conf_pred[0]\n",
    "        print(gt_boxes[:, :4].shape)\n",
    "        print(conf_pred[:, :4].shape)"
   ]
  },
  {
   "cell_type": "code",
   "execution_count": 5,
   "metadata": {},
   "outputs": [],
   "source": [
    "# show_result_pyplot(model, img_path, [conf_pred[:, :4]], score_thr = 0)"
   ]
  },
  {
   "cell_type": "code",
   "execution_count": 6,
   "metadata": {},
   "outputs": [],
   "source": [
    "def LC_for_dbscan_algo(pred):\n",
    "    res = np.pad(pred, ((0,0),(0,4)), mode=\"constant\", constant_values=np.nan)\n",
    "    # left_edge.append(((box[0], box[1]), (box[0], box[3])))\n",
    "    # right_edge.append(((box[2], box[1]), (box[2], box[3])))\n",
    "    # up_edge.append(((box[0], box[1]), (box[2], box[1])))\n",
    "    # down_edge.append(((box[0], box[3]), (box[2], box[3])))\n",
    "    x = np.unique(np.hstack((pred[:, 0], pred[:, 2])))\n",
    "    y = np.unique(np.hstack((pred[:, 1], pred[:, 3])))\n",
    "    for idx, box in enumerate(pred):\n",
    "        startrow = np.where(np.isclose(y, box[1]))[0][0]\n",
    "        endrow = np.where(np.isclose(y, box[3]))[0][0] - 1\n",
    "        startcolumn = np.where(np.isclose(x, box[0]))[0][0]\n",
    "        endcolumn = np.where(np.isclose(x, box[2]))[0][0] - 1\n",
    "        res[idx, -1] = endcolumn\n",
    "        res[idx, -2] = startcolumn\n",
    "        res[idx, -3] = endrow\n",
    "        res[idx, -4] = startrow\n",
    "    return res\n",
    "    \n",
    "# print_LC(img_path, LC_for_dbscan_algo(conf_pred))"
   ]
  },
  {
   "cell_type": "code",
   "execution_count": 7,
   "metadata": {},
   "outputs": [],
   "source": [
    "conf_pred = LC_for_dbscan_algo(conf_pred)\n",
    "matched_gt = np.insert(gt_boxes, 4, np.nan, axis=1)\n",
    "for idx, g in enumerate(gt_boxes):\n",
    "    \n",
    "    iou = pd.Series([calc_iou_individual(p[:4], g[:4]) for p in conf_pred])\n",
    "    max_idx = iou.argmax()\n",
    "    max_idx = max_idx if iou[max_idx] > iou_threshold else np.nan\n",
    "    matched_gt[idx, 4] = max_idx"
   ]
  },
  {
   "cell_type": "code",
   "execution_count": 8,
   "metadata": {},
   "outputs": [],
   "source": [
    "print_LC(img_path, np.insert(conf_pred, 9, range(conf_pred.shape[0]), axis=1), out_path=\"example_with_bounding_boxes_pred.jpg\")\n",
    "print_LC(img_path, np.insert(matched_gt, 9, range(matched_gt.shape[0]), axis=1), out_path=\"example_with_bounding_boxes_gt.jpg\")"
   ]
  },
  {
   "cell_type": "code",
   "execution_count": 9,
   "metadata": {},
   "outputs": [
    {
     "name": "stderr",
     "output_type": "stream",
     "text": [
      "/tmp/ipykernel_4107/1968879673.py:40: DeprecationWarning: The truth value of an empty array is ambiguous. Returning False, but in future this will result in an error. Use `array.size > 0` to check that an array is not empty.\n",
      "  if gt_down_idx:\n",
      "/tmp/ipykernel_4107/1968879673.py:32: DeprecationWarning: The truth value of an empty array is ambiguous. Returning False, but in future this will result in an error. Use `array.size > 0` to check that an array is not empty.\n",
      "  if pred_right_idx:\n",
      "/tmp/ipykernel_4107/1968879673.py:28: DeprecationWarning: The truth value of an empty array is ambiguous. Returning False, but in future this will result in an error. Use `array.size > 0` to check that an array is not empty.\n",
      "  if gt_right_idx:\n"
     ]
    },
    {
     "data": {
      "text/plain": [
       "{'precision': 1.0,\n",
       " 'recall': 0.9787234042553191,\n",
       " 'tp': 138,\n",
       " 'gt_lines': 141,\n",
       " 'pred_lines': 138}"
      ]
     },
     "execution_count": 9,
     "metadata": {},
     "output_type": "execute_result"
    }
   ],
   "source": [
    "def adjacency_relation_per_image_dbscan(gt, pred, iou_threshold=0) -> dict:\n",
    "    \"\"\"_summary_\n",
    "\n",
    "    Parameters\n",
    "    ----------\n",
    "    gt : shape(n, 4) xmin, ymin, xmax, ymax, [match], startrow, endrow, startcol, endcol\n",
    "    gt : shape(n, 4)   0 ,  1  ,  2  ,   3 ,    4   ,     5   ,    6  ,     7   ,   8\n",
    "        \n",
    "    pred : shape(n, 5) xmin, ymin, xmax, ymax, confidence, [startrow, endrow, startcol, endcol]\n",
    "    pred : shape(n, 5)   0 ,  1  ,  2  ,   3 ,       4   ,     5    ,    6  ,     7   ,   8\n",
    "    \n",
    "    \"\"\"\n",
    "    pred = LC_for_dbscan_algo(pred)\n",
    "    matched_gt = np.insert(gt, 4, np.nan, axis=1)\n",
    "    for idx, g in enumerate(gt):\n",
    "        iou = pd.Series([calc_iou_individual(p[:4], g[:4]) for p in pred])\n",
    "        max_idx = iou.argmax()\n",
    "        max_idx = max_idx if iou[max_idx] > iou_threshold else np.nan\n",
    "        matched_gt[idx, 4] = max_idx\n",
    "\n",
    "    tp = 0\n",
    "    gt_lines = 0\n",
    "    pred_lines = 0\n",
    "    for idx, g in enumerate(matched_gt):\n",
    "        if not np.isnan(g[4]):\n",
    "            anchor_pred_idx = int(g[4])\n",
    "            gt_right_idx,  = np.where((matched_gt[:,7] == g[8]+1) & (matched_gt[:,5] <= g[5]) & (matched_gt[:,6] >= g[5]))\n",
    "            if gt_right_idx:\n",
    "                gt_lines+=1 \n",
    "                gt_right_idx = gt_right_idx[0]\n",
    "                pred_right_idx, = np.where((pred[:,7] == pred[anchor_pred_idx, 8] + 1) & (pred[:,5] <= pred[anchor_pred_idx, 5])& (pred[:,6] >= pred[anchor_pred_idx, 5]))\n",
    "                if pred_right_idx:\n",
    "                    pred_lines+=1\n",
    "                    pred_right_idx = pred_right_idx[0]\n",
    "                    if pred_right_idx == matched_gt[gt_right_idx, 4]:\n",
    "                        tp += 1\n",
    "\n",
    "\n",
    "            gt_down_idx, = np.where((matched_gt[:,5] == g[6]+1) & (matched_gt[:,7] <= g[7]) & (matched_gt[:,8] >= g[7]))\n",
    "            if gt_down_idx:\n",
    "                gt_lines+=1 \n",
    "                gt_down_idx = gt_down_idx[0]\n",
    "                pred_down_idx, = np.where((pred[:,5] == pred[anchor_pred_idx, 6] + 1) & (pred[:,7] <= pred[anchor_pred_idx, 7])& (pred[:,8] >= pred[anchor_pred_idx, 7]) )   \n",
    "                if pred_down_idx:\n",
    "                    pred_lines+=1\n",
    "                    pred_down_idx = pred_down_idx[0]\n",
    "                    if pred_down_idx == matched_gt[gt_down_idx, 4]:\n",
    "                        tp += 1\n",
    "\n",
    "    return {\"precision\":tp/pred_lines, \"recall\":tp/gt_lines, \"tp\":tp, \"gt_lines\":gt_lines, \"pred_lines\":pred_lines}\n",
    "adjacency_relation_per_image_dbscan(gt_boxes, conf_pred, iou_threshold=0.5)"
   ]
  },
  {
   "cell_type": "code",
   "execution_count": 10,
   "metadata": {},
   "outputs": [
    {
     "data": {
      "application/vnd.jupyter.widget-view+json": {
       "model_id": "262f3b2ed86b46e1a1e1682b6bf6d030",
       "version_major": 2,
       "version_minor": 0
      },
      "text/plain": [
       "  0%|          | 0/3611 [00:00<?, ?it/s]"
      ]
     },
     "metadata": {},
     "output_type": "display_data"
    },
    {
     "name": "stderr",
     "output_type": "stream",
     "text": [
      "/tmp/ipykernel_4107/1968879673.py:16: FutureWarning: The default dtype for empty Series will be 'object' instead of 'float64' in a future version. Specify a dtype explicitly to silence this warning.\n",
      "  iou = pd.Series([calc_iou_individual(p[:4], g[:4]) for p in pred])\n"
     ]
    },
    {
     "ename": "ValueError",
     "evalue": "attempt to get argmax of an empty sequence",
     "output_type": "error",
     "traceback": [
      "\u001b[0;31m---------------------------------------------------------------------------\u001b[0m",
      "\u001b[0;31mValueError\u001b[0m                                Traceback (most recent call last)",
      "Cell \u001b[0;32mIn[10], line 19\u001b[0m\n\u001b[1;32m     17\u001b[0m         \u001b[39mif\u001b[39;00m conf_pred:\n\u001b[1;32m     18\u001b[0m             conf_pred \u001b[39m=\u001b[39m conf_pred[\u001b[39m0\u001b[39m]\n\u001b[0;32m---> 19\u001b[0m             metrics \u001b[39m=\u001b[39m adjacency_relation_per_image_dbscan(gt_boxes, conf_pred)\n\u001b[1;32m     20\u001b[0m             res\u001b[39m.\u001b[39mappend(metrics)\n\u001b[1;32m     22\u001b[0m Precision \u001b[39m=\u001b[39m np\u001b[39m.\u001b[39mmean([d[\u001b[39m\"\u001b[39m\u001b[39mprecision\u001b[39m\u001b[39m\"\u001b[39m] \u001b[39mfor\u001b[39;00m d \u001b[39min\u001b[39;00m res])\n",
      "Cell \u001b[0;32mIn[9], line 17\u001b[0m, in \u001b[0;36madjacency_relation_per_image_dbscan\u001b[0;34m(gt, pred, iou_threshold)\u001b[0m\n\u001b[1;32m     15\u001b[0m \u001b[39mfor\u001b[39;00m idx, g \u001b[39min\u001b[39;00m \u001b[39menumerate\u001b[39m(gt):\n\u001b[1;32m     16\u001b[0m     iou \u001b[39m=\u001b[39m pd\u001b[39m.\u001b[39mSeries([calc_iou_individual(p[:\u001b[39m4\u001b[39m], g[:\u001b[39m4\u001b[39m]) \u001b[39mfor\u001b[39;00m p \u001b[39min\u001b[39;00m pred])\n\u001b[0;32m---> 17\u001b[0m     max_idx \u001b[39m=\u001b[39m iou\u001b[39m.\u001b[39;49margmax()\n\u001b[1;32m     18\u001b[0m     max_idx \u001b[39m=\u001b[39m max_idx \u001b[39mif\u001b[39;00m iou[max_idx] \u001b[39m>\u001b[39m iou_threshold \u001b[39melse\u001b[39;00m np\u001b[39m.\u001b[39mnan\n\u001b[1;32m     19\u001b[0m     matched_gt[idx, \u001b[39m4\u001b[39m] \u001b[39m=\u001b[39m max_idx\n",
      "File \u001b[0;32m~/miniconda3/envs/mmdet_edit/lib/python3.8/site-packages/pandas/core/base.py:655\u001b[0m, in \u001b[0;36mIndexOpsMixin.argmax\u001b[0;34m(self, axis, skipna, *args, **kwargs)\u001b[0m\n\u001b[1;32m    651\u001b[0m         \u001b[39mreturn\u001b[39;00m delegate\u001b[39m.\u001b[39margmax()\n\u001b[1;32m    652\u001b[0m \u001b[39melse\u001b[39;00m:\n\u001b[1;32m    653\u001b[0m     \u001b[39m# error: Incompatible return value type (got \"Union[int, ndarray]\", expected\u001b[39;00m\n\u001b[1;32m    654\u001b[0m     \u001b[39m# \"int\")\u001b[39;00m\n\u001b[0;32m--> 655\u001b[0m     \u001b[39mreturn\u001b[39;00m nanops\u001b[39m.\u001b[39;49mnanargmax(  \u001b[39m# type: ignore[return-value]\u001b[39;49;00m\n\u001b[1;32m    656\u001b[0m         delegate, skipna\u001b[39m=\u001b[39;49mskipna\n\u001b[1;32m    657\u001b[0m     )\n",
      "File \u001b[0;32m~/miniconda3/envs/mmdet_edit/lib/python3.8/site-packages/pandas/core/nanops.py:93\u001b[0m, in \u001b[0;36mdisallow.__call__.<locals>._f\u001b[0;34m(*args, **kwargs)\u001b[0m\n\u001b[1;32m     91\u001b[0m \u001b[39mtry\u001b[39;00m:\n\u001b[1;32m     92\u001b[0m     \u001b[39mwith\u001b[39;00m np\u001b[39m.\u001b[39merrstate(invalid\u001b[39m=\u001b[39m\u001b[39m\"\u001b[39m\u001b[39mignore\u001b[39m\u001b[39m\"\u001b[39m):\n\u001b[0;32m---> 93\u001b[0m         \u001b[39mreturn\u001b[39;00m f(\u001b[39m*\u001b[39;49margs, \u001b[39m*\u001b[39;49m\u001b[39m*\u001b[39;49mkwargs)\n\u001b[1;32m     94\u001b[0m \u001b[39mexcept\u001b[39;00m \u001b[39mValueError\u001b[39;00m \u001b[39mas\u001b[39;00m e:\n\u001b[1;32m     95\u001b[0m     \u001b[39m# we want to transform an object array\u001b[39;00m\n\u001b[1;32m     96\u001b[0m     \u001b[39m# ValueError message to the more typical TypeError\u001b[39;00m\n\u001b[1;32m     97\u001b[0m     \u001b[39m# e.g. this is normally a disallowed function on\u001b[39;00m\n\u001b[1;32m     98\u001b[0m     \u001b[39m# object arrays that contain strings\u001b[39;00m\n\u001b[1;32m     99\u001b[0m     \u001b[39mif\u001b[39;00m is_object_dtype(args[\u001b[39m0\u001b[39m]):\n",
      "File \u001b[0;32m~/miniconda3/envs/mmdet_edit/lib/python3.8/site-packages/pandas/core/nanops.py:1104\u001b[0m, in \u001b[0;36mnanargmax\u001b[0;34m(values, axis, skipna, mask)\u001b[0m\n\u001b[1;32m   1102\u001b[0m values, mask, _, _, _ \u001b[39m=\u001b[39m _get_values(values, \u001b[39mTrue\u001b[39;00m, fill_value_typ\u001b[39m=\u001b[39m\u001b[39m\"\u001b[39m\u001b[39m-inf\u001b[39m\u001b[39m\"\u001b[39m, mask\u001b[39m=\u001b[39mmask)\n\u001b[1;32m   1103\u001b[0m \u001b[39m# error: Need type annotation for 'result'\u001b[39;00m\n\u001b[0;32m-> 1104\u001b[0m result \u001b[39m=\u001b[39m values\u001b[39m.\u001b[39;49margmax(axis)  \u001b[39m# type: ignore[var-annotated]\u001b[39;00m\n\u001b[1;32m   1105\u001b[0m result \u001b[39m=\u001b[39m _maybe_arg_null_out(result, axis, mask, skipna)\n\u001b[1;32m   1106\u001b[0m \u001b[39mreturn\u001b[39;00m result\n",
      "\u001b[0;31mValueError\u001b[0m: attempt to get argmax of an empty sequence"
     ]
    }
   ],
   "source": [
    "conf_threshold = 0.5\n",
    "iou_threshold = 0.9\n",
    "res = []\n",
    "for idx in tqdm(range(int(len(dataset)))):\n",
    "    anno = dataset.get_ann_info(idx=idx)\n",
    "    boxes = anno[\"bboxes\"]\n",
    "    segm_path = anno[\"seg_map\"]\n",
    "    xml_path = f\"/home/aiarhipov/datasets/WTW-dataset/test/xml/{segm_path[:-4]}.xml\"\n",
    "    img_path = f\"/home/aiarhipov/datasets/WTW-dataset/test/images/{segm_path[:-4]}.jpg\"\n",
    "    \n",
    "    gt_boxes = xml_to_np(xml_path)\n",
    "    pred = inference_detector(model, img_path)[0]\n",
    "    conf_indexes = py_cpu_softnms(pred[:, :4], pred[:, 4], thresh=0.475, method=2)\n",
    "    conf_pred = pred[conf_indexes]\n",
    "    if conf_pred.shape[0] > 1:\n",
    "        conf_pred = dbscan_result_to_aligned_result([conf_pred])\n",
    "        if conf_pred:\n",
    "            conf_pred = conf_pred[0]\n",
    "            metrics = adjacency_relation_per_image_dbscan(gt_boxes, conf_pred)\n",
    "            res.append(metrics)\n",
    "\n",
    "Precision = np.mean([d[\"precision\"] for d in res])\n",
    "Recall = np.mean([d[\"recall\"] for d in res])\n",
    "\n",
    "print(f\"Precision = {Precision}\")\n",
    "print(f\"Recall = {Recall}\")\n"
   ]
  },
  {
   "cell_type": "code",
   "execution_count": 16,
   "metadata": {},
   "outputs": [
    {
     "data": {
      "text/plain": [
       "array([[ 11.,  15., 109.,  47.,   0.,   0.,   0.,   0.],\n",
       "       [ 11., 423., 122., 460.,   8.,   8.,   0.,   0.],\n",
       "       [ 11., 460., 122., 495.,   9.,   9.,   0.,   0.],\n",
       "       [ 11., 495., 122., 531.,  10.,  10.,   0.,   0.],\n",
       "       [ 11., 531., 122., 569.,  11.,  11.,   0.,   0.],\n",
       "       [ 11., 569., 122., 604.,  12.,  12.,   0.,   0.],\n",
       "       [ 11., 604., 122., 640.,  13.,  13.,   0.,   0.],\n",
       "       [ 11., 640., 122., 676.,  14.,  14.,   0.,   0.],\n",
       "       [ 11., 676., 122., 712.,  15.,  15.,   0.,   0.],\n",
       "       [ 11., 712., 122., 738.,  16.,  16.,   0.,   0.],\n",
       "       [ 12., 111., 840., 172.,   0.,   0.,   0.,   4.],\n",
       "       [ 12., 172., 122., 208.,   1.,   1.,   0.,   0.],\n",
       "       [ 12., 208., 122., 243.,   2.,   2.,   0.,   0.],\n",
       "       [ 12., 243., 122., 281.,   3.,   3.,   0.,   0.],\n",
       "       [ 12., 281., 122., 315.,   4.,   4.,   0.,   0.],\n",
       "       [ 12., 315., 122., 352.,   5.,   5.,   0.,   0.],\n",
       "       [ 12., 352., 122., 388.,   6.,   6.,   0.,   0.],\n",
       "       [ 12., 388., 122., 423.,   7.,   7.,   0.,   0.],\n",
       "       [108.,  15., 198.,  47.,   0.,   0.,   1.,   1.],\n",
       "       [122., 172., 301., 208.,   1.,   1.,   1.,   1.],\n",
       "       [122., 208., 301., 243.,   2.,   2.,   1.,   1.],\n",
       "       [122., 243., 301., 281.,   3.,   3.,   1.,   1.],\n",
       "       [122., 281., 301., 316.,   4.,   4.,   1.,   1.],\n",
       "       [122., 315., 300., 352.,   5.,   5.,   1.,   1.],\n",
       "       [122., 352., 300., 388.,   6.,   6.,   1.,   1.],\n",
       "       [122., 388., 300., 424.,   7.,   7.,   1.,   1.],\n",
       "       [122., 423., 300., 460.,   8.,   8.,   1.,   1.],\n",
       "       [122., 460., 300., 495.,   9.,   9.,   1.,   1.],\n",
       "       [122., 495., 300., 531.,  10.,  10.,   1.,   1.],\n",
       "       [122., 531., 300., 569.,  11.,  11.,   1.,   1.],\n",
       "       [122., 569., 300., 604.,  12.,  12.,   1.,   1.],\n",
       "       [122., 604., 299., 640.,  13.,  13.,   1.,   1.],\n",
       "       [122., 640., 299., 676.,  14.,  14.,   1.,   1.],\n",
       "       [122., 676., 299., 712.,  15.,  15.,   1.,   1.],\n",
       "       [122., 712., 299., 738.,  16.,  16.,   1.,   1.],\n",
       "       [197.,  15., 304.,  47.,   0.,   0.,   2.,   2.],\n",
       "       [299., 568., 480., 604.,  12.,  12.,   2.,   2.],\n",
       "       [299., 603., 480., 640.,  13.,  13.,   2.,   2.],\n",
       "       [299., 640., 480., 677.,  14.,  14.,   2.,   2.],\n",
       "       [299., 676., 480., 712.,  15.,  15.,   2.,   2.],\n",
       "       [299., 712., 480., 738.,  16.,  16.,   2.,   2.],\n",
       "       [300., 281., 479., 316.,   4.,   4.,   2.,   2.],\n",
       "       [300., 316., 479., 352.,   5.,   5.,   2.,   2.],\n",
       "       [300., 352., 479., 388.,   6.,   6.,   2.,   2.],\n",
       "       [300., 388., 479., 424.,   7.,   7.,   2.,   2.],\n",
       "       [300., 424., 480., 460.,   8.,   8.,   2.,   2.],\n",
       "       [300., 460., 480., 496.,   9.,   9.,   2.,   2.],\n",
       "       [300., 495., 480., 532.,  10.,  10.,   2.,   2.],\n",
       "       [300., 531., 480., 569.,  11.,  11.,   2.,   2.],\n",
       "       [301., 171., 479., 208.,   1.,   1.,   2.,   2.],\n",
       "       [301., 208., 479., 244.,   2.,   2.,   2.,   2.],\n",
       "       [301., 243., 479., 281.,   3.,   3.,   2.,   2.],\n",
       "       [303.,  15., 428.,  47.,   0.,   0.,   3.,   3.],\n",
       "       [427.,  14., 539.,  48.,   0.,   0.,   4.,   4.],\n",
       "       [479., 171., 658., 208.,   1.,   1.,   3.,   3.],\n",
       "       [479., 208., 658., 244.,   2.,   2.,   3.,   3.],\n",
       "       [479., 244., 658., 281.,   3.,   3.,   3.,   3.],\n",
       "       [479., 281., 658., 317.,   4.,   4.,   3.,   3.],\n",
       "       [479., 316., 658., 352.,   5.,   5.,   3.,   3.],\n",
       "       [479., 352., 658., 388.,   6.,   6.,   3.,   3.],\n",
       "       [479., 388., 658., 425.,   7.,   7.,   3.,   3.],\n",
       "       [479., 424., 659., 460.,   8.,   8.,   3.,   3.],\n",
       "       [480., 460., 659., 496.,   9.,   9.,   3.,   3.],\n",
       "       [480., 496., 659., 532.,  10.,  10.,   3.,   3.],\n",
       "       [480., 532., 659., 568.,  11.,  11.,   3.,   3.],\n",
       "       [480., 568., 659., 603.,  12.,  12.,   3.,   3.],\n",
       "       [480., 603., 659., 640.,  13.,  13.,   3.,   3.],\n",
       "       [480., 640., 659., 677.,  14.,  14.,   3.,   3.],\n",
       "       [480., 677., 659., 712.,  15.,  15.,   3.,   3.],\n",
       "       [480., 712., 659., 737.,  16.,  16.,   3.,   3.],\n",
       "       [539.,  14., 621.,  48.,   0.,   0.,   5.,   5.],\n",
       "       [621.,  14., 711.,  48.,   0.,   0.,   6.,   6.],\n",
       "       [658., 171., 840., 208.,   1.,   1.,   4.,   4.],\n",
       "       [658., 208., 840., 244.,   2.,   2.,   4.,   4.],\n",
       "       [658., 244., 841., 281.,   3.,   3.,   4.,   4.],\n",
       "       [658., 281., 841., 317.,   4.,   4.,   4.,   4.],\n",
       "       [658., 317., 841., 352.,   5.,   5.,   4.,   4.],\n",
       "       [658., 352., 841., 388.,   6.,   6.,   4.,   4.],\n",
       "       [658., 388., 841., 425.,   7.,   7.,   4.,   4.],\n",
       "       [658., 425., 841., 460.,   8.,   8.,   4.,   4.],\n",
       "       [659., 460., 841., 496.,   9.,   9.,   4.,   4.],\n",
       "       [659., 496., 841., 532.,  10.,  10.,   4.,   4.],\n",
       "       [659., 532., 841., 568.,  11.,  11.,   4.,   4.],\n",
       "       [659., 568., 842., 603.,  12.,  12.,   4.,   4.],\n",
       "       [659., 603., 842., 640.,  13.,  13.,   4.,   4.],\n",
       "       [659., 640., 842., 677.,  14.,  14.,   4.,   4.],\n",
       "       [659., 677., 842., 712.,  15.,  15.,   4.,   4.],\n",
       "       [659., 712., 842., 737.,  16.,  16.,   4.,   4.],\n",
       "       [711.,  14., 798.,  48.,   0.,   0.,   7.,   7.],\n",
       "       [797.,  14., 888.,  48.,   0.,   0.,   8.,   8.],\n",
       "       [887.,  14., 986.,  48.,   0.,   0.,   9.,   9.],\n",
       "       [985.,  14., 993.,  48.,   0.,   0.,  10.,  10.]])"
      ]
     },
     "execution_count": 16,
     "metadata": {},
     "output_type": "execute_result"
    }
   ],
   "source": [
    "a = gt_boxes\n",
    "a[np.lexsort((a[:,1],a[:,0]))]"
   ]
  },
  {
   "cell_type": "code",
   "execution_count": 27,
   "metadata": {},
   "outputs": [
    {
     "data": {
      "text/plain": [
       "(array([ 0,  0,  1,  1,  2,  2,  3,  3,  4,  4,  5,  5,  6,  6,  7,  7,  8,\n",
       "         8,  9,  9, 10, 10, 11, 11, 12, 12, 13, 13, 14, 14, 15, 15, 16, 16,\n",
       "        17, 17, 18, 18, 19, 19, 20, 20, 21, 21, 22, 22, 23, 23, 24, 24, 25,\n",
       "        25, 26, 26, 27, 27, 28, 28, 29, 29, 30, 30, 31, 31, 32, 32, 33, 33,\n",
       "        34, 34, 35, 35, 36, 36, 37, 37, 38, 38, 39, 39, 40, 40, 41, 41, 42,\n",
       "        42, 43, 43, 44, 44, 45, 45, 46, 46, 47, 47, 48, 48, 49, 49, 50, 50,\n",
       "        51, 51, 52, 52, 53, 53, 54, 54, 55, 55, 56, 56, 57, 57, 58, 58, 59,\n",
       "        59, 60, 60, 61, 61, 62, 62, 63, 63, 64, 64, 65, 65, 66, 66, 67, 67,\n",
       "        68, 68, 69, 69, 70, 70, 71, 71, 72, 72, 73, 73, 74, 74, 75, 75, 76,\n",
       "        76, 77, 77, 78, 78, 79, 79, 80, 80, 81, 81, 82, 82, 83, 83, 84, 84,\n",
       "        85, 85, 86, 86, 87, 87, 88, 88, 89, 89, 90, 90, 91, 91]),\n",
       " array([0, 1, 0, 1, 0, 1, 0, 1, 0, 1, 0, 1, 0, 1, 0, 1, 0, 1, 0, 1, 0, 1,\n",
       "        0, 1, 0, 1, 0, 1, 0, 1, 0, 1, 0, 1, 0, 1, 0, 1, 0, 1, 0, 1, 0, 1,\n",
       "        0, 1, 0, 1, 0, 1, 0, 1, 0, 1, 0, 1, 0, 1, 0, 1, 0, 1, 0, 1, 0, 1,\n",
       "        0, 1, 0, 1, 0, 1, 0, 1, 0, 1, 0, 1, 0, 1, 0, 1, 0, 1, 0, 1, 0, 1,\n",
       "        0, 1, 0, 1, 0, 1, 0, 1, 0, 1, 0, 1, 0, 1, 0, 1, 0, 1, 0, 1, 0, 1,\n",
       "        0, 1, 0, 1, 0, 1, 0, 1, 0, 1, 0, 1, 0, 1, 0, 1, 0, 1, 0, 1, 0, 1,\n",
       "        0, 1, 0, 1, 0, 1, 0, 1, 0, 1, 0, 1, 0, 1, 0, 1, 0, 1, 0, 1, 0, 1,\n",
       "        0, 1, 0, 1, 0, 1, 0, 1, 0, 1, 0, 1, 0, 1, 0, 1, 0, 1, 0, 1, 0, 1,\n",
       "        0, 1, 0, 1, 0, 1, 0, 1]))"
      ]
     },
     "execution_count": 27,
     "metadata": {},
     "output_type": "execute_result"
    }
   ],
   "source": [
    "np.where(a[:, :2] == np.unique(a[:, :2], axis=1))"
   ]
  },
  {
   "cell_type": "code",
   "execution_count": 19,
   "metadata": {},
   "outputs": [
    {
     "data": {
      "text/plain": [
       "[array([109., 122., 122., 122., 122., 122., 122., 122., 122., 122.]),\n",
       " array([840., 122., 122., 122., 122., 122., 122., 122.]),\n",
       " array([198.]),\n",
       " array([301., 301., 301., 301., 300., 300., 300., 300., 300., 300., 300.,\n",
       "        300., 299., 299., 299., 299.]),\n",
       " array([304.]),\n",
       " array([480., 480., 480., 480., 480.]),\n",
       " array([479., 479., 479., 479., 480., 480., 480., 480.]),\n",
       " array([479., 479., 479.]),\n",
       " array([428.]),\n",
       " array([539.]),\n",
       " array([658., 658., 658., 658., 658., 658., 658., 659.]),\n",
       " array([659., 659., 659., 659., 659., 659., 659., 659.]),\n",
       " array([621.]),\n",
       " array([711.]),\n",
       " array([840., 840., 841., 841., 841., 841., 841., 841.]),\n",
       " array([841., 841., 841., 842., 842., 842., 842., 842.]),\n",
       " array([798.]),\n",
       " array([888.]),\n",
       " array([986.]),\n",
       " array([993.])]"
      ]
     },
     "execution_count": 19,
     "metadata": {},
     "output_type": "execute_result"
    }
   ],
   "source": [
    "a = gt_boxes\n",
    "a = a[np.lexsort((a[:,1],a[:,0]))]\n",
    "np.split(a[:, 2], np.unique(a[:, 0], return_index=True)[1][1:])"
   ]
  },
  {
   "cell_type": "code",
   "execution_count": 12,
   "metadata": {},
   "outputs": [
    {
     "data": {
      "text/plain": [
       "[array([ 15., 495., 423., 531., 569., 460., 640., 676., 604., 712.]),\n",
       " array([208., 315., 243., 352., 388., 281., 172., 111.]),\n",
       " array([15.]),\n",
       " array([388., 281., 423., 531., 352., 315., 495., 676., 569., 604., 172.,\n",
       "        640., 208., 712., 460., 243.]),\n",
       " array([15.]),\n",
       " array([568., 603., 712., 640., 676.]),\n",
       " array([460., 281., 424., 495., 316., 352., 531., 388.]),\n",
       " array([171., 243., 208.]),\n",
       " array([15.]),\n",
       " array([14.]),\n",
       " array([388., 244., 424., 171., 208., 352., 281., 316.]),\n",
       " array([677., 640., 603., 568., 460., 532., 496., 712.]),\n",
       " array([14.]),\n",
       " array([14.]),\n",
       " array([352., 317., 171., 281., 388., 208., 425., 244.]),\n",
       " array([496., 532., 640., 460., 677., 568., 603., 712.]),\n",
       " array([14.]),\n",
       " array([14.]),\n",
       " array([14.]),\n",
       " array([14.])]"
      ]
     },
     "execution_count": 12,
     "metadata": {},
     "output_type": "execute_result"
    }
   ],
   "source": [
    "a = gt_boxes\n",
    "a = a[a[:, 0].argsort()]\n",
    "np.split(a[:, 1], np.unique(a[:, 0], return_index=True)[1][1:])"
   ]
  },
  {
   "cell_type": "code",
   "execution_count": 28,
   "metadata": {},
   "outputs": [
    {
     "data": {
      "text/plain": [
       "0.00125"
      ]
     },
     "execution_count": 28,
     "metadata": {},
     "output_type": "execute_result"
    }
   ],
   "source": [
    "1.25/1000"
   ]
  },
  {
   "cell_type": "code",
   "execution_count": null,
   "metadata": {},
   "outputs": [],
   "source": []
  }
 ],
 "metadata": {
  "kernelspec": {
   "display_name": "mmdet_edit",
   "language": "python",
   "name": "python3"
  },
  "language_info": {
   "codemirror_mode": {
    "name": "ipython",
    "version": 3
   },
   "file_extension": ".py",
   "mimetype": "text/x-python",
   "name": "python",
   "nbconvert_exporter": "python",
   "pygments_lexer": "ipython3",
   "version": "3.8.15"
  },
  "orig_nbformat": 4
 },
 "nbformat": 4,
 "nbformat_minor": 2
}
