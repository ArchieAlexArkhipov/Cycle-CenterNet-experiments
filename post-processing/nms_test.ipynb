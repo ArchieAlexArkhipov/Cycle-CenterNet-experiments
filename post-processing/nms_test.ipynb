{
 "cells": [
  {
   "cell_type": "code",
   "execution_count": null,
   "metadata": {},
   "outputs": [],
   "source": [
    "img_path = '/home/aiarhipov/centernet/imgs/0d995a743dccbda88af4955cd07ab5bf3b8b663e.jpg'  # or img = mmcv.imread(img), which will only load it once\n",
    "res = inference_detector(model, img_path)\n",
    "res1 = res\n",
    "threshold = 0.5\n",
    "show_result_pyplot(model, img_path, res, score_thr = threshold, out_file = \"/home/aiarhipov/centernet/imgs/output.jpg\")\n",
    "res_algo2 = algo2_result_to_aligned_result(res1, threshold=threshold, r=0.2)\n",
    "res_dbscan = dbscan_result_to_aligned_result(res1, threshold=threshold)\n",
    "_res_algo2 = res_algo2\n",
    "_res_dbscan = res_dbscan\n",
    "show_result_pyplot(model, img_path, _res_algo2, score_thr = threshold, out_file = \"/home/aiarhipov/centernet/imgs/output_algo2.jpg\")\n",
    "show_result_pyplot(model, img_path, _res_dbscan, score_thr = threshold, out_file = \"/home/aiarhipov/centernet/imgs/output_dbscan.jpg\")\n",
    "show_result_pyplot(model, img_path, _res_algo2, score_thr = threshold)\n",
    "pred = _res_algo2[0]\n",
    "conf_indexes = py_cpu_softnms(pred[:, :4], pred[:, 4], thresh=0.475, method=3)\n",
    "# print(f\"conf_indexes = {conf_indexes}\")\n",
    "conf_pred = pred[conf_indexes]\n",
    "show_result_pyplot(model, img_path, [conf_pred], score_thr = 0.)\n",
    "# conf_pred\n",
    "conf_pred[conf_pred[:, 0].argsort()]\n",
    "from nms import nms\n",
    "conf_pred = res[0]\n",
    "conf_pred[:, 2] = conf_pred[:, 2] - conf_pred[:, 0]\n",
    "conf_pred[:, 3] = conf_pred[:, 3] - conf_pred[:, 1]\n",
    "bboxes_nms = conf_pred[nms.boxes(conf_pred[:, :4], conf_pred[:, 4])]\n",
    "show_result_pyplot(model, img_path, [bboxes_nms], score_thr = 0)\n",
    "\n",
    "\n",
    "pred = res_dbscan[0]\n",
    "conf_indexes = py_cpu_softnms(pred[:, :4], pred[:, 4], thresh=0.475, method=3)\n",
    "# print(f\"conf_indexes = {conf_indexes}\")\n",
    "conf_pred = pred[conf_indexes]\n",
    "conf_pred\n",
    "xml_path = f\"/home/aiarhipov/datasets/WTW-dataset/test/xml/{segm_path[:-4]}.xml\"\n",
    "\n",
    "gt_boxes = xml_to_np(xml_path)"
   ]
  }
 ],
 "metadata": {
  "language_info": {
   "name": "python"
  },
  "orig_nbformat": 4
 },
 "nbformat": 4,
 "nbformat_minor": 2
}
