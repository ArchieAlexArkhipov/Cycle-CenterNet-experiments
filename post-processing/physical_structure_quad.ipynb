{
 "cells": [
  {
   "cell_type": "code",
   "execution_count": 1,
   "metadata": {},
   "outputs": [],
   "source": [
    "import numpy as np\n",
    "from tqdm.notebook import tqdm\n",
    "\n",
    "from mmcv import Config\n",
    "from mmdet.apis import set_random_seed\n",
    "from mmdet.apis import init_detector, inference_detector\n",
    "from mmdet.datasets import build_dataset\n",
    "from mmdet.models import build_detector\n",
    "\n",
    "from xml_to_np import xml_to_np, all_xml_to_np\n",
    "from AP import get_single_image_results\n",
    "from soft_nms import py_cpu_softnms\n",
    "from dbscan_result_to_aligned_result import dbscan_result_to_aligned_result\n",
    "from utils import detect_quads, get_free_gpu"
   ]
  },
  {
   "cell_type": "code",
   "execution_count": 2,
   "metadata": {},
   "outputs": [
    {
     "name": "stdout",
     "output_type": "stream",
     "text": [
      "loading annotations into memory...\n",
      "Done (t=13.24s)\n",
      "creating index...\n",
      "index created!\n",
      "Using GPU=3\n"
     ]
    },
    {
     "name": "stderr",
     "output_type": "stream",
     "text": [
      "2023-06-19 17:47:04,999 - root - INFO - ModulatedDeformConvPack neck.deconv_layers.0.conv is upgraded to version 2.\n",
      "2023-06-19 17:47:05,002 - root - INFO - ModulatedDeformConvPack neck.deconv_layers.2.conv is upgraded to version 2.\n",
      "2023-06-19 17:47:05,005 - root - INFO - ModulatedDeformConvPack neck.deconv_layers.4.conv is upgraded to version 2.\n"
     ]
    },
    {
     "name": "stdout",
     "output_type": "stream",
     "text": [
      "load checkpoint from local path: /home/aiarhipov/centernet/exps/32_quad_long/latest.pth\n"
     ]
    },
    {
     "data": {
      "application/vnd.jupyter.widget-view+json": {
       "model_id": "971e25c386b04d7292e8cc6666ea15cc",
       "version_major": 2,
       "version_minor": 0
      },
      "text/plain": [
       "  0%|          | 0/3611 [00:00<?, ?it/s]"
      ]
     },
     "metadata": {},
     "output_type": "display_data"
    },
    {
     "name": "stderr",
     "output_type": "stream",
     "text": [
      "/home/aiarhipov/miniconda3/envs/mmdet_edit/lib/python3.8/site-packages/shapely/set_operations.py:133: RuntimeWarning: invalid value encountered in intersection\n",
      "  return lib.intersection(a, b, **kwargs)\n"
     ]
    },
    {
     "name": "stdout",
     "output_type": "stream",
     "text": [
      "Precision = 0.5, Recall = 0.25, F1 = 0.3333333333333333\n",
      "Precision = 0.5911214953271028, Recall = 0.42418032786885246, F1 = 0.4854439592430859\n",
      "Precision = 0.6825425353462737, Recall = 0.5712484237074401, F1 = 0.6120908446235958\n",
      "Precision = 0.6695155971618793, Recall = 0.5665315558758182, F1 = 0.606276255295108\n",
      "Precision = 0.68251513259676, Recall = 0.597573070787611, F1 = 0.6306350393238057\n",
      "Precision = 0.6672474589821485, Recall = 0.5535331145452315, F1 = 0.596567450802625\n",
      "Precision = 0.6811700908922618, Recall = 0.5815998124673413, F1 = 0.6195266083162583\n",
      "Precision = 0.6982965568034563, Recall = 0.6311824446045757, F1 = 0.6534719208905874\n",
      "Precision = 0.7076645722310916, Recall = 0.6190220763634876, F1 = 0.6504291470718264\n",
      "Precision = 0.7218296218572975, Recall = 0.6267827900754535, F1 = 0.661929442241187\n",
      "Precision = 0.7433299592642097, Recall = 0.631299862635439, F1 = 0.6738543518807029\n",
      "Precision = 0.7538966185030148, Recall = 0.6443778152589563, F1 = 0.6866298637095744\n",
      "Precision = 0.767129642150931, Recall = 0.6467853429833194, F1 = 0.6939083357319148\n",
      "Precision = 0.7678902232671344, Recall = 0.6460409353676277, F1 = 0.6943434546082065\n",
      "Precision = 0.7766975417159921, Recall = 0.6629715396764525, F1 = 0.7080538909676595\n",
      "Precision = 0.7844039453587426, Recall = 0.6637233184466742, F1 = 0.7120148084964666\n",
      "Precision = 0.7713507721023459, Recall = 0.6525445473925354, F1 = 0.7003836853075988\n",
      "Precision = 0.7284979514299934, Recall = 0.6162920725373946, F1 = 0.6614734805682878\n",
      "Precision = 0.736747843546275, Recall = 0.6236053716272556, F1 = 0.6695587889395695\n",
      "Precision = 0.7329539296298309, Recall = 0.6105635278668953, F1 = 0.6595014966420518\n",
      "Precision = 0.7354663275386144, Recall = 0.6105896032594769, F1 = 0.6608347587067159\n"
     ]
    }
   ],
   "source": [
    "conf_threshold = 0.1\n",
    "iou_threshold = 0.9\n",
    "\n",
    "checkpoint_file=\"/home/aiarhipov/centernet/exps/32_quad_long/latest.pth\"\n",
    "config_file = \"/home/aiarhipov/centernet/exps/32_quad_long/config.py\"\n",
    "cfg = Config.fromfile(config_file)\n",
    "set_random_seed(0, deterministic=False)\n",
    "dataset = build_dataset(cfg.data.test)\n",
    "\n",
    "\n",
    "# model = init_detector(config_file, checkpoint_file, device=f\"cpu\")\n",
    "model = init_detector(config_file, checkpoint_file, device=f\"cuda:{get_free_gpu()}\")\n",
    "model.CLASSES = (\"box\",)\n",
    "\n",
    "res = []\n",
    "for idx in tqdm(range(int(len(dataset)))):\n",
    "    anno = dataset.get_ann_info(idx=idx)\n",
    "    boxes = anno[\"bboxes\"]\n",
    "    segm_path = anno[\"seg_map\"]\n",
    "    xml_path = f\"/home/aiarhipov/datasets/WTW-dataset/test/xml/{segm_path[:-4]}.xml\"\n",
    "    img_path = f\"/home/aiarhipov/datasets/WTW-dataset/test/images/{segm_path[:-4]}.jpg\"\n",
    "    \n",
    "    gt_boxes = all_xml_to_np(xml_path)\n",
    "\n",
    "    quads = detect_quads(img_path, model, integer=False)\n",
    "    quads = quads[quads[:, 8] > conf_threshold]\n",
    "    \n",
    "    boxes = np.vstack([(quads[:, 0] + quads[:, 6]) / 2, \n",
    "                       (quads[:, 1] + quads[:, 3]) / 2, \n",
    "                       (quads[:, 2] + quads[:, 4]) / 2, \n",
    "                       (quads[:, 5] + quads[:, 7]) / 2]).T\n",
    "    \n",
    "    nms_indexes = py_cpu_softnms(boxes, quads[:, 8], thresh=0.475, method=2)\n",
    "    nms_quads = quads[nms_indexes]\n",
    "\n",
    "    metrics = get_single_image_results(gt_boxes[:, :8], nms_quads[:, :8], iou_thr=iou_threshold, quad=True)\n",
    "    \n",
    "    if (metrics[\"true_pos\"] + metrics[\"false_pos\"]) != 0:\n",
    "        metrics[\"Precision\"] = metrics[\"true_pos\"] / (metrics[\"true_pos\"] + metrics[\"false_pos\"])\n",
    "    else:\n",
    "        metrics[\"Precision\"] = 0\n",
    "        \n",
    "    if (metrics[\"true_pos\"] + metrics[\"false_neg\"]) != 0:\n",
    "        metrics[\"Recall\"] = metrics[\"true_pos\"] / (metrics[\"true_pos\"] + metrics[\"false_neg\"])\n",
    "    else:\n",
    "        metrics[\"Recall\"] = 0\n",
    "        \n",
    "    if (metrics[\"Precision\"] + metrics[\"Recall\"]) != 0:\n",
    "        metrics[\"F1\"] = 2 * metrics[\"Precision\"] * metrics[\"Recall\"] / (metrics[\"Precision\"] + metrics[\"Recall\"])\n",
    "    else:\n",
    "        metrics[\"F1\"] = 0\n",
    "        \n",
    "    res.append(metrics)\n",
    "\n",
    "    Precision = np.mean([d[\"Precision\"] for d in res])\n",
    "    Recall = np.mean([d[\"Recall\"] for d in res])\n",
    "    F1 = np.mean([d[\"F1\"] for d in res])\n",
    "\n",
    "    print(f\"Precision = {Precision}, Recall = {Recall}, F1 = {F1}\")\n",
    "Precision = np.mean([d[\"Precision\"] for d in res])\n",
    "Recall = np.mean([d[\"Recall\"] for d in res])\n",
    "F1 = np.mean([d[\"F1\"] for d in res])\n",
    "\n",
    "print(f\"Precision = {Precision}\")\n",
    "print(f\"Recall = {Recall}\")\n",
    "print(f\"F1 = {F1}\")"
   ]
  },
  {
   "cell_type": "code",
   "execution_count": null,
   "metadata": {},
   "outputs": [],
   "source": []
  }
 ],
 "metadata": {
  "kernelspec": {
   "display_name": "mmdet_edit",
   "language": "python",
   "name": "python3"
  },
  "language_info": {
   "codemirror_mode": {
    "name": "ipython",
    "version": 3
   },
   "file_extension": ".py",
   "mimetype": "text/x-python",
   "name": "python",
   "nbconvert_exporter": "python",
   "pygments_lexer": "ipython3",
   "version": "3.8.15"
  },
  "orig_nbformat": 4,
  "vscode": {
   "interpreter": {
    "hash": "460ca83c92312ba8330185f2e6aecdc2df2cb312e6f21370f999685df633c41e"
   }
  }
 },
 "nbformat": 4,
 "nbformat_minor": 2
}
