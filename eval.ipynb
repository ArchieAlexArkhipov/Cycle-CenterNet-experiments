{
 "cells": [
  {
   "cell_type": "code",
   "execution_count": 42,
   "metadata": {},
   "outputs": [
    {
     "name": "stderr",
     "output_type": "stream",
     "text": [
      "2023-01-13 22:53:22,652 - root - INFO - ModulatedDeformConvPack neck.deconv_layers.0.conv is upgraded to version 2.\n",
      "2023-01-13 22:53:22,654 - root - INFO - ModulatedDeformConvPack neck.deconv_layers.2.conv is upgraded to version 2.\n",
      "2023-01-13 22:53:22,656 - root - INFO - ModulatedDeformConvPack neck.deconv_layers.4.conv is upgraded to version 2.\n"
     ]
    },
    {
     "name": "stdout",
     "output_type": "stream",
     "text": [
      "load checkpoint from local path: /home/aiarhipov/centernet/exps/19_eval/epoch60_resnet34_batch2.pth\n"
     ]
    }
   ],
   "source": [
    "from mmdet.apis import init_detector, inference_detector, show_result_pyplot\n",
    "import mmcv\n",
    "\n",
    "# Specify the path to model config and checkpoint file\n",
    "config_file = '/home/aiarhipov/centernet/exps/19_eval/config.py'\n",
    "checkpoint_file = '/home/aiarhipov/centernet/exps/19_eval/epoch60_resnet34_batch2.pth'\n",
    "\n",
    "# build the model from a config file and a checkpoint file\n",
    "model = init_detector(config_file, checkpoint_file, device='cuda:0')\n",
    "\n",
    "# test a single image and show the results\n",
    "img_path = '/home/aiarhipov/centernet/imgs/0c38706d33642e2c68389688009a4c3958601299.jpg'  # or img = mmcv.imread(img), which will only load it once\n",
    "res = inference_detector(model, img_path)\n",
    "result = res\n",
    "# visualize the results in a new window\n",
    "# model.show_result(img, result)\n",
    "# or save the visualization results to image files\n",
    "# model.show_result(img, result, out_file='result.jpg')\n",
    "show_result_pyplot(model, img_path, res, score_thr = 0.89, out_file = \"/home/aiarhipov/centernet/imgs/output.jpg\")"
   ]
  },
  {
   "cell_type": "code",
   "execution_count": 44,
   "metadata": {},
   "outputs": [
    {
     "name": "stdout",
     "output_type": "stream",
     "text": [
      "min_samples =  4\n",
      "x_label = 0, x_mean = 95\n",
      "x_label = 1, x_mean = 502\n",
      "x_label = 2, x_mean = 765\n",
      "x_label = 3, x_mean = 870\n",
      "x_label = 4, x_mean = 659\n",
      "x_label = 5, x_mean = 586\n",
      "x_label = 6, x_mean = 990\n",
      "x_label = 7, x_mean = 34\n",
      "x_label = -1, x_mean = 280\n",
      "y_label = 0, y_mean = 543\n",
      "y_label = 1, y_mean = 613\n",
      "y_label = 2, y_mean = 475\n",
      "y_label = 3, y_mean = 270\n",
      "y_label = 4, y_mean = 338\n",
      "y_label = 5, y_mean = 407\n",
      "y_label = 6, y_mean = 203\n",
      "y_label = 7, y_mean = 683\n",
      "y_label = 8, y_mean = 166\n",
      "y_label = 9, y_mean = 138\n",
      "y_label = 10, y_mean = 8\n",
      "y_label = 11, y_mean = 79\n"
     ]
    }
   ],
   "source": [
    "import numpy as np\n",
    "import matplotlib.pyplot as plt\n",
    "from PIL import Image, ImageDraw\n",
    "from sklearn.cluster import DBSCAN\n",
    "from sklearn.preprocessing import MinMaxScaler\n",
    "\n",
    "boxes = result[0]\n",
    "threshold = 0.7\n",
    "confident_boxes = boxes[boxes[:, 4] > threshold]\n",
    "count_confident_boxes = confident_boxes.shape[0]\n",
    "\n",
    "X = confident_boxes[:, [0, 2]].flatten()\n",
    "Y = confident_boxes[:, [1, 3]].flatten()\n",
    "\n",
    "# plt.hist(X, bins=100, label=\"x\")\n",
    "# plt.hist(Y, bins=100, label=\"y\")\n",
    "\n",
    "X_scaled = MinMaxScaler().fit_transform(X.reshape((-1, 1)))\n",
    "Y_scaled = MinMaxScaler().fit_transform(Y.reshape((-1, 1)))\n",
    "\n",
    "min_samples = int(np.sqrt(count_confident_boxes) / 2)\n",
    "print(\"min_samples = \", min_samples)\n",
    "clustering_X = DBSCAN(eps=0.01, min_samples=min_samples).fit_predict(X_scaled) # .reshape((-1, 1))\n",
    "clustering_Y = DBSCAN(eps=0.01, min_samples=min_samples).fit_predict(Y_scaled) # .reshape((-1, 1))\n",
    "\n",
    "labels_X = set(clustering_X)\n",
    "labels_Y = set(clustering_Y)\n",
    "\n",
    "\n",
    "img = Image.open(img_path)\n",
    "draw = ImageDraw.Draw(img)\n",
    "colors = [(255,0,0), (255,255,0), (255,0,255)]\n",
    "\n",
    "for x in labels_X:\n",
    "    x_mean = int(np.mean(X[np.array(clustering_X) == x]))\n",
    "    print(f\"x_label = {x}, x_mean = {x_mean}\")\n",
    "    \n",
    "    endpoints = (x_mean, 5), (x_mean, 760)\n",
    "    draw.line(endpoints, fill=colors[0], width=1)\n",
    "    \n",
    "for y in labels_Y:\n",
    "    y_mean = int(np.mean(Y[np.array(clustering_Y) == y]))\n",
    "    print(f\"y_label = {y}, y_mean = {y_mean}\")\n",
    "    \n",
    "    endpoints = (5, y_mean), (1024, y_mean)\n",
    "    draw.line(endpoints, fill=colors[0], width=1)\n",
    "    \n",
    "img.save(\"/home/aiarhipov/centernet/imgs/output_lines.jpg\")"
   ]
  },
  {
   "cell_type": "code",
   "execution_count": null,
   "metadata": {},
   "outputs": [],
   "source": []
  }
 ],
 "metadata": {
  "kernelspec": {
   "display_name": "openmmlab",
   "language": "python",
   "name": "python3"
  },
  "language_info": {
   "codemirror_mode": {
    "name": "ipython",
    "version": 3
   },
   "file_extension": ".py",
   "mimetype": "text/x-python",
   "name": "python",
   "nbconvert_exporter": "python",
   "pygments_lexer": "ipython3",
   "version": "3.8.13"
  },
  "orig_nbformat": 4,
  "vscode": {
   "interpreter": {
    "hash": "876944e700ebef001417115bdb369a75b6fe4fdd21e5dac2e9dfdb6d9c3c2374"
   }
  }
 },
 "nbformat": 4,
 "nbformat_minor": 2
}
