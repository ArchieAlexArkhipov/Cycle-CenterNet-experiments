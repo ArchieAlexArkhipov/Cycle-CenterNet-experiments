{
 "cells": [
  {
   "cell_type": "code",
   "execution_count": 1,
   "metadata": {},
   "outputs": [
    {
     "name": "stderr",
     "output_type": "stream",
     "text": [
      "Failed to detect the name of this notebook, you can set it manually with the WANDB_NOTEBOOK_NAME environment variable to enable code saving.\n",
      "\u001b[34m\u001b[1mwandb\u001b[0m: Currently logged in as: \u001b[33marchiealexarkhipov\u001b[0m (\u001b[33mcenternet\u001b[0m). Use \u001b[1m`wandb login --relogin`\u001b[0m to force relogin\n"
     ]
    },
    {
     "name": "stdout",
     "output_type": "stream",
     "text": [
      "loading annotations into memory...\n",
      "Done (t=12.70s)\n",
      "creating index...\n",
      "index created!\n",
      "loading annotations into memory...\n",
      "Done (t=4.20s)\n",
      "creating index...\n",
      "index created!\n"
     ]
    },
    {
     "name": "stderr",
     "output_type": "stream",
     "text": [
      "2023-05-22 22:22:29,879 - mmdet - INFO - Automatic scaling of learning rate (LR) has been disabled.\n"
     ]
    },
    {
     "name": "stdout",
     "output_type": "stream",
     "text": [
      "loading annotations into memory...\n",
      "Done (t=5.38s)\n",
      "creating index...\n"
     ]
    },
    {
     "name": "stderr",
     "output_type": "stream",
     "text": [
      "2023-05-22 22:22:35,764 - mmdet - INFO - load checkpoint from local path: /home/aiarhipov/centernet/exps/27_seg/latest.pth\n"
     ]
    },
    {
     "name": "stdout",
     "output_type": "stream",
     "text": [
      "index created!\n"
     ]
    },
    {
     "name": "stderr",
     "output_type": "stream",
     "text": [
      "2023-05-22 22:22:41,103 - root - INFO - ModulatedDeformConvPack neck.deconv_layers.0.conv is upgraded to version 2.\n",
      "2023-05-22 22:22:41,106 - root - INFO - ModulatedDeformConvPack neck.deconv_layers.2.conv is upgraded to version 2.\n",
      "2023-05-22 22:22:41,109 - root - INFO - ModulatedDeformConvPack neck.deconv_layers.4.conv is upgraded to version 2.\n",
      "2023-05-22 22:22:41,138 - mmdet - INFO - resumed epoch 1, iter 1372\n",
      "2023-05-22 22:22:41,140 - mmdet - INFO - Start running, host: aiarhipov@lorien.atp-fivt.org, work_dir: /home/aiarhipov/centernet/exps/27_seg\n",
      "2023-05-22 22:22:41,141 - mmdet - INFO - Hooks will be executed in the following order:\n",
      "before_run:\n",
      "(VERY_HIGH   ) StepLrUpdaterHook                  \n",
      "(NORMAL      ) CheckpointHook                     \n",
      "(LOW         ) EvalHook                           \n",
      "(VERY_LOW    ) TextLoggerHook                     \n",
      "(VERY_LOW    ) TensorboardLoggerHook              \n",
      "(VERY_LOW    ) MMDetWandbHook                     \n",
      " -------------------- \n",
      "before_train_epoch:\n",
      "(VERY_HIGH   ) StepLrUpdaterHook                  \n",
      "(NORMAL      ) NumClassCheckHook                  \n",
      "(LOW         ) IterTimerHook                      \n",
      "(LOW         ) EvalHook                           \n",
      "(VERY_LOW    ) TextLoggerHook                     \n",
      "(VERY_LOW    ) TensorboardLoggerHook              \n",
      "(VERY_LOW    ) MMDetWandbHook                     \n",
      " -------------------- \n",
      "before_train_iter:\n",
      "(VERY_HIGH   ) StepLrUpdaterHook                  \n",
      "(LOW         ) IterTimerHook                      \n",
      "(LOW         ) EvalHook                           \n",
      " -------------------- \n",
      "after_train_iter:\n",
      "(ABOVE_NORMAL) OptimizerHook                      \n",
      "(NORMAL      ) CheckpointHook                     \n",
      "(LOW         ) IterTimerHook                      \n",
      "(LOW         ) EvalHook                           \n",
      "(VERY_LOW    ) TextLoggerHook                     \n",
      "(VERY_LOW    ) TensorboardLoggerHook              \n",
      "(VERY_LOW    ) MMDetWandbHook                     \n",
      " -------------------- \n",
      "after_train_epoch:\n",
      "(NORMAL      ) CheckpointHook                     \n",
      "(LOW         ) EvalHook                           \n",
      "(VERY_LOW    ) TextLoggerHook                     \n",
      "(VERY_LOW    ) TensorboardLoggerHook              \n",
      "(VERY_LOW    ) MMDetWandbHook                     \n",
      " -------------------- \n",
      "before_val_epoch:\n",
      "(NORMAL      ) NumClassCheckHook                  \n",
      "(LOW         ) IterTimerHook                      \n",
      "(VERY_LOW    ) TextLoggerHook                     \n",
      "(VERY_LOW    ) TensorboardLoggerHook              \n",
      "(VERY_LOW    ) MMDetWandbHook                     \n",
      " -------------------- \n",
      "before_val_iter:\n",
      "(LOW         ) IterTimerHook                      \n",
      " -------------------- \n",
      "after_val_iter:\n",
      "(LOW         ) IterTimerHook                      \n",
      " -------------------- \n",
      "after_val_epoch:\n",
      "(VERY_LOW    ) TextLoggerHook                     \n",
      "(VERY_LOW    ) TensorboardLoggerHook              \n",
      "(VERY_LOW    ) MMDetWandbHook                     \n",
      " -------------------- \n",
      "after_run:\n",
      "(VERY_LOW    ) TextLoggerHook                     \n",
      "(VERY_LOW    ) TensorboardLoggerHook              \n",
      "(VERY_LOW    ) MMDetWandbHook                     \n",
      " -------------------- \n",
      "2023-05-22 22:22:41,143 - mmdet - INFO - workflow: [('train', 1), ('val', 1)], max: 15 epochs\n",
      "2023-05-22 22:22:41,144 - mmdet - INFO - Checkpoints will be saved to /home/aiarhipov/centernet/exps/27_seg by HardDiskBackend.\n"
     ]
    },
    {
     "data": {
      "text/html": [
       "wandb version 0.15.3 is available!  To upgrade, please run:\n",
       " $ pip install wandb --upgrade"
      ],
      "text/plain": [
       "<IPython.core.display.HTML object>"
      ]
     },
     "metadata": {},
     "output_type": "display_data"
    },
    {
     "data": {
      "text/html": [
       "Tracking run with wandb version 0.13.7"
      ],
      "text/plain": [
       "<IPython.core.display.HTML object>"
      ]
     },
     "metadata": {},
     "output_type": "display_data"
    },
    {
     "data": {
      "text/html": [
       "Run data is saved locally in <code>/home/aiarhipov/centernet/exps/wandb/wandb/run-20230522_222241-rz0v6b8q</code>"
      ],
      "text/plain": [
       "<IPython.core.display.HTML object>"
      ]
     },
     "metadata": {},
     "output_type": "display_data"
    },
    {
     "data": {
      "text/html": [
       "Syncing run <strong><a href=\"https://wandb.ai/centernet/CenterNet/runs/rz0v6b8q\" target=\"_blank\">27_seg</a></strong> to <a href=\"https://wandb.ai/centernet/CenterNet\" target=\"_blank\">Weights & Biases</a> (<a href=\"https://wandb.me/run\" target=\"_blank\">docs</a>)<br/>"
      ],
      "text/plain": [
       "<IPython.core.display.HTML object>"
      ]
     },
     "metadata": {},
     "output_type": "display_data"
    },
    {
     "name": "stderr",
     "output_type": "stream",
     "text": [
      "2023-05-22 22:22:47,506 - mmdet - WARNING - No meta information found in the runner. \n",
      "\u001b[34m\u001b[1mwandb\u001b[0m:   12 of 12 files downloaded.  \n",
      "2023-05-22 22:24:04,014 - mmdet - INFO - Epoch [2][14/1372]\tlr: 1.250e-03, eta: 1 day, 1:15:36, time: 4.738, data_time: 0.223, memory: 2446, loss_center_heatmap: 2.0076, loss_offset: 54.5649, loss_c2v: 58.2079, loss_v2c: 39.8667, loss: 154.6471, grad_norm: 278.7663\n",
      "2023-05-22 22:25:38,789 - mmdet - INFO - Epoch [2][28/1372]\tlr: 1.250e-03, eta: 1 day, 6:39:15, time: 6.770, data_time: 0.030, memory: 2446, loss_center_heatmap: 1.8374, loss_offset: 60.0640, loss_c2v: 59.9528, loss_v2c: 39.3238, loss: 161.1782, grad_norm: 172.7682\n",
      "2023-05-22 22:26:59,914 - mmdet - INFO - Epoch [2][42/1372]\tlr: 1.250e-03, eta: 1 day, 6:42:16, time: 5.795, data_time: 0.023, memory: 2446, loss_center_heatmap: 1.6893, loss_offset: 57.8388, loss_c2v: 56.0191, loss_v2c: 39.6744, loss: 155.2216, grad_norm: 203.3596\n",
      "2023-05-22 22:28:19,379 - mmdet - INFO - Epoch [2][56/1372]\tlr: 1.250e-03, eta: 1 day, 6:33:39, time: 5.676, data_time: 0.027, memory: 2446, loss_center_heatmap: 1.7815, loss_offset: 53.6823, loss_c2v: 51.3291, loss_v2c: 39.0618, loss: 145.8548, grad_norm: 227.5651\n",
      "2023-05-22 22:29:50,971 - mmdet - INFO - Epoch [2][70/1372]\tlr: 1.250e-03, eta: 1 day, 7:23:11, time: 6.542, data_time: 0.029, memory: 2446, loss_center_heatmap: 1.8092, loss_offset: 56.5519, loss_c2v: 53.5757, loss_v2c: 39.5792, loss: 151.5159, grad_norm: 183.2511\n",
      "2023-05-22 22:30:49,205 - mmdet - INFO - Epoch [2][84/1372]\tlr: 1.250e-03, eta: 1 day, 5:49:09, time: 4.160, data_time: 0.020, memory: 2446, loss_center_heatmap: 1.8511, loss_offset: 50.2377, loss_c2v: 46.6262, loss_v2c: 37.4954, loss: 136.2105, grad_norm: 234.3992\n",
      "2023-05-22 22:32:21,188 - mmdet - INFO - Epoch [2][98/1372]\tlr: 1.250e-03, eta: 1 day, 6:31:22, time: 6.570, data_time: 0.030, memory: 2446, loss_center_heatmap: 1.7202, loss_offset: 62.7670, loss_c2v: 58.5622, loss_v2c: 40.2908, loss: 163.3403, grad_norm: 209.5346\n",
      "libpng warning: iCCP: known incorrect sRGB profile\n",
      "2023-05-22 22:34:02,834 - mmdet - INFO - Epoch [2][112/1372]\tlr: 1.250e-03, eta: 1 day, 7:30:07, time: 7.260, data_time: 0.033, memory: 2446, loss_center_heatmap: 1.6149, loss_offset: 60.5787, loss_c2v: 57.1044, loss_v2c: 41.5936, loss: 160.8915, grad_norm: 232.5685\n",
      "2023-05-22 22:35:15,092 - mmdet - INFO - Epoch [2][126/1372]\tlr: 1.250e-03, eta: 1 day, 7:01:15, time: 5.161, data_time: 0.025, memory: 2446, loss_center_heatmap: 1.7007, loss_offset: 49.8280, loss_c2v: 46.7486, loss_v2c: 39.7196, loss: 137.9968, grad_norm: 253.7240\n",
      "2023-05-22 22:36:39,996 - mmdet - INFO - Epoch [2][140/1372]\tlr: 1.250e-03, eta: 1 day, 7:06:38, time: 6.065, data_time: 0.025, memory: 2446, loss_center_heatmap: 1.7306, loss_offset: 55.9847, loss_c2v: 52.4378, loss_v2c: 39.6470, loss: 149.8001, grad_norm: 257.3659\n"
     ]
    },
    {
     "ename": "KeyboardInterrupt",
     "evalue": "",
     "output_type": "error",
     "traceback": [
      "\u001b[0;31m---------------------------------------------------------------------------\u001b[0m",
      "\u001b[0;31mKeyboardInterrupt\u001b[0m                         Traceback (most recent call last)",
      "Cell \u001b[0;32mIn[1], line 49\u001b[0m\n\u001b[1;32m     47\u001b[0m \u001b[39m# Create work_dir\u001b[39;00m\n\u001b[1;32m     48\u001b[0m mmcv\u001b[39m.\u001b[39mmkdir_or_exist(osp\u001b[39m.\u001b[39mabspath(cfg\u001b[39m.\u001b[39mwork_dir))\n\u001b[0;32m---> 49\u001b[0m train_detector(model, datasets, cfg, distributed\u001b[39m=\u001b[39;49m\u001b[39mFalse\u001b[39;49;00m, validate\u001b[39m=\u001b[39;49mval)\n",
      "File \u001b[0;32m~/mmdetection/mmdet/apis/train.py:244\u001b[0m, in \u001b[0;36mtrain_detector\u001b[0;34m(model, dataset, cfg, distributed, validate, timestamp, meta)\u001b[0m\n\u001b[1;32m    242\u001b[0m \u001b[39melif\u001b[39;00m cfg\u001b[39m.\u001b[39mload_from:\n\u001b[1;32m    243\u001b[0m     runner\u001b[39m.\u001b[39mload_checkpoint(cfg\u001b[39m.\u001b[39mload_from)\n\u001b[0;32m--> 244\u001b[0m runner\u001b[39m.\u001b[39;49mrun(data_loaders, cfg\u001b[39m.\u001b[39;49mworkflow)\n",
      "File \u001b[0;32m~/miniconda3/envs/mmdet_edit/lib/python3.8/site-packages/mmcv/runner/epoch_based_runner.py:136\u001b[0m, in \u001b[0;36mEpochBasedRunner.run\u001b[0;34m(self, data_loaders, workflow, max_epochs, **kwargs)\u001b[0m\n\u001b[1;32m    134\u001b[0m             \u001b[39mif\u001b[39;00m mode \u001b[39m==\u001b[39m \u001b[39m'\u001b[39m\u001b[39mtrain\u001b[39m\u001b[39m'\u001b[39m \u001b[39mand\u001b[39;00m \u001b[39mself\u001b[39m\u001b[39m.\u001b[39mepoch \u001b[39m>\u001b[39m\u001b[39m=\u001b[39m \u001b[39mself\u001b[39m\u001b[39m.\u001b[39m_max_epochs:\n\u001b[1;32m    135\u001b[0m                 \u001b[39mbreak\u001b[39;00m\n\u001b[0;32m--> 136\u001b[0m             epoch_runner(data_loaders[i], \u001b[39m*\u001b[39;49m\u001b[39m*\u001b[39;49mkwargs)\n\u001b[1;32m    138\u001b[0m time\u001b[39m.\u001b[39msleep(\u001b[39m1\u001b[39m)  \u001b[39m# wait for some hooks like loggers to finish\u001b[39;00m\n\u001b[1;32m    139\u001b[0m \u001b[39mself\u001b[39m\u001b[39m.\u001b[39mcall_hook(\u001b[39m'\u001b[39m\u001b[39mafter_run\u001b[39m\u001b[39m'\u001b[39m)\n",
      "File \u001b[0;32m~/miniconda3/envs/mmdet_edit/lib/python3.8/site-packages/mmcv/runner/epoch_based_runner.py:53\u001b[0m, in \u001b[0;36mEpochBasedRunner.train\u001b[0;34m(self, data_loader, **kwargs)\u001b[0m\n\u001b[1;32m     51\u001b[0m \u001b[39mself\u001b[39m\u001b[39m.\u001b[39m_inner_iter \u001b[39m=\u001b[39m i\n\u001b[1;32m     52\u001b[0m \u001b[39mself\u001b[39m\u001b[39m.\u001b[39mcall_hook(\u001b[39m'\u001b[39m\u001b[39mbefore_train_iter\u001b[39m\u001b[39m'\u001b[39m)\n\u001b[0;32m---> 53\u001b[0m \u001b[39mself\u001b[39;49m\u001b[39m.\u001b[39;49mrun_iter(data_batch, train_mode\u001b[39m=\u001b[39;49m\u001b[39mTrue\u001b[39;49;00m, \u001b[39m*\u001b[39;49m\u001b[39m*\u001b[39;49mkwargs)\n\u001b[1;32m     54\u001b[0m \u001b[39mself\u001b[39m\u001b[39m.\u001b[39mcall_hook(\u001b[39m'\u001b[39m\u001b[39mafter_train_iter\u001b[39m\u001b[39m'\u001b[39m)\n\u001b[1;32m     55\u001b[0m \u001b[39mdel\u001b[39;00m \u001b[39mself\u001b[39m\u001b[39m.\u001b[39mdata_batch\n",
      "File \u001b[0;32m~/miniconda3/envs/mmdet_edit/lib/python3.8/site-packages/mmcv/runner/epoch_based_runner.py:31\u001b[0m, in \u001b[0;36mEpochBasedRunner.run_iter\u001b[0;34m(self, data_batch, train_mode, **kwargs)\u001b[0m\n\u001b[1;32m     28\u001b[0m     outputs \u001b[39m=\u001b[39m \u001b[39mself\u001b[39m\u001b[39m.\u001b[39mbatch_processor(\n\u001b[1;32m     29\u001b[0m         \u001b[39mself\u001b[39m\u001b[39m.\u001b[39mmodel, data_batch, train_mode\u001b[39m=\u001b[39mtrain_mode, \u001b[39m*\u001b[39m\u001b[39m*\u001b[39mkwargs)\n\u001b[1;32m     30\u001b[0m \u001b[39melif\u001b[39;00m train_mode:\n\u001b[0;32m---> 31\u001b[0m     outputs \u001b[39m=\u001b[39m \u001b[39mself\u001b[39;49m\u001b[39m.\u001b[39;49mmodel\u001b[39m.\u001b[39;49mtrain_step(data_batch, \u001b[39mself\u001b[39;49m\u001b[39m.\u001b[39;49moptimizer,\n\u001b[1;32m     32\u001b[0m                                     \u001b[39m*\u001b[39;49m\u001b[39m*\u001b[39;49mkwargs)\n\u001b[1;32m     33\u001b[0m \u001b[39melse\u001b[39;00m:\n\u001b[1;32m     34\u001b[0m     outputs \u001b[39m=\u001b[39m \u001b[39mself\u001b[39m\u001b[39m.\u001b[39mmodel\u001b[39m.\u001b[39mval_step(data_batch, \u001b[39mself\u001b[39m\u001b[39m.\u001b[39moptimizer, \u001b[39m*\u001b[39m\u001b[39m*\u001b[39mkwargs)\n",
      "File \u001b[0;32m~/miniconda3/envs/mmdet_edit/lib/python3.8/site-packages/mmcv/parallel/data_parallel.py:77\u001b[0m, in \u001b[0;36mMMDataParallel.train_step\u001b[0;34m(self, *inputs, **kwargs)\u001b[0m\n\u001b[1;32m     71\u001b[0m         \u001b[39mraise\u001b[39;00m \u001b[39mRuntimeError\u001b[39;00m(\n\u001b[1;32m     72\u001b[0m             \u001b[39m'\u001b[39m\u001b[39mmodule must have its parameters and buffers \u001b[39m\u001b[39m'\u001b[39m\n\u001b[1;32m     73\u001b[0m             \u001b[39mf\u001b[39m\u001b[39m'\u001b[39m\u001b[39mon device \u001b[39m\u001b[39m{\u001b[39;00m\u001b[39mself\u001b[39m\u001b[39m.\u001b[39msrc_device_obj\u001b[39m}\u001b[39;00m\u001b[39m (device_ids[0]) but \u001b[39m\u001b[39m'\u001b[39m\n\u001b[1;32m     74\u001b[0m             \u001b[39mf\u001b[39m\u001b[39m'\u001b[39m\u001b[39mfound one of them on device: \u001b[39m\u001b[39m{\u001b[39;00mt\u001b[39m.\u001b[39mdevice\u001b[39m}\u001b[39;00m\u001b[39m'\u001b[39m)\n\u001b[1;32m     76\u001b[0m inputs, kwargs \u001b[39m=\u001b[39m \u001b[39mself\u001b[39m\u001b[39m.\u001b[39mscatter(inputs, kwargs, \u001b[39mself\u001b[39m\u001b[39m.\u001b[39mdevice_ids)\n\u001b[0;32m---> 77\u001b[0m \u001b[39mreturn\u001b[39;00m \u001b[39mself\u001b[39;49m\u001b[39m.\u001b[39;49mmodule\u001b[39m.\u001b[39;49mtrain_step(\u001b[39m*\u001b[39;49minputs[\u001b[39m0\u001b[39;49m], \u001b[39m*\u001b[39;49m\u001b[39m*\u001b[39;49mkwargs[\u001b[39m0\u001b[39;49m])\n",
      "File \u001b[0;32m~/mmdetection/mmdet/models/detectors/base.py:248\u001b[0m, in \u001b[0;36mBaseDetector.train_step\u001b[0;34m(self, data, optimizer)\u001b[0m\n\u001b[1;32m    221\u001b[0m \u001b[39mdef\u001b[39;00m \u001b[39mtrain_step\u001b[39m(\u001b[39mself\u001b[39m, data, optimizer):\n\u001b[1;32m    222\u001b[0m     \u001b[39m\"\"\"The iteration step during training.\u001b[39;00m\n\u001b[1;32m    223\u001b[0m \n\u001b[1;32m    224\u001b[0m \u001b[39m    This method defines an iteration step during training, except for the\u001b[39;00m\n\u001b[0;32m   (...)\u001b[0m\n\u001b[1;32m    246\u001b[0m \u001b[39m              averaging the logs.\u001b[39;00m\n\u001b[1;32m    247\u001b[0m \u001b[39m    \"\"\"\u001b[39;00m\n\u001b[0;32m--> 248\u001b[0m     losses \u001b[39m=\u001b[39m \u001b[39mself\u001b[39;49m(\u001b[39m*\u001b[39;49m\u001b[39m*\u001b[39;49mdata)\n\u001b[1;32m    249\u001b[0m     loss, log_vars \u001b[39m=\u001b[39m \u001b[39mself\u001b[39m\u001b[39m.\u001b[39m_parse_losses(losses)\n\u001b[1;32m    251\u001b[0m     outputs \u001b[39m=\u001b[39m \u001b[39mdict\u001b[39m(\n\u001b[1;32m    252\u001b[0m         loss\u001b[39m=\u001b[39mloss, log_vars\u001b[39m=\u001b[39mlog_vars, num_samples\u001b[39m=\u001b[39m\u001b[39mlen\u001b[39m(data[\u001b[39m'\u001b[39m\u001b[39mimg_metas\u001b[39m\u001b[39m'\u001b[39m]))\n",
      "File \u001b[0;32m~/miniconda3/envs/mmdet_edit/lib/python3.8/site-packages/torch/nn/modules/module.py:889\u001b[0m, in \u001b[0;36mModule._call_impl\u001b[0;34m(self, *input, **kwargs)\u001b[0m\n\u001b[1;32m    887\u001b[0m     result \u001b[39m=\u001b[39m \u001b[39mself\u001b[39m\u001b[39m.\u001b[39m_slow_forward(\u001b[39m*\u001b[39m\u001b[39minput\u001b[39m, \u001b[39m*\u001b[39m\u001b[39m*\u001b[39mkwargs)\n\u001b[1;32m    888\u001b[0m \u001b[39melse\u001b[39;00m:\n\u001b[0;32m--> 889\u001b[0m     result \u001b[39m=\u001b[39m \u001b[39mself\u001b[39;49m\u001b[39m.\u001b[39;49mforward(\u001b[39m*\u001b[39;49m\u001b[39minput\u001b[39;49m, \u001b[39m*\u001b[39;49m\u001b[39m*\u001b[39;49mkwargs)\n\u001b[1;32m    890\u001b[0m \u001b[39mfor\u001b[39;00m hook \u001b[39min\u001b[39;00m itertools\u001b[39m.\u001b[39mchain(\n\u001b[1;32m    891\u001b[0m         _global_forward_hooks\u001b[39m.\u001b[39mvalues(),\n\u001b[1;32m    892\u001b[0m         \u001b[39mself\u001b[39m\u001b[39m.\u001b[39m_forward_hooks\u001b[39m.\u001b[39mvalues()):\n\u001b[1;32m    893\u001b[0m     hook_result \u001b[39m=\u001b[39m hook(\u001b[39mself\u001b[39m, \u001b[39minput\u001b[39m, result)\n",
      "File \u001b[0;32m~/miniconda3/envs/mmdet_edit/lib/python3.8/site-packages/mmcv/runner/fp16_utils.py:116\u001b[0m, in \u001b[0;36mauto_fp16.<locals>.auto_fp16_wrapper.<locals>.new_func\u001b[0;34m(*args, **kwargs)\u001b[0m\n\u001b[1;32m    113\u001b[0m     \u001b[39mraise\u001b[39;00m \u001b[39mTypeError\u001b[39;00m(\u001b[39m'\u001b[39m\u001b[39m@auto_fp16 can only be used to decorate the \u001b[39m\u001b[39m'\u001b[39m\n\u001b[1;32m    114\u001b[0m                     \u001b[39mf\u001b[39m\u001b[39m'\u001b[39m\u001b[39mmethod of those classes \u001b[39m\u001b[39m{\u001b[39;00msupported_types\u001b[39m}\u001b[39;00m\u001b[39m'\u001b[39m)\n\u001b[1;32m    115\u001b[0m \u001b[39mif\u001b[39;00m \u001b[39mnot\u001b[39;00m (\u001b[39mhasattr\u001b[39m(args[\u001b[39m0\u001b[39m], \u001b[39m'\u001b[39m\u001b[39mfp16_enabled\u001b[39m\u001b[39m'\u001b[39m) \u001b[39mand\u001b[39;00m args[\u001b[39m0\u001b[39m]\u001b[39m.\u001b[39mfp16_enabled):\n\u001b[0;32m--> 116\u001b[0m     \u001b[39mreturn\u001b[39;00m old_func(\u001b[39m*\u001b[39;49margs, \u001b[39m*\u001b[39;49m\u001b[39m*\u001b[39;49mkwargs)\n\u001b[1;32m    118\u001b[0m \u001b[39m# get the arg spec of the decorated method\u001b[39;00m\n\u001b[1;32m    119\u001b[0m args_info \u001b[39m=\u001b[39m getfullargspec(old_func)\n",
      "File \u001b[0;32m~/mmdetection/mmdet/models/detectors/base.py:172\u001b[0m, in \u001b[0;36mBaseDetector.forward\u001b[0;34m(self, img, img_metas, return_loss, **kwargs)\u001b[0m\n\u001b[1;32m    169\u001b[0m     \u001b[39mreturn\u001b[39;00m \u001b[39mself\u001b[39m\u001b[39m.\u001b[39monnx_export(img[\u001b[39m0\u001b[39m], img_metas[\u001b[39m0\u001b[39m])\n\u001b[1;32m    171\u001b[0m \u001b[39mif\u001b[39;00m return_loss:\n\u001b[0;32m--> 172\u001b[0m     \u001b[39mreturn\u001b[39;00m \u001b[39mself\u001b[39;49m\u001b[39m.\u001b[39;49mforward_train(img, img_metas, \u001b[39m*\u001b[39;49m\u001b[39m*\u001b[39;49mkwargs)\n\u001b[1;32m    173\u001b[0m \u001b[39melse\u001b[39;00m:\n\u001b[1;32m    174\u001b[0m     \u001b[39mreturn\u001b[39;00m \u001b[39mself\u001b[39m\u001b[39m.\u001b[39mforward_test(img, img_metas, \u001b[39m*\u001b[39m\u001b[39m*\u001b[39mkwargs)\n",
      "File \u001b[0;32m~/mmdetection/mmdet/models/detectors/single_stage.py:72\u001b[0m, in \u001b[0;36mSingleStageDetector.forward_train\u001b[0;34m(self, img, img_metas, gt_bboxes, gt_labels, gt_masks, gt_bboxes_ignore)\u001b[0m\n\u001b[1;32m     70\u001b[0m \u001b[39msuper\u001b[39m(SingleStageDetector, \u001b[39mself\u001b[39m)\u001b[39m.\u001b[39mforward_train(img, img_metas)\n\u001b[1;32m     71\u001b[0m x \u001b[39m=\u001b[39m \u001b[39mself\u001b[39m\u001b[39m.\u001b[39mextract_feat(img)\n\u001b[0;32m---> 72\u001b[0m losses \u001b[39m=\u001b[39m \u001b[39mself\u001b[39;49m\u001b[39m.\u001b[39;49mbbox_head\u001b[39m.\u001b[39;49mforward_train(x, img_metas, gt_bboxes, gt_labels, gt_masks, gt_bboxes_ignore)\n\u001b[1;32m     73\u001b[0m \u001b[39mreturn\u001b[39;00m losses\n",
      "File \u001b[0;32m~/mmdetection/mmdet/models/dense_heads/base_dense_head.py:353\u001b[0m, in \u001b[0;36mBaseDenseHead.forward_train\u001b[0;34m(self, x, img_metas, gt_bboxes, gt_labels, gt_masks, gt_bboxes_ignore, proposal_cfg, **kwargs)\u001b[0m\n\u001b[1;32m    351\u001b[0m \u001b[39melse\u001b[39;00m:\n\u001b[1;32m    352\u001b[0m     loss_inputs \u001b[39m=\u001b[39m outs \u001b[39m+\u001b[39m (gt_bboxes, gt_labels, img_metas)\n\u001b[0;32m--> 353\u001b[0m losses \u001b[39m=\u001b[39m \u001b[39mself\u001b[39;49m\u001b[39m.\u001b[39;49mloss(\u001b[39m*\u001b[39;49mloss_inputs, gt_masks\u001b[39m=\u001b[39;49mgt_masks, gt_bboxes_ignore\u001b[39m=\u001b[39;49mgt_bboxes_ignore)\n\u001b[1;32m    354\u001b[0m \u001b[39mif\u001b[39;00m proposal_cfg \u001b[39mis\u001b[39;00m \u001b[39mNone\u001b[39;00m:\n\u001b[1;32m    355\u001b[0m     \u001b[39mreturn\u001b[39;00m losses\n",
      "File \u001b[0;32m~/miniconda3/envs/mmdet_edit/lib/python3.8/site-packages/mmcv/runner/fp16_utils.py:205\u001b[0m, in \u001b[0;36mforce_fp32.<locals>.force_fp32_wrapper.<locals>.new_func\u001b[0;34m(*args, **kwargs)\u001b[0m\n\u001b[1;32m    202\u001b[0m     \u001b[39mraise\u001b[39;00m \u001b[39mTypeError\u001b[39;00m(\u001b[39m'\u001b[39m\u001b[39m@force_fp32 can only be used to decorate the \u001b[39m\u001b[39m'\u001b[39m\n\u001b[1;32m    203\u001b[0m                     \u001b[39m'\u001b[39m\u001b[39mmethod of nn.Module\u001b[39m\u001b[39m'\u001b[39m)\n\u001b[1;32m    204\u001b[0m \u001b[39mif\u001b[39;00m \u001b[39mnot\u001b[39;00m (\u001b[39mhasattr\u001b[39m(args[\u001b[39m0\u001b[39m], \u001b[39m'\u001b[39m\u001b[39mfp16_enabled\u001b[39m\u001b[39m'\u001b[39m) \u001b[39mand\u001b[39;00m args[\u001b[39m0\u001b[39m]\u001b[39m.\u001b[39mfp16_enabled):\n\u001b[0;32m--> 205\u001b[0m     \u001b[39mreturn\u001b[39;00m old_func(\u001b[39m*\u001b[39;49margs, \u001b[39m*\u001b[39;49m\u001b[39m*\u001b[39;49mkwargs)\n\u001b[1;32m    206\u001b[0m \u001b[39m# get the arg spec of the decorated method\u001b[39;00m\n\u001b[1;32m    207\u001b[0m args_info \u001b[39m=\u001b[39m getfullargspec(old_func)\n",
      "File \u001b[0;32m~/mmdetection/mmdet/models/dense_heads/cycle_centernet_head.py:181\u001b[0m, in \u001b[0;36mCycleCenterNetHead.loss\u001b[0;34m(self, center_heatmap_preds, offset_preds, center2vertex_pred, vertex2center_pred, gt_bboxes, gt_labels, img_metas, gt_masks, gt_bboxes_ignore)\u001b[0m\n\u001b[1;32m    178\u001b[0m center2vertex_pred \u001b[39m=\u001b[39m center2vertex_pred[\u001b[39m0\u001b[39m]\n\u001b[1;32m    179\u001b[0m vertex2center_pred \u001b[39m=\u001b[39m vertex2center_pred[\u001b[39m0\u001b[39m]\n\u001b[0;32m--> 181\u001b[0m target_result, avg_factor \u001b[39m=\u001b[39m \u001b[39mself\u001b[39;49m\u001b[39m.\u001b[39;49mget_targets(\n\u001b[1;32m    182\u001b[0m     gt_bboxes,\n\u001b[1;32m    183\u001b[0m     gt_labels,\n\u001b[1;32m    184\u001b[0m     gt_masks,\n\u001b[1;32m    185\u001b[0m     center_heatmap_pred\u001b[39m.\u001b[39;49mshape,\n\u001b[1;32m    186\u001b[0m     img_metas[\u001b[39m0\u001b[39;49m][\u001b[39m\"\u001b[39;49m\u001b[39mpad_shape\u001b[39;49m\u001b[39m\"\u001b[39;49m],\n\u001b[1;32m    187\u001b[0m     center2vertex_pred,\n\u001b[1;32m    188\u001b[0m     vertex2center_pred,\n\u001b[1;32m    189\u001b[0m )\n\u001b[1;32m    191\u001b[0m center_heatmap_target \u001b[39m=\u001b[39m target_result[\u001b[39m\"\u001b[39m\u001b[39mcenter_heatmap_target\u001b[39m\u001b[39m\"\u001b[39m]\n\u001b[1;32m    192\u001b[0m offset_target \u001b[39m=\u001b[39m target_result[\u001b[39m\"\u001b[39m\u001b[39moffset_target\u001b[39m\u001b[39m\"\u001b[39m]\n",
      "File \u001b[0;32m~/mmdetection/mmdet/models/dense_heads/cycle_centernet_head.py:306\u001b[0m, in \u001b[0;36mCycleCenterNetHead.get_targets\u001b[0;34m(self, gt_bboxes, gt_labels, gt_masks, feat_shape, img_shape, c2v_pred, v2c_pred)\u001b[0m\n\u001b[1;32m    299\u001b[0m \u001b[39mfor\u001b[39;00m x, y \u001b[39min\u001b[39;00m (\n\u001b[1;32m    300\u001b[0m     (tl_x_int, tl_y_int),\n\u001b[1;32m    301\u001b[0m     (tr_x_int, tr_y_int),\n\u001b[1;32m    302\u001b[0m     (br_x_int, br_y_int),\n\u001b[1;32m    303\u001b[0m     (bl_x_int, bl_y_int),\n\u001b[1;32m    304\u001b[0m ):\n\u001b[1;32m    305\u001b[0m     \u001b[39mif\u001b[39;00m center_heatmap_target[batch_id, \u001b[39m1\u001b[39m, y, x] \u001b[39m!=\u001b[39m \u001b[39m1.0\u001b[39m:\n\u001b[0;32m--> 306\u001b[0m         gen_gaussian_target(\n\u001b[1;32m    307\u001b[0m             heatmap\u001b[39m=\u001b[39;49mcenter_heatmap_target[batch_id, \u001b[39m1\u001b[39;49m],\n\u001b[1;32m    308\u001b[0m             center\u001b[39m=\u001b[39;49m[x, y],\n\u001b[1;32m    309\u001b[0m             radius\u001b[39m=\u001b[39;49mradius,\n\u001b[1;32m    310\u001b[0m         )\n\u001b[1;32m    312\u001b[0m offset_target[batch_id, \u001b[39m0\u001b[39m, cty_int, ctx_int] \u001b[39m=\u001b[39m ctx \u001b[39m-\u001b[39m ctx_int\n\u001b[1;32m    313\u001b[0m offset_target[batch_id, \u001b[39m0\u001b[39m, tl_y_int, tl_x_int] \u001b[39m=\u001b[39m tl_x \u001b[39m-\u001b[39m tl_x_int\n",
      "File \u001b[0;32m~/mmdetection/mmdet/models/utils/gaussian_target.py:46\u001b[0m, in \u001b[0;36mgen_gaussian_target\u001b[0;34m(heatmap, center, radius, k)\u001b[0m\n\u001b[1;32m     33\u001b[0m \u001b[39m\"\"\"Generate 2D gaussian heatmap.\u001b[39;00m\n\u001b[1;32m     34\u001b[0m \n\u001b[1;32m     35\u001b[0m \u001b[39mArgs:\u001b[39;00m\n\u001b[0;32m   (...)\u001b[0m\n\u001b[1;32m     43\u001b[0m \u001b[39m    out_heatmap (Tensor): Updated heatmap covered by gaussian kernel.\u001b[39;00m\n\u001b[1;32m     44\u001b[0m \u001b[39m\"\"\"\u001b[39;00m\n\u001b[1;32m     45\u001b[0m diameter \u001b[39m=\u001b[39m \u001b[39m2\u001b[39m \u001b[39m*\u001b[39m radius \u001b[39m+\u001b[39m \u001b[39m1\u001b[39m\n\u001b[0;32m---> 46\u001b[0m gaussian_kernel \u001b[39m=\u001b[39m gaussian2D(\n\u001b[1;32m     47\u001b[0m     radius, sigma\u001b[39m=\u001b[39;49mdiameter \u001b[39m/\u001b[39;49m \u001b[39m6\u001b[39;49m, dtype\u001b[39m=\u001b[39;49mheatmap\u001b[39m.\u001b[39;49mdtype, device\u001b[39m=\u001b[39;49mheatmap\u001b[39m.\u001b[39;49mdevice)\n\u001b[1;32m     49\u001b[0m x, y \u001b[39m=\u001b[39m center\n\u001b[1;32m     51\u001b[0m height, width \u001b[39m=\u001b[39m heatmap\u001b[39m.\u001b[39mshape[:\u001b[39m2\u001b[39m]\n",
      "File \u001b[0;32m~/mmdetection/mmdet/models/utils/gaussian_target.py:26\u001b[0m, in \u001b[0;36mgaussian2D\u001b[0;34m(radius, sigma, dtype, device)\u001b[0m\n\u001b[1;32m     21\u001b[0m x \u001b[39m=\u001b[39m torch\u001b[39m.\u001b[39marange(\n\u001b[1;32m     22\u001b[0m     \u001b[39m-\u001b[39mradius, radius \u001b[39m+\u001b[39m \u001b[39m1\u001b[39m, dtype\u001b[39m=\u001b[39mdtype, device\u001b[39m=\u001b[39mdevice)\u001b[39m.\u001b[39mview(\u001b[39m1\u001b[39m, \u001b[39m-\u001b[39m\u001b[39m1\u001b[39m)\n\u001b[1;32m     23\u001b[0m y \u001b[39m=\u001b[39m torch\u001b[39m.\u001b[39marange(\n\u001b[1;32m     24\u001b[0m     \u001b[39m-\u001b[39mradius, radius \u001b[39m+\u001b[39m \u001b[39m1\u001b[39m, dtype\u001b[39m=\u001b[39mdtype, device\u001b[39m=\u001b[39mdevice)\u001b[39m.\u001b[39mview(\u001b[39m-\u001b[39m\u001b[39m1\u001b[39m, \u001b[39m1\u001b[39m)\n\u001b[0;32m---> 26\u001b[0m h \u001b[39m=\u001b[39m (\u001b[39m-\u001b[39;49m(x \u001b[39m*\u001b[39;49m x \u001b[39m+\u001b[39;49m y \u001b[39m*\u001b[39;49m y) \u001b[39m/\u001b[39;49m (\u001b[39m2\u001b[39;49m \u001b[39m*\u001b[39;49m sigma \u001b[39m*\u001b[39;49m sigma))\u001b[39m.\u001b[39mexp()\n\u001b[1;32m     28\u001b[0m h[h \u001b[39m<\u001b[39m torch\u001b[39m.\u001b[39mfinfo(h\u001b[39m.\u001b[39mdtype)\u001b[39m.\u001b[39meps \u001b[39m*\u001b[39m h\u001b[39m.\u001b[39mmax()] \u001b[39m=\u001b[39m \u001b[39m0\u001b[39m\n\u001b[1;32m     29\u001b[0m \u001b[39mreturn\u001b[39;00m h\n",
      "\u001b[0;31mKeyboardInterrupt\u001b[0m: "
     ]
    }
   ],
   "source": [
    "import os.path as osp\n",
    "from sys import argv\n",
    "import cv2\n",
    "import mmcv\n",
    "import wandb\n",
    "from mmcv import Config\n",
    "from mmdet.apis import set_random_seed, train_detector\n",
    "\n",
    "# Let's take a look at the dataset image\n",
    "from mmdet.datasets import build_dataset\n",
    "from mmdet.models import build_detector\n",
    "import subprocess\n",
    "import random\n",
    "\n",
    "\n",
    "def get_free_gpu():\n",
    "    log = str(\n",
    "        subprocess.check_output(\"nvidia-smi --format=csv --query-gpu=utilization.gpu,memory.used\", shell=True)\n",
    "    ).split(r\"\\n\")[1:-1]\n",
    "    free_gpu = []\n",
    "    for idx, gpu_info in enumerate(log):\n",
    "        if gpu_info[:-4].split(\" %, \")[0] == \"0\" and gpu_info[:-4].split(\" %, \")[1] == \"3\":\n",
    "            free_gpu.append(idx)\n",
    "    if free_gpu:\n",
    "        return random.choice(free_gpu)\n",
    "    raise RuntimeError(\"All gpus are used\")\n",
    "\n",
    "\n",
    "wandb.login()\n",
    "\n",
    "cfg = Config.fromfile(f\"/home/aiarhipov/centernet/exps/27_seg/config.py\")\n",
    "\n",
    "\n",
    "set_random_seed(0, deterministic=False)\n",
    "cfg.gpu_ids = [get_free_gpu()]\n",
    "val = True\n",
    "# Build dataset\n",
    "\n",
    "# datasets = build_dataset(cfg.data.train)\n",
    "datasets = [build_dataset(cfg.data.train), build_dataset(cfg.data.val_loss)]\n",
    "\n",
    "# Build the detector\n",
    "model = build_detector(cfg.model)\n",
    "# Add an attribute for visualization convenience\n",
    "model.CLASSES = datasets[0].CLASSES\n",
    "\n",
    "# Create work_dir\n",
    "mmcv.mkdir_or_exist(osp.abspath(cfg.work_dir))\n",
    "train_detector(model, datasets, cfg, distributed=False, validate=val)\n"
   ]
  },
  {
   "cell_type": "code",
   "execution_count": 2,
   "metadata": {},
   "outputs": [
    {
     "name": "stdout",
     "output_type": "stream",
     "text": [
      "> \u001b[0;32m/home/aiarhipov/miniconda3/envs/mmdet_edit/lib/python3.8/site-packages/torch/_utils.py\u001b[0m(429)\u001b[0;36mreraise\u001b[0;34m()\u001b[0m\n",
      "\u001b[0;32m    427 \u001b[0;31m            \u001b[0;31m# have message field\u001b[0m\u001b[0;34m\u001b[0m\u001b[0;34m\u001b[0m\u001b[0;34m\u001b[0m\u001b[0m\n",
      "\u001b[0m\u001b[0;32m    428 \u001b[0;31m            \u001b[0;32mraise\u001b[0m \u001b[0mself\u001b[0m\u001b[0;34m.\u001b[0m\u001b[0mexc_type\u001b[0m\u001b[0;34m(\u001b[0m\u001b[0mmessage\u001b[0m\u001b[0;34m=\u001b[0m\u001b[0mmsg\u001b[0m\u001b[0;34m)\u001b[0m\u001b[0;34m\u001b[0m\u001b[0;34m\u001b[0m\u001b[0m\n",
      "\u001b[0m\u001b[0;32m--> 429 \u001b[0;31m        \u001b[0;32mraise\u001b[0m \u001b[0mself\u001b[0m\u001b[0;34m.\u001b[0m\u001b[0mexc_type\u001b[0m\u001b[0;34m(\u001b[0m\u001b[0mmsg\u001b[0m\u001b[0;34m)\u001b[0m\u001b[0;34m\u001b[0m\u001b[0;34m\u001b[0m\u001b[0m\n",
      "\u001b[0m\u001b[0;32m    430 \u001b[0;31m\u001b[0;34m\u001b[0m\u001b[0m\n",
      "\u001b[0m\u001b[0;32m    431 \u001b[0;31m\u001b[0;34m\u001b[0m\u001b[0m\n",
      "\u001b[0m\n",
      "> \u001b[0;32m/home/aiarhipov/miniconda3/envs/mmdet_edit/lib/python3.8/site-packages/torch/utils/data/dataloader.py\u001b[0m(1225)\u001b[0;36m_process_data\u001b[0;34m()\u001b[0m\n",
      "\u001b[0;32m   1223 \u001b[0;31m        \u001b[0mself\u001b[0m\u001b[0;34m.\u001b[0m\u001b[0m_try_put_index\u001b[0m\u001b[0;34m(\u001b[0m\u001b[0;34m)\u001b[0m\u001b[0;34m\u001b[0m\u001b[0;34m\u001b[0m\u001b[0m\n",
      "\u001b[0m\u001b[0;32m   1224 \u001b[0;31m        \u001b[0;32mif\u001b[0m \u001b[0misinstance\u001b[0m\u001b[0;34m(\u001b[0m\u001b[0mdata\u001b[0m\u001b[0;34m,\u001b[0m \u001b[0mExceptionWrapper\u001b[0m\u001b[0;34m)\u001b[0m\u001b[0;34m:\u001b[0m\u001b[0;34m\u001b[0m\u001b[0;34m\u001b[0m\u001b[0m\n",
      "\u001b[0m\u001b[0;32m-> 1225 \u001b[0;31m            \u001b[0mdata\u001b[0m\u001b[0;34m.\u001b[0m\u001b[0mreraise\u001b[0m\u001b[0;34m(\u001b[0m\u001b[0;34m)\u001b[0m\u001b[0;34m\u001b[0m\u001b[0;34m\u001b[0m\u001b[0m\n",
      "\u001b[0m\u001b[0;32m   1226 \u001b[0;31m        \u001b[0;32mreturn\u001b[0m \u001b[0mdata\u001b[0m\u001b[0;34m\u001b[0m\u001b[0;34m\u001b[0m\u001b[0m\n",
      "\u001b[0m\u001b[0;32m   1227 \u001b[0;31m\u001b[0;34m\u001b[0m\u001b[0m\n",
      "\u001b[0m\n",
      "> \u001b[0;32m/home/aiarhipov/miniconda3/envs/mmdet_edit/lib/python3.8/site-packages/torch/utils/data/dataloader.py\u001b[0m(1199)\u001b[0;36m_next_data\u001b[0;34m()\u001b[0m\n",
      "\u001b[0;32m   1197 \u001b[0;31m            \u001b[0;32melse\u001b[0m\u001b[0;34m:\u001b[0m\u001b[0;34m\u001b[0m\u001b[0;34m\u001b[0m\u001b[0m\n",
      "\u001b[0m\u001b[0;32m   1198 \u001b[0;31m                \u001b[0;32mdel\u001b[0m \u001b[0mself\u001b[0m\u001b[0;34m.\u001b[0m\u001b[0m_task_info\u001b[0m\u001b[0;34m[\u001b[0m\u001b[0midx\u001b[0m\u001b[0;34m]\u001b[0m\u001b[0;34m\u001b[0m\u001b[0;34m\u001b[0m\u001b[0m\n",
      "\u001b[0m\u001b[0;32m-> 1199 \u001b[0;31m                \u001b[0;32mreturn\u001b[0m \u001b[0mself\u001b[0m\u001b[0;34m.\u001b[0m\u001b[0m_process_data\u001b[0m\u001b[0;34m(\u001b[0m\u001b[0mdata\u001b[0m\u001b[0;34m)\u001b[0m\u001b[0;34m\u001b[0m\u001b[0;34m\u001b[0m\u001b[0m\n",
      "\u001b[0m\u001b[0;32m   1200 \u001b[0;31m\u001b[0;34m\u001b[0m\u001b[0m\n",
      "\u001b[0m\u001b[0;32m   1201 \u001b[0;31m    \u001b[0;32mdef\u001b[0m \u001b[0m_try_put_index\u001b[0m\u001b[0;34m(\u001b[0m\u001b[0mself\u001b[0m\u001b[0;34m)\u001b[0m\u001b[0;34m:\u001b[0m\u001b[0;34m\u001b[0m\u001b[0;34m\u001b[0m\u001b[0m\n",
      "\u001b[0m\n",
      "<torch._utils.ExceptionWrapper object at 0x7f048f45b730>\n",
      "> \u001b[0;32m/home/aiarhipov/miniconda3/envs/mmdet_edit/lib/python3.8/site-packages/torch/utils/data/dataloader.py\u001b[0m(517)\u001b[0;36m__next__\u001b[0;34m()\u001b[0m\n",
      "\u001b[0;32m    515 \u001b[0;31m            \u001b[0;32mif\u001b[0m \u001b[0mself\u001b[0m\u001b[0;34m.\u001b[0m\u001b[0m_sampler_iter\u001b[0m \u001b[0;32mis\u001b[0m \u001b[0;32mNone\u001b[0m\u001b[0;34m:\u001b[0m\u001b[0;34m\u001b[0m\u001b[0;34m\u001b[0m\u001b[0m\n",
      "\u001b[0m\u001b[0;32m    516 \u001b[0;31m                \u001b[0mself\u001b[0m\u001b[0;34m.\u001b[0m\u001b[0m_reset\u001b[0m\u001b[0;34m(\u001b[0m\u001b[0;34m)\u001b[0m\u001b[0;34m\u001b[0m\u001b[0;34m\u001b[0m\u001b[0m\n",
      "\u001b[0m\u001b[0;32m--> 517 \u001b[0;31m            \u001b[0mdata\u001b[0m \u001b[0;34m=\u001b[0m \u001b[0mself\u001b[0m\u001b[0;34m.\u001b[0m\u001b[0m_next_data\u001b[0m\u001b[0;34m(\u001b[0m\u001b[0;34m)\u001b[0m\u001b[0;34m\u001b[0m\u001b[0;34m\u001b[0m\u001b[0m\n",
      "\u001b[0m\u001b[0;32m    518 \u001b[0;31m            \u001b[0mself\u001b[0m\u001b[0;34m.\u001b[0m\u001b[0m_num_yielded\u001b[0m \u001b[0;34m+=\u001b[0m \u001b[0;36m1\u001b[0m\u001b[0;34m\u001b[0m\u001b[0;34m\u001b[0m\u001b[0m\n",
      "\u001b[0m\u001b[0;32m    519 \u001b[0;31m            \u001b[0;32mif\u001b[0m \u001b[0mself\u001b[0m\u001b[0;34m.\u001b[0m\u001b[0m_dataset_kind\u001b[0m \u001b[0;34m==\u001b[0m \u001b[0m_DatasetKind\u001b[0m\u001b[0;34m.\u001b[0m\u001b[0mIterable\u001b[0m \u001b[0;32mand\u001b[0m\u001b[0;31m \u001b[0m\u001b[0;31m\\\u001b[0m\u001b[0;34m\u001b[0m\u001b[0;34m\u001b[0m\u001b[0m\n",
      "\u001b[0m\n",
      "*** NameError: name 'data' is not defined\n",
      "*** KeyError: Caught KeyError in DataLoader worker process 1.\n",
      "Original Traceback (most recent call last):\n",
      "  File \"/home/aiarhipov/miniconda3/envs/mmdet_edit/lib/python3.8/site-packages/torch/utils/data/_utils/worker.py\", line 202, in _worker_loop\n",
      "    data = fetcher.fetch(index)\n",
      "  File \"/home/aiarhipov/miniconda3/envs/mmdet_edit/lib/python3.8/site-packages/torch/utils/data/_utils/fetch.py\", line 44, in fetch\n",
      "    data = [self.dataset[idx] for idx in possibly_batched_index]\n",
      "  File \"/home/aiarhipov/miniconda3/envs/mmdet_edit/lib/python3.8/site-packages/torch/utils/data/_utils/fetch.py\", line 44, in <listcomp>\n",
      "    data = [self.dataset[idx] for idx in possibly_batched_index]\n",
      "  File \"/home/aiarhipov/mmdetection/mmdet/datasets/custom.py\", line 218, in __getitem__\n",
      "    return self.prepare_test_img(idx)\n",
      "  File \"/home/aiarhipov/mmdetection/mmdet/datasets/custom.py\", line 261, in prepare_test_img\n",
      "    return self.pipeline(results)\n",
      "  File \"/home/aiarhipov/mmdetection/mmdet/datasets/pipelines/compose.py\", line 41, in __call__\n",
      "    data = t(data)\n",
      "  File \"/home/aiarhipov/mmdetection/mmdet/datasets/pipelines/test_time_aug.py\", line 107, in __call__\n",
      "    data = self.transforms(_results)\n",
      "  File \"/home/aiarhipov/mmdetection/mmdet/datasets/pipelines/compose.py\", line 41, in __call__\n",
      "    data = t(data)\n",
      "  File \"/home/aiarhipov/mmdetection/mmdet/datasets/pipelines/formatting.py\", line 343, in __call__\n",
      "    img_meta[key] = results[key]\n",
      "KeyError: 'border'\n",
      "> \u001b[0;32m/home/aiarhipov/mmdetection/mmdet/apis/test.py\u001b[0m(27)\u001b[0;36msingle_gpu_test\u001b[0;34m()\u001b[0m\n",
      "\u001b[0;32m     25 \u001b[0;31m    \u001b[0mPALETTE\u001b[0m \u001b[0;34m=\u001b[0m \u001b[0mgetattr\u001b[0m\u001b[0;34m(\u001b[0m\u001b[0mdataset\u001b[0m\u001b[0;34m,\u001b[0m \u001b[0;34m'PALETTE'\u001b[0m\u001b[0;34m,\u001b[0m \u001b[0;32mNone\u001b[0m\u001b[0;34m)\u001b[0m\u001b[0;34m\u001b[0m\u001b[0;34m\u001b[0m\u001b[0m\n",
      "\u001b[0m\u001b[0;32m     26 \u001b[0;31m    \u001b[0mprog_bar\u001b[0m \u001b[0;34m=\u001b[0m \u001b[0mmmcv\u001b[0m\u001b[0;34m.\u001b[0m\u001b[0mProgressBar\u001b[0m\u001b[0;34m(\u001b[0m\u001b[0mlen\u001b[0m\u001b[0;34m(\u001b[0m\u001b[0mdataset\u001b[0m\u001b[0;34m)\u001b[0m\u001b[0;34m)\u001b[0m\u001b[0;34m\u001b[0m\u001b[0;34m\u001b[0m\u001b[0m\n",
      "\u001b[0m\u001b[0;32m---> 27 \u001b[0;31m    \u001b[0;32mfor\u001b[0m \u001b[0mi\u001b[0m\u001b[0;34m,\u001b[0m \u001b[0mdata\u001b[0m \u001b[0;32min\u001b[0m \u001b[0menumerate\u001b[0m\u001b[0;34m(\u001b[0m\u001b[0mdata_loader\u001b[0m\u001b[0;34m)\u001b[0m\u001b[0;34m:\u001b[0m\u001b[0;34m\u001b[0m\u001b[0;34m\u001b[0m\u001b[0m\n",
      "\u001b[0m\u001b[0;32m     28 \u001b[0;31m        \u001b[0;32mwith\u001b[0m \u001b[0mtorch\u001b[0m\u001b[0;34m.\u001b[0m\u001b[0mno_grad\u001b[0m\u001b[0;34m(\u001b[0m\u001b[0;34m)\u001b[0m\u001b[0;34m:\u001b[0m\u001b[0;34m\u001b[0m\u001b[0;34m\u001b[0m\u001b[0m\n",
      "\u001b[0m\u001b[0;32m     29 \u001b[0;31m            \u001b[0mresult\u001b[0m \u001b[0;34m=\u001b[0m \u001b[0mmodel\u001b[0m\u001b[0;34m(\u001b[0m\u001b[0mreturn_loss\u001b[0m\u001b[0;34m=\u001b[0m\u001b[0;32mFalse\u001b[0m\u001b[0;34m,\u001b[0m \u001b[0mrescale\u001b[0m\u001b[0;34m=\u001b[0m\u001b[0;32mTrue\u001b[0m\u001b[0;34m,\u001b[0m \u001b[0;34m**\u001b[0m\u001b[0mdata\u001b[0m\u001b[0;34m)\u001b[0m\u001b[0;34m\u001b[0m\u001b[0;34m\u001b[0m\u001b[0m\n",
      "\u001b[0m\n",
      "> \u001b[0;32m/home/aiarhipov/mmdetection/mmdet/core/evaluation/eval_hooks.py\u001b[0m(60)\u001b[0;36m_do_evaluate\u001b[0;34m()\u001b[0m\n",
      "\u001b[0;32m     58 \u001b[0;31m        \u001b[0;31m# Changed results to self.results so that MMDetWandbHook can access\u001b[0m\u001b[0;34m\u001b[0m\u001b[0;34m\u001b[0m\u001b[0;34m\u001b[0m\u001b[0m\n",
      "\u001b[0m\u001b[0;32m     59 \u001b[0;31m        \u001b[0;31m# the evaluation results and log them to wandb.\u001b[0m\u001b[0;34m\u001b[0m\u001b[0;34m\u001b[0m\u001b[0;34m\u001b[0m\u001b[0m\n",
      "\u001b[0m\u001b[0;32m---> 60 \u001b[0;31m        \u001b[0mresults\u001b[0m \u001b[0;34m=\u001b[0m \u001b[0msingle_gpu_test\u001b[0m\u001b[0;34m(\u001b[0m\u001b[0mrunner\u001b[0m\u001b[0;34m.\u001b[0m\u001b[0mmodel\u001b[0m\u001b[0;34m,\u001b[0m \u001b[0mself\u001b[0m\u001b[0;34m.\u001b[0m\u001b[0mdataloader\u001b[0m\u001b[0;34m,\u001b[0m \u001b[0mshow\u001b[0m\u001b[0;34m=\u001b[0m\u001b[0;32mFalse\u001b[0m\u001b[0;34m)\u001b[0m\u001b[0;34m\u001b[0m\u001b[0;34m\u001b[0m\u001b[0m\n",
      "\u001b[0m\u001b[0;32m     61 \u001b[0;31m        \u001b[0mself\u001b[0m\u001b[0;34m.\u001b[0m\u001b[0mlatest_results\u001b[0m \u001b[0;34m=\u001b[0m \u001b[0mresults\u001b[0m\u001b[0;34m\u001b[0m\u001b[0;34m\u001b[0m\u001b[0m\n",
      "\u001b[0m\u001b[0;32m     62 \u001b[0;31m        \u001b[0mrunner\u001b[0m\u001b[0;34m.\u001b[0m\u001b[0mlog_buffer\u001b[0m\u001b[0;34m.\u001b[0m\u001b[0moutput\u001b[0m\u001b[0;34m[\u001b[0m\u001b[0;34m'eval_iter_num'\u001b[0m\u001b[0;34m]\u001b[0m \u001b[0;34m=\u001b[0m \u001b[0mlen\u001b[0m\u001b[0;34m(\u001b[0m\u001b[0mself\u001b[0m\u001b[0;34m.\u001b[0m\u001b[0mdataloader\u001b[0m\u001b[0;34m)\u001b[0m\u001b[0;34m\u001b[0m\u001b[0;34m\u001b[0m\u001b[0m\n",
      "\u001b[0m\n"
     ]
    }
   ],
   "source": [
    "%debugu\n"
   ]
  },
  {
   "cell_type": "code",
   "execution_count": 4,
   "metadata": {},
   "outputs": [
    {
     "data": {
      "text/plain": [
       "98.304"
      ]
     },
     "execution_count": 4,
     "metadata": {},
     "output_type": "execute_result"
    }
   ],
   "source": [
    "datasets[0][\"gt_masks\"].data[0].masks[0][0][0]"
   ]
  },
  {
   "cell_type": "code",
   "execution_count": 2,
   "metadata": {},
   "outputs": [
    {
     "name": "stdout",
     "output_type": "stream",
     "text": [
      "> \u001b[0;32m/home/aiarhipov/mmdetection/mmdet/models/utils/gaussian_target.py\u001b[0m(56)\u001b[0;36mgen_gaussian_target\u001b[0;34m()\u001b[0m\n",
      "\u001b[0;32m     54 \u001b[0;31m    \u001b[0mtop\u001b[0m\u001b[0;34m,\u001b[0m \u001b[0mbottom\u001b[0m \u001b[0;34m=\u001b[0m \u001b[0mmin\u001b[0m\u001b[0;34m(\u001b[0m\u001b[0my\u001b[0m\u001b[0;34m,\u001b[0m \u001b[0mradius\u001b[0m\u001b[0;34m)\u001b[0m\u001b[0;34m,\u001b[0m \u001b[0mmin\u001b[0m\u001b[0;34m(\u001b[0m\u001b[0mheight\u001b[0m \u001b[0;34m-\u001b[0m \u001b[0my\u001b[0m\u001b[0;34m,\u001b[0m \u001b[0mradius\u001b[0m \u001b[0;34m+\u001b[0m \u001b[0;36m1\u001b[0m\u001b[0;34m)\u001b[0m\u001b[0;34m\u001b[0m\u001b[0;34m\u001b[0m\u001b[0m\n",
      "\u001b[0m\u001b[0;32m     55 \u001b[0;31m\u001b[0;34m\u001b[0m\u001b[0m\n",
      "\u001b[0m\u001b[0;32m---> 56 \u001b[0;31m    \u001b[0mmasked_heatmap\u001b[0m \u001b[0;34m=\u001b[0m \u001b[0mheatmap\u001b[0m\u001b[0;34m[\u001b[0m\u001b[0my\u001b[0m \u001b[0;34m-\u001b[0m \u001b[0mtop\u001b[0m\u001b[0;34m:\u001b[0m\u001b[0my\u001b[0m \u001b[0;34m+\u001b[0m \u001b[0mbottom\u001b[0m\u001b[0;34m,\u001b[0m \u001b[0mx\u001b[0m \u001b[0;34m-\u001b[0m \u001b[0mleft\u001b[0m\u001b[0;34m:\u001b[0m\u001b[0mx\u001b[0m \u001b[0;34m+\u001b[0m \u001b[0mright\u001b[0m\u001b[0;34m]\u001b[0m\u001b[0;34m\u001b[0m\u001b[0;34m\u001b[0m\u001b[0m\n",
      "\u001b[0m\u001b[0;32m     57 \u001b[0;31m    masked_gaussian = gaussian_kernel[radius - top:radius + bottom,\n",
      "\u001b[0m\u001b[0;32m     58 \u001b[0;31m                                      radius - left:radius + right]\n",
      "\u001b[0m\n",
      "> \u001b[0;32m/home/aiarhipov/mmdetection/mmdet/models/dense_heads/cycle_centernet_head.py\u001b[0m(280)\u001b[0;36mget_targets\u001b[0;34m()\u001b[0m\n",
      "\u001b[0;32m    278 \u001b[0;31m                \u001b[0mctx_int\u001b[0m\u001b[0;34m,\u001b[0m \u001b[0mcty_int\u001b[0m \u001b[0;34m=\u001b[0m \u001b[0mctx\u001b[0m\u001b[0;34m.\u001b[0m\u001b[0mastype\u001b[0m\u001b[0;34m(\u001b[0m\u001b[0mint\u001b[0m\u001b[0;34m)\u001b[0m \u001b[0;34m*\u001b[0m \u001b[0mwidth_ratio\u001b[0m\u001b[0;34m,\u001b[0m \u001b[0mcty\u001b[0m\u001b[0;34m.\u001b[0m\u001b[0mastype\u001b[0m\u001b[0;34m(\u001b[0m\u001b[0mint\u001b[0m\u001b[0;34m)\u001b[0m \u001b[0;34m*\u001b[0m \u001b[0mheight_ratio\u001b[0m\u001b[0;34m\u001b[0m\u001b[0;34m\u001b[0m\u001b[0m\n",
      "\u001b[0m\u001b[0;32m    279 \u001b[0;31m\u001b[0;34m\u001b[0m\u001b[0m\n",
      "\u001b[0m\u001b[0;32m--> 280 \u001b[0;31m                gen_gaussian_target(\n",
      "\u001b[0m\u001b[0;32m    281 \u001b[0;31m                    \u001b[0mheatmap\u001b[0m\u001b[0;34m=\u001b[0m\u001b[0mcenter_heatmap_target\u001b[0m\u001b[0;34m[\u001b[0m\u001b[0mbatch_id\u001b[0m\u001b[0;34m,\u001b[0m \u001b[0;36m0\u001b[0m\u001b[0;34m]\u001b[0m\u001b[0;34m,\u001b[0m\u001b[0;34m\u001b[0m\u001b[0;34m\u001b[0m\u001b[0m\n",
      "\u001b[0m\u001b[0;32m    282 \u001b[0;31m                    \u001b[0mcenter\u001b[0m\u001b[0;34m=\u001b[0m\u001b[0;34m[\u001b[0m\u001b[0mctx_int\u001b[0m\u001b[0;34m,\u001b[0m \u001b[0mcty_int\u001b[0m\u001b[0;34m]\u001b[0m\u001b[0;34m,\u001b[0m\u001b[0;34m\u001b[0m\u001b[0;34m\u001b[0m\u001b[0m\n",
      "\u001b[0m\n",
      "102.25\n",
      "32.0\n",
      "409.9555555555555\n",
      "102.48888888888888\n",
      "102\n"
     ]
    }
   ],
   "source": [
    "%debug\n"
   ]
  },
  {
   "cell_type": "code",
   "execution_count": 11,
   "metadata": {},
   "outputs": [
    {
     "data": {
      "text/plain": [
       "3"
      ]
     },
     "execution_count": 11,
     "metadata": {},
     "output_type": "execute_result"
    }
   ],
   "source": [
    "from mmdet.models.utils import gaussian_radius\n",
    "radius = gaussian_radius([512/4/8, 512/4/8], min_overlap=0.3)\n",
    "radius = max(0, int(radius))\n",
    "radius"
   ]
  },
  {
   "cell_type": "code",
   "execution_count": 13,
   "metadata": {},
   "outputs": [
    {
     "name": "stdout",
     "output_type": "stream",
     "text": [
      "1 2\n",
      "1 3\n"
     ]
    }
   ],
   "source": [
    "# Creating a set using string\n",
    "test_set = set()\n",
    "test_set.add((1, 2))\n",
    "test_set.add((1, 3))\n",
    "# Iterating using for loop\n",
    "for x, y in test_set:\n",
    "\tprint(x, y)\n"
   ]
  },
  {
   "cell_type": "code",
   "execution_count": 2,
   "metadata": {},
   "outputs": [
    {
     "name": "stdout",
     "output_type": "stream",
     "text": [
      "> \u001b[0;32m/home/aiarhipov/miniconda3/envs/mmdet_edit/lib/python3.8/selectors.py\u001b[0m(415)\u001b[0;36mselect\u001b[0;34m()\u001b[0m\n",
      "\u001b[0;32m    413 \u001b[0;31m        \u001b[0mready\u001b[0m \u001b[0;34m=\u001b[0m \u001b[0;34m[\u001b[0m\u001b[0;34m]\u001b[0m\u001b[0;34m\u001b[0m\u001b[0;34m\u001b[0m\u001b[0m\n",
      "\u001b[0m\u001b[0;32m    414 \u001b[0;31m        \u001b[0;32mtry\u001b[0m\u001b[0;34m:\u001b[0m\u001b[0;34m\u001b[0m\u001b[0;34m\u001b[0m\u001b[0m\n",
      "\u001b[0m\u001b[0;32m--> 415 \u001b[0;31m            \u001b[0mfd_event_list\u001b[0m \u001b[0;34m=\u001b[0m \u001b[0mself\u001b[0m\u001b[0;34m.\u001b[0m\u001b[0m_selector\u001b[0m\u001b[0;34m.\u001b[0m\u001b[0mpoll\u001b[0m\u001b[0;34m(\u001b[0m\u001b[0mtimeout\u001b[0m\u001b[0;34m)\u001b[0m\u001b[0;34m\u001b[0m\u001b[0;34m\u001b[0m\u001b[0m\n",
      "\u001b[0m\u001b[0;32m    416 \u001b[0;31m        \u001b[0;32mexcept\u001b[0m \u001b[0mInterruptedError\u001b[0m\u001b[0;34m:\u001b[0m\u001b[0;34m\u001b[0m\u001b[0;34m\u001b[0m\u001b[0m\n",
      "\u001b[0m\u001b[0;32m    417 \u001b[0;31m            \u001b[0;32mreturn\u001b[0m \u001b[0mready\u001b[0m\u001b[0;34m\u001b[0m\u001b[0;34m\u001b[0m\u001b[0m\n",
      "\u001b[0m\n",
      "5000\n",
      "> \u001b[0;32m/home/aiarhipov/miniconda3/envs/mmdet_edit/lib/python3.8/multiprocessing/connection.py\u001b[0m(931)\u001b[0;36mwait\u001b[0;34m()\u001b[0m\n",
      "\u001b[0;32m    929 \u001b[0;31m\u001b[0;34m\u001b[0m\u001b[0m\n",
      "\u001b[0m\u001b[0;32m    930 \u001b[0;31m            \u001b[0;32mwhile\u001b[0m \u001b[0;32mTrue\u001b[0m\u001b[0;34m:\u001b[0m\u001b[0;34m\u001b[0m\u001b[0;34m\u001b[0m\u001b[0m\n",
      "\u001b[0m\u001b[0;32m--> 931 \u001b[0;31m                \u001b[0mready\u001b[0m \u001b[0;34m=\u001b[0m \u001b[0mselector\u001b[0m\u001b[0;34m.\u001b[0m\u001b[0mselect\u001b[0m\u001b[0;34m(\u001b[0m\u001b[0mtimeout\u001b[0m\u001b[0;34m)\u001b[0m\u001b[0;34m\u001b[0m\u001b[0;34m\u001b[0m\u001b[0m\n",
      "\u001b[0m\u001b[0;32m    932 \u001b[0;31m                \u001b[0;32mif\u001b[0m \u001b[0mready\u001b[0m\u001b[0;34m:\u001b[0m\u001b[0;34m\u001b[0m\u001b[0;34m\u001b[0m\u001b[0m\n",
      "\u001b[0m\u001b[0;32m    933 \u001b[0;31m                    \u001b[0;32mreturn\u001b[0m \u001b[0;34m[\u001b[0m\u001b[0mkey\u001b[0m\u001b[0;34m.\u001b[0m\u001b[0mfileobj\u001b[0m \u001b[0;32mfor\u001b[0m \u001b[0;34m(\u001b[0m\u001b[0mkey\u001b[0m\u001b[0;34m,\u001b[0m \u001b[0mevents\u001b[0m\u001b[0;34m)\u001b[0m \u001b[0;32min\u001b[0m \u001b[0mready\u001b[0m\u001b[0;34m]\u001b[0m\u001b[0;34m\u001b[0m\u001b[0;34m\u001b[0m\u001b[0m\n",
      "\u001b[0m\n",
      "4.999996660975739\n",
      "> \u001b[0;32m/home/aiarhipov/miniconda3/envs/mmdet_edit/lib/python3.8/multiprocessing/connection.py\u001b[0m(424)\u001b[0;36m_poll\u001b[0;34m()\u001b[0m\n",
      "\u001b[0;32m    422 \u001b[0;31m\u001b[0;34m\u001b[0m\u001b[0m\n",
      "\u001b[0m\u001b[0;32m    423 \u001b[0;31m    \u001b[0;32mdef\u001b[0m \u001b[0m_poll\u001b[0m\u001b[0;34m(\u001b[0m\u001b[0mself\u001b[0m\u001b[0;34m,\u001b[0m \u001b[0mtimeout\u001b[0m\u001b[0;34m)\u001b[0m\u001b[0;34m:\u001b[0m\u001b[0;34m\u001b[0m\u001b[0;34m\u001b[0m\u001b[0m\n",
      "\u001b[0m\u001b[0;32m--> 424 \u001b[0;31m        \u001b[0mr\u001b[0m \u001b[0;34m=\u001b[0m \u001b[0mwait\u001b[0m\u001b[0;34m(\u001b[0m\u001b[0;34m[\u001b[0m\u001b[0mself\u001b[0m\u001b[0;34m]\u001b[0m\u001b[0;34m,\u001b[0m \u001b[0mtimeout\u001b[0m\u001b[0;34m)\u001b[0m\u001b[0;34m\u001b[0m\u001b[0;34m\u001b[0m\u001b[0m\n",
      "\u001b[0m\u001b[0;32m    425 \u001b[0;31m        \u001b[0;32mreturn\u001b[0m \u001b[0mbool\u001b[0m\u001b[0;34m(\u001b[0m\u001b[0mr\u001b[0m\u001b[0;34m)\u001b[0m\u001b[0;34m\u001b[0m\u001b[0;34m\u001b[0m\u001b[0m\n",
      "\u001b[0m\u001b[0;32m    426 \u001b[0;31m\u001b[0;34m\u001b[0m\u001b[0m\n",
      "\u001b[0m\n",
      "> \u001b[0;32m/home/aiarhipov/miniconda3/envs/mmdet_edit/lib/python3.8/multiprocessing/connection.py\u001b[0m(257)\u001b[0;36mpoll\u001b[0;34m()\u001b[0m\n",
      "\u001b[0;32m    255 \u001b[0;31m        \u001b[0mself\u001b[0m\u001b[0;34m.\u001b[0m\u001b[0m_check_closed\u001b[0m\u001b[0;34m(\u001b[0m\u001b[0;34m)\u001b[0m\u001b[0;34m\u001b[0m\u001b[0;34m\u001b[0m\u001b[0m\n",
      "\u001b[0m\u001b[0;32m    256 \u001b[0;31m        \u001b[0mself\u001b[0m\u001b[0;34m.\u001b[0m\u001b[0m_check_readable\u001b[0m\u001b[0;34m(\u001b[0m\u001b[0;34m)\u001b[0m\u001b[0;34m\u001b[0m\u001b[0;34m\u001b[0m\u001b[0m\n",
      "\u001b[0m\u001b[0;32m--> 257 \u001b[0;31m        \u001b[0;32mreturn\u001b[0m \u001b[0mself\u001b[0m\u001b[0;34m.\u001b[0m\u001b[0m_poll\u001b[0m\u001b[0;34m(\u001b[0m\u001b[0mtimeout\u001b[0m\u001b[0;34m)\u001b[0m\u001b[0;34m\u001b[0m\u001b[0;34m\u001b[0m\u001b[0m\n",
      "\u001b[0m\u001b[0;32m    258 \u001b[0;31m\u001b[0;34m\u001b[0m\u001b[0m\n",
      "\u001b[0m\u001b[0;32m    259 \u001b[0;31m    \u001b[0;32mdef\u001b[0m \u001b[0m__enter__\u001b[0m\u001b[0;34m(\u001b[0m\u001b[0mself\u001b[0m\u001b[0;34m)\u001b[0m\u001b[0;34m:\u001b[0m\u001b[0;34m\u001b[0m\u001b[0;34m\u001b[0m\u001b[0m\n",
      "\u001b[0m\n",
      "> \u001b[0;32m/home/aiarhipov/miniconda3/envs/mmdet_edit/lib/python3.8/multiprocessing/queues.py\u001b[0m(107)\u001b[0;36mget\u001b[0;34m()\u001b[0m\n",
      "\u001b[0;32m    105 \u001b[0;31m                \u001b[0;32mif\u001b[0m \u001b[0mblock\u001b[0m\u001b[0;34m:\u001b[0m\u001b[0;34m\u001b[0m\u001b[0;34m\u001b[0m\u001b[0m\n",
      "\u001b[0m\u001b[0;32m    106 \u001b[0;31m                    \u001b[0mtimeout\u001b[0m \u001b[0;34m=\u001b[0m \u001b[0mdeadline\u001b[0m \u001b[0;34m-\u001b[0m \u001b[0mtime\u001b[0m\u001b[0;34m.\u001b[0m\u001b[0mmonotonic\u001b[0m\u001b[0;34m(\u001b[0m\u001b[0;34m)\u001b[0m\u001b[0;34m\u001b[0m\u001b[0;34m\u001b[0m\u001b[0m\n",
      "\u001b[0m\u001b[0;32m--> 107 \u001b[0;31m                    \u001b[0;32mif\u001b[0m \u001b[0;32mnot\u001b[0m \u001b[0mself\u001b[0m\u001b[0;34m.\u001b[0m\u001b[0m_poll\u001b[0m\u001b[0;34m(\u001b[0m\u001b[0mtimeout\u001b[0m\u001b[0;34m)\u001b[0m\u001b[0;34m:\u001b[0m\u001b[0;34m\u001b[0m\u001b[0;34m\u001b[0m\u001b[0m\n",
      "\u001b[0m\u001b[0;32m    108 \u001b[0;31m                        \u001b[0;32mraise\u001b[0m \u001b[0mEmpty\u001b[0m\u001b[0;34m\u001b[0m\u001b[0;34m\u001b[0m\u001b[0m\n",
      "\u001b[0m\u001b[0;32m    109 \u001b[0;31m                \u001b[0;32melif\u001b[0m \u001b[0;32mnot\u001b[0m \u001b[0mself\u001b[0m\u001b[0;34m.\u001b[0m\u001b[0m_poll\u001b[0m\u001b[0;34m(\u001b[0m\u001b[0;34m)\u001b[0m\u001b[0;34m:\u001b[0m\u001b[0;34m\u001b[0m\u001b[0;34m\u001b[0m\u001b[0m\n",
      "\u001b[0m\n",
      "> \u001b[0;32m/home/aiarhipov/miniconda3/envs/mmdet_edit/lib/python3.8/site-packages/torch/utils/data/dataloader.py\u001b[0m(986)\u001b[0;36m_try_get_data\u001b[0;34m()\u001b[0m\n",
      "\u001b[0;32m    984 \u001b[0;31m        \u001b[0;31m#   (bool: whether successfully get data, any: data if successful else None)\u001b[0m\u001b[0;34m\u001b[0m\u001b[0;34m\u001b[0m\u001b[0;34m\u001b[0m\u001b[0m\n",
      "\u001b[0m\u001b[0;32m    985 \u001b[0;31m        \u001b[0;32mtry\u001b[0m\u001b[0;34m:\u001b[0m\u001b[0;34m\u001b[0m\u001b[0;34m\u001b[0m\u001b[0m\n",
      "\u001b[0m\u001b[0;32m--> 986 \u001b[0;31m            \u001b[0mdata\u001b[0m \u001b[0;34m=\u001b[0m \u001b[0mself\u001b[0m\u001b[0;34m.\u001b[0m\u001b[0m_data_queue\u001b[0m\u001b[0;34m.\u001b[0m\u001b[0mget\u001b[0m\u001b[0;34m(\u001b[0m\u001b[0mtimeout\u001b[0m\u001b[0;34m=\u001b[0m\u001b[0mtimeout\u001b[0m\u001b[0;34m)\u001b[0m\u001b[0;34m\u001b[0m\u001b[0;34m\u001b[0m\u001b[0m\n",
      "\u001b[0m\u001b[0;32m    987 \u001b[0;31m            \u001b[0;32mreturn\u001b[0m \u001b[0;34m(\u001b[0m\u001b[0;32mTrue\u001b[0m\u001b[0;34m,\u001b[0m \u001b[0mdata\u001b[0m\u001b[0;34m)\u001b[0m\u001b[0;34m\u001b[0m\u001b[0;34m\u001b[0m\u001b[0m\n",
      "\u001b[0m\u001b[0;32m    988 \u001b[0;31m        \u001b[0;32mexcept\u001b[0m \u001b[0mException\u001b[0m \u001b[0;32mas\u001b[0m \u001b[0me\u001b[0m\u001b[0;34m:\u001b[0m\u001b[0;34m\u001b[0m\u001b[0;34m\u001b[0m\u001b[0m\n",
      "\u001b[0m\n",
      "*** _queue.Empty\n",
      "<multiprocessing.queues.Queue object at 0x7f5883439ca0>\n",
      "*** _queue.Empty\n",
      "5.0\n",
      "> \u001b[0;32m/home/aiarhipov/miniconda3/envs/mmdet_edit/lib/python3.8/site-packages/torch/utils/data/dataloader.py\u001b[0m(1148)\u001b[0;36m_get_data\u001b[0;34m()\u001b[0m\n",
      "\u001b[0;32m   1146 \u001b[0;31m        \u001b[0;32melse\u001b[0m\u001b[0;34m:\u001b[0m\u001b[0;34m\u001b[0m\u001b[0;34m\u001b[0m\u001b[0m\n",
      "\u001b[0m\u001b[0;32m   1147 \u001b[0;31m            \u001b[0;32mwhile\u001b[0m \u001b[0;32mTrue\u001b[0m\u001b[0;34m:\u001b[0m\u001b[0;34m\u001b[0m\u001b[0;34m\u001b[0m\u001b[0m\n",
      "\u001b[0m\u001b[0;32m-> 1148 \u001b[0;31m                \u001b[0msuccess\u001b[0m\u001b[0;34m,\u001b[0m \u001b[0mdata\u001b[0m \u001b[0;34m=\u001b[0m \u001b[0mself\u001b[0m\u001b[0;34m.\u001b[0m\u001b[0m_try_get_data\u001b[0m\u001b[0;34m(\u001b[0m\u001b[0;34m)\u001b[0m\u001b[0;34m\u001b[0m\u001b[0;34m\u001b[0m\u001b[0m\n",
      "\u001b[0m\u001b[0;32m   1149 \u001b[0;31m                \u001b[0;32mif\u001b[0m \u001b[0msuccess\u001b[0m\u001b[0;34m:\u001b[0m\u001b[0;34m\u001b[0m\u001b[0;34m\u001b[0m\u001b[0m\n",
      "\u001b[0m\u001b[0;32m   1150 \u001b[0;31m                    \u001b[0;32mreturn\u001b[0m \u001b[0mdata\u001b[0m\u001b[0;34m\u001b[0m\u001b[0;34m\u001b[0m\u001b[0m\n",
      "\u001b[0m\n",
      "(False, None)\n"
     ]
    }
   ],
   "source": [
    "%debug"
   ]
  },
  {
   "cell_type": "code",
   "execution_count": 19,
   "metadata": {},
   "outputs": [],
   "source": [
    "import torch\n",
    "hw = torch.zeros((3, 2, 15, 9))\n",
    "c2v = torch.ones((3, 8, 10, 10)) * 4\n",
    "v2c = torch.ones((3, 8, 300, 400)) * (-3)\n"
   ]
  },
  {
   "cell_type": "code",
   "execution_count": 20,
   "metadata": {},
   "outputs": [
    {
     "data": {
      "text/plain": [
       "tensor([[0.0000, 0.0000, 0.0000, 0.0000, 0.0000, 0.0000, 0.0000, 0.0000, 0.0000],\n",
       "        [0.0000, 0.0000, 0.0000, 0.0000, 0.0000, 0.0000, 0.0000, 0.0000, 0.0000],\n",
       "        [0.0000, 0.0000, 0.0000, 0.0000, 0.0000, 0.0000, 0.0000, 0.0000, 0.0000],\n",
       "        [0.0000, 0.0000, 0.0000, 0.0032, 0.0273, 0.0561, 0.0273, 0.0032, 0.0000],\n",
       "        [0.0000, 0.0000, 0.0000, 0.0273, 0.2369, 0.4868, 0.2369, 0.0273, 0.0000],\n",
       "        [0.0000, 0.0000, 0.0000, 0.0561, 0.4868, 1.0000, 0.4868, 0.0561, 0.0000],\n",
       "        [0.0000, 0.0000, 0.0000, 0.0273, 0.2369, 0.4868, 0.2369, 0.0273, 0.0000],\n",
       "        [0.0000, 0.0000, 0.0000, 0.0032, 0.0273, 0.0561, 0.0273, 0.0032, 0.0000],\n",
       "        [0.0000, 0.0000, 0.0000, 0.0000, 0.0000, 0.0000, 0.0000, 0.0000, 0.0000],\n",
       "        [0.0000, 0.0000, 0.0000, 0.0000, 0.0000, 0.0000, 0.0000, 0.0000, 0.0000],\n",
       "        [0.0000, 0.0000, 0.0000, 0.0000, 0.0000, 0.0000, 0.0000, 0.0000, 0.0000],\n",
       "        [0.0000, 0.0000, 0.0000, 0.0000, 0.0000, 0.0000, 0.0000, 0.0000, 0.0000],\n",
       "        [0.0000, 0.0000, 0.0000, 0.0000, 0.0000, 0.0000, 0.0000, 0.0000, 0.0000],\n",
       "        [0.0000, 0.0000, 0.0000, 0.0000, 0.0000, 0.0000, 0.0000, 0.0000, 0.0000],\n",
       "        [0.0000, 0.0000, 0.0000, 0.0000, 0.0000, 0.0000, 0.0000, 0.0000, 0.0000]])"
      ]
     },
     "execution_count": 20,
     "metadata": {},
     "output_type": "execute_result"
    }
   ],
   "source": [
    "from mmdet.models.utils import gaussian_radius, gen_gaussian_target\n",
    "from mmdet.models.utils.gaussian_target import get_local_maximum, get_topk_from_heatmap, transpose_and_gather_feat\n",
    "\n",
    "gen_gaussian_target(\n",
    "                    heatmap=hw[0, 0],\n",
    "                    center=[5, 5],\n",
    "                    radius=2,\n",
    "                )"
   ]
  },
  {
   "cell_type": "code",
   "execution_count": 24,
   "metadata": {},
   "outputs": [
    {
     "data": {
      "text/plain": [
       "tensor([[0.0000, 0.0000, 0.0000, 0.0000, 0.0000, 0.0000, 0.0000, 0.0000, 0.0000],\n",
       "        [0.0000, 0.0000, 0.0000, 0.0000, 0.0000, 0.0000, 0.0000, 0.0000, 0.0000],\n",
       "        [0.0000, 0.0000, 0.0000, 0.0000, 0.0000, 0.0000, 0.0000, 0.0000, 0.0000],\n",
       "        [0.0000, 0.0000, 0.0000, 0.0032, 0.0273, 0.0561, 0.0273, 0.0032, 0.0000],\n",
       "        [0.0000, 0.0000, 0.0000, 0.0273, 0.2369, 0.4868, 0.2369, 0.0273, 0.0000],\n",
       "        [0.0000, 0.0000, 0.0000, 0.0561, 0.4868, 1.0000, 0.4868, 0.0561, 0.0000],\n",
       "        [0.0000, 0.0000, 0.0000, 0.0273, 0.2369, 0.4868, 0.2369, 0.0273, 0.0000],\n",
       "        [0.0000, 0.0000, 0.0000, 0.0032, 0.0273, 0.0561, 0.0273, 0.0032, 0.0000],\n",
       "        [0.0000, 0.0000, 0.0000, 0.0000, 0.0000, 0.0000, 0.0000, 0.0000, 0.0000],\n",
       "        [0.0000, 0.0000, 0.0000, 0.0000, 0.0000, 0.0000, 0.0000, 0.0000, 0.0000],\n",
       "        [0.0000, 0.0000, 0.0000, 0.0000, 0.0000, 0.0000, 0.0000, 0.0000, 0.0000],\n",
       "        [0.0000, 0.0000, 0.0000, 0.0000, 0.0000, 0.0000, 0.0000, 0.0000, 0.0000],\n",
       "        [0.0000, 0.0000, 0.0000, 0.0000, 0.0000, 0.0000, 0.0000, 0.0000, 0.0000],\n",
       "        [0.0000, 0.0000, 0.0000, 0.0000, 0.0000, 0.0000, 0.0000, 0.0000, 0.0000],\n",
       "        [0.0000, 0.0000, 0.0000, 0.0000, 0.0000, 0.0000, 0.0000, 0.0000, 0.0000]])"
      ]
     },
     "execution_count": 24,
     "metadata": {},
     "output_type": "execute_result"
    }
   ],
   "source": [
    "hw[0, 0]"
   ]
  },
  {
   "cell_type": "code",
   "execution_count": 28,
   "metadata": {},
   "outputs": [
    {
     "name": "stdout",
     "output_type": "stream",
     "text": [
      "1\n"
     ]
    }
   ],
   "source": [
    "if hw[0, 0, 5, 5] == 1.:\n",
    "    print(1)"
   ]
  },
  {
   "cell_type": "code",
   "execution_count": 15,
   "metadata": {},
   "outputs": [
    {
     "data": {
      "text/plain": [
       "tensor([[0.0000, 0.0000, 0.0000, 0.0000, 0.0000, 0.0000, 0.0000, 0.0000, 0.0000],\n",
       "        [0.0000, 0.0000, 0.0000, 0.0000, 0.0000, 0.0000, 0.0000, 0.0000, 0.0000],\n",
       "        [0.0000, 0.0000, 0.0000, 0.0000, 0.0000, 0.0000, 0.0000, 0.0000, 0.0000],\n",
       "        [0.0000, 0.0000, 0.0000, 0.0032, 0.0273, 0.0561, 0.0273, 0.0032, 0.0000],\n",
       "        [0.0000, 0.0000, 0.0000, 0.0273, 0.2369, 0.4868, 0.2369, 0.0273, 0.0000],\n",
       "        [0.0000, 0.0000, 0.0000, 0.0561, 0.4868, 1.0000, 0.4868, 0.0561, 0.0000],\n",
       "        [0.0000, 0.0000, 0.0000, 0.0273, 0.2369, 0.4868, 0.2369, 0.0273, 0.0000],\n",
       "        [0.0000, 0.0000, 0.0000, 0.0032, 0.0273, 0.0561, 0.0273, 0.0032, 0.0000],\n",
       "        [0.0000, 0.0000, 0.0000, 0.0000, 0.0000, 0.0000, 0.0000, 0.0000, 0.0000],\n",
       "        [0.0000, 0.0000, 0.0000, 0.0000, 0.0000, 0.0000, 0.0000, 0.0000, 0.0000],\n",
       "        [0.0000, 0.0000, 0.0000, 0.0000, 0.0000, 0.0000, 0.0000, 0.0000, 0.0000],\n",
       "        [0.0000, 0.0000, 0.0000, 0.0000, 0.0000, 0.0000, 0.0000, 0.0000, 0.0000],\n",
       "        [0.0000, 0.0000, 0.0000, 0.0000, 0.0000, 0.0000, 0.0000, 0.0000, 0.0000],\n",
       "        [0.0000, 0.0000, 0.0000, 0.0000, 0.0000, 0.0000, 0.0000, 0.0000, 0.0000],\n",
       "        [0.0000, 0.0000, 0.0000, 0.0000, 0.0000, 0.0000, 0.0000, 0.0000, 0.0000]])"
      ]
     },
     "execution_count": 15,
     "metadata": {},
     "output_type": "execute_result"
    }
   ],
   "source": [
    "gen_gaussian_target(\n",
    "                    heatmap=hw[0, 0],\n",
    "                    center=[5, 5],\n",
    "                    radius=2,\n",
    "                )"
   ]
  },
  {
   "cell_type": "code",
   "execution_count": 14,
   "metadata": {},
   "outputs": [
    {
     "ename": "NameError",
     "evalue": "name 'np' is not defined",
     "output_type": "error",
     "traceback": [
      "\u001b[0;31m---------------------------------------------------------------------------\u001b[0m",
      "\u001b[0;31mNameError\u001b[0m                                 Traceback (most recent call last)",
      "Cell \u001b[0;32mIn[14], line 1\u001b[0m\n\u001b[0;32m----> 1\u001b[0m c2v[\u001b[39m0\u001b[39m, \u001b[39m0\u001b[39m, \u001b[39m0\u001b[39m, \u001b[39m0\u001b[39m] \u001b[39m+\u001b[39m\u001b[39m=\u001b[39m \u001b[39m1\u001b[39m\u001b[39m-\u001b[39mtorch\u001b[39m.\u001b[39mexp(np\u001b[39m.\u001b[39mpi\u001b[39m*\u001b[39m\u001b[39mmin\u001b[39m(c2v[\u001b[39m0\u001b[39m, \u001b[39m0\u001b[39m, \u001b[39m0\u001b[39m, \u001b[39m0\u001b[39m], torch\u001b[39m.\u001b[39mtensor(\u001b[39m1.\u001b[39m)))\n",
      "\u001b[0;31mNameError\u001b[0m: name 'np' is not defined"
     ]
    }
   ],
   "source": [
    "c2v[0, 0, 0, 0] += 1-torch.exp(np.pi*min(c2v[0, 0, 0, 0], torch.tensor(1.)))"
   ]
  },
  {
   "cell_type": "code",
   "execution_count": 32,
   "metadata": {},
   "outputs": [
    {
     "data": {
      "text/plain": [
       "tensor([[1., 1., 1., 1., 1., 1., 1., 1., 1., 1.],\n",
       "        [1., 1., 1., 1., 1., 1., 1., 1., 1., 1.],\n",
       "        [1., 1., 1., 1., 1., 1., 1., 1., 1., 1.],\n",
       "        [1., 1., 1., 1., 1., 1., 1., 1., 1., 1.],\n",
       "        [4., 4., 4., 4., 4., 4., 4., 4., 4., 4.],\n",
       "        [4., 4., 4., 4., 4., 4., 4., 4., 4., 4.],\n",
       "        [4., 4., 4., 4., 4., 4., 4., 4., 4., 4.],\n",
       "        [4., 4., 4., 4., 4., 4., 4., 4., 4., 4.],\n",
       "        [4., 4., 4., 4., 4., 4., 4., 4., 4., 4.],\n",
       "        [4., 4., 4., 4., 4., 4., 4., 4., 4., 4.]])"
      ]
     },
     "execution_count": 32,
     "metadata": {},
     "output_type": "execute_result"
    }
   ],
   "source": [
    "c2v[0, 0, ] = 1\n",
    "c2v[0, 0]"
   ]
  },
  {
   "cell_type": "code",
   "execution_count": 37,
   "metadata": {},
   "outputs": [
    {
     "data": {
      "text/plain": [
       "tensor(False)"
      ]
     },
     "execution_count": 37,
     "metadata": {},
     "output_type": "execute_result"
    }
   ],
   "source": [
    "c2v[0, 0, 0, 0] < 1"
   ]
  },
  {
   "cell_type": "code",
   "execution_count": 26,
   "metadata": {},
   "outputs": [
    {
     "ename": "ValueError",
     "evalue": "not enough values to unpack (expected 3, got 2)",
     "output_type": "error",
     "traceback": [
      "\u001b[0;31m---------------------------------------------------------------------------\u001b[0m",
      "\u001b[0;31mValueError\u001b[0m                                Traceback (most recent call last)",
      "Cell \u001b[0;32mIn[26], line 1\u001b[0m\n\u001b[0;32m----> 1\u001b[0m \u001b[39mfor\u001b[39;00m idx,  a ,b \u001b[39min\u001b[39;00m \u001b[39menumerate\u001b[39m(((\u001b[39m1\u001b[39m, \u001b[39m2\u001b[39m), (\u001b[39m3\u001b[39m, \u001b[39m4\u001b[39m))):\n\u001b[1;32m      3\u001b[0m     \u001b[39mprint\u001b[39m(idx, a ,b)\n",
      "\u001b[0;31mValueError\u001b[0m: not enough values to unpack (expected 3, got 2)"
     ]
    }
   ],
   "source": [
    "for idx,  a ,b in enumerate(((1, 2), (3, 4))):\n",
    "    \n",
    "    print(idx, a ,b)"
   ]
  },
  {
   "cell_type": "code",
   "execution_count": 7,
   "metadata": {},
   "outputs": [
    {
     "data": {
      "text/plain": [
       "tensor([7., 7.])"
      ]
     },
     "execution_count": 7,
     "metadata": {},
     "output_type": "execute_result"
    }
   ],
   "source": [
    "c2v[0, 0:2, 0, 0]- v2c[0, 0:2, 0, 0]"
   ]
  },
  {
   "cell_type": "code",
   "execution_count": 13,
   "metadata": {},
   "outputs": [
    {
     "data": {
      "text/plain": [
       "tensor(54.5981)"
      ]
     },
     "execution_count": 13,
     "metadata": {},
     "output_type": "execute_result"
    }
   ],
   "source": [
    "torch.exp(c2v[0, 0, 0, 0])"
   ]
  },
  {
   "cell_type": "code",
   "execution_count": 8,
   "metadata": {},
   "outputs": [
    {
     "data": {
      "text/plain": [
       "tensor(9.8995)"
      ]
     },
     "execution_count": 8,
     "metadata": {},
     "output_type": "execute_result"
    }
   ],
   "source": [
    "torch.norm(c2v[0, 0:2, 0, 0]- v2c[0, 0:2, 0, 0], p=2)"
   ]
  },
  {
   "cell_type": "code",
   "execution_count": 20,
   "metadata": {},
   "outputs": [],
   "source": [
    "hw[:, 0, ...] = (- diff[:, 0, ...] + diff[:, 2, ...] + diff[:, 4, ...] - diff[:, 6, ...]) /2\n",
    "hw[:, 1, ...] = (- diff[:, 1, ...] - diff[:, 3, ...] + diff[:, 5, ...] - diff[:, 7, ...]) /2\n"
   ]
  },
  {
   "cell_type": "code",
   "execution_count": 3,
   "metadata": {},
   "outputs": [
    {
     "ename": "AttributeError",
     "evalue": "module 'torch' has no attribute 'expit'",
     "output_type": "error",
     "traceback": [
      "\u001b[0;31m---------------------------------------------------------------------------\u001b[0m",
      "\u001b[0;31mAttributeError\u001b[0m                            Traceback (most recent call last)",
      "Cell \u001b[0;32mIn[3], line 3\u001b[0m\n\u001b[1;32m      1\u001b[0m t \u001b[39m=\u001b[39m torch\u001b[39m.\u001b[39mrandn((\u001b[39m4\u001b[39m, \u001b[39m3\u001b[39m))\n\u001b[0;32m----> 3\u001b[0m torch\u001b[39m.\u001b[39;49mexpit(t)\n",
      "\u001b[0;31mAttributeError\u001b[0m: module 'torch' has no attribute 'expit'"
     ]
    }
   ],
   "source": [
    "t = torch.randn((4, 3))\n",
    "\n",
    "torch.expit(t)"
   ]
  },
  {
   "cell_type": "code",
   "execution_count": 1,
   "metadata": {},
   "outputs": [
    {
     "name": "stderr",
     "output_type": "stream",
     "text": [
      "Failed to detect the name of this notebook, you can set it manually with the WANDB_NOTEBOOK_NAME environment variable to enable code saving.\n",
      "\u001b[34m\u001b[1mwandb\u001b[0m: Currently logged in as: \u001b[33marchiealexarkhipov\u001b[0m (\u001b[33mcenternet\u001b[0m). Use \u001b[1m`wandb login --relogin`\u001b[0m to force relogin\n"
     ]
    },
    {
     "name": "stdout",
     "output_type": "stream",
     "text": [
      "loading annotations into memory...\n",
      "Done (t=12.65s)\n",
      "creating index...\n",
      "index created!\n",
      "loading annotations into memory...\n",
      "Done (t=3.72s)\n",
      "creating index...\n",
      "index created!\n"
     ]
    },
    {
     "name": "stderr",
     "output_type": "stream",
     "text": [
      "2023-05-07 20:42:07,275 - mmdet - INFO - Automatic scaling of learning rate (LR) has been disabled.\n"
     ]
    },
    {
     "name": "stdout",
     "output_type": "stream",
     "text": [
      "loading annotations into memory...\n",
      "Done (t=4.67s)\n",
      "creating index...\n"
     ]
    },
    {
     "name": "stderr",
     "output_type": "stream",
     "text": [
      "2023-05-07 20:42:12,440 - mmdet - INFO - Start running, host: aiarhipov@lorien.atp-fivt.org, work_dir: /home/aiarhipov/centernet/exps/20_cycle_l1_avg_factor_8_2heatmaps_short\n",
      "2023-05-07 20:42:12,442 - mmdet - INFO - Hooks will be executed in the following order:\n",
      "before_run:\n",
      "(VERY_HIGH   ) StepLrUpdaterHook                  \n",
      "(NORMAL      ) CheckpointHook                     \n",
      "(LOW         ) EvalHook                           \n",
      "(VERY_LOW    ) TextLoggerHook                     \n",
      "(VERY_LOW    ) TensorboardLoggerHook              \n",
      "(VERY_LOW    ) MMDetWandbHook                     \n",
      " -------------------- \n",
      "before_train_epoch:\n",
      "(VERY_HIGH   ) StepLrUpdaterHook                  \n",
      "(NORMAL      ) NumClassCheckHook                  \n",
      "(LOW         ) IterTimerHook                      \n",
      "(LOW         ) EvalHook                           \n",
      "(VERY_LOW    ) TextLoggerHook                     \n",
      "(VERY_LOW    ) TensorboardLoggerHook              \n",
      "(VERY_LOW    ) MMDetWandbHook                     \n",
      " -------------------- \n",
      "before_train_iter:\n",
      "(VERY_HIGH   ) StepLrUpdaterHook                  \n",
      "(LOW         ) IterTimerHook                      \n",
      "(LOW         ) EvalHook                           \n",
      " -------------------- \n",
      "after_train_iter:\n",
      "(ABOVE_NORMAL) OptimizerHook                      \n",
      "(NORMAL      ) CheckpointHook                     \n",
      "(LOW         ) IterTimerHook                      \n",
      "(LOW         ) EvalHook                           \n",
      "(VERY_LOW    ) TextLoggerHook                     \n",
      "(VERY_LOW    ) TensorboardLoggerHook              \n",
      "(VERY_LOW    ) MMDetWandbHook                     \n",
      " -------------------- \n",
      "after_train_epoch:\n",
      "(NORMAL      ) CheckpointHook                     \n",
      "(LOW         ) EvalHook                           \n",
      "(VERY_LOW    ) TextLoggerHook                     \n",
      "(VERY_LOW    ) TensorboardLoggerHook              \n",
      "(VERY_LOW    ) MMDetWandbHook                     \n",
      " -------------------- \n",
      "before_val_epoch:\n",
      "(NORMAL      ) NumClassCheckHook                  \n",
      "(LOW         ) IterTimerHook                      \n",
      "(VERY_LOW    ) TextLoggerHook                     \n",
      "(VERY_LOW    ) TensorboardLoggerHook              \n",
      "(VERY_LOW    ) MMDetWandbHook                     \n",
      " -------------------- \n",
      "before_val_iter:\n",
      "(LOW         ) IterTimerHook                      \n",
      " -------------------- \n",
      "after_val_iter:\n",
      "(LOW         ) IterTimerHook                      \n",
      " -------------------- \n",
      "after_val_epoch:\n",
      "(VERY_LOW    ) TextLoggerHook                     \n",
      "(VERY_LOW    ) TensorboardLoggerHook              \n",
      "(VERY_LOW    ) MMDetWandbHook                     \n",
      " -------------------- \n",
      "after_run:\n",
      "(VERY_LOW    ) TextLoggerHook                     \n",
      "(VERY_LOW    ) TensorboardLoggerHook              \n",
      "(VERY_LOW    ) MMDetWandbHook                     \n",
      " -------------------- \n",
      "2023-05-07 20:42:12,444 - mmdet - INFO - workflow: [('train', 1), ('val', 1)], max: 150 epochs\n",
      "2023-05-07 20:42:12,445 - mmdet - INFO - Checkpoints will be saved to /home/aiarhipov/centernet/exps/20_cycle_l1_avg_factor_8_2heatmaps_short by HardDiskBackend.\n"
     ]
    },
    {
     "name": "stdout",
     "output_type": "stream",
     "text": [
      "index created!\n"
     ]
    },
    {
     "data": {
      "text/html": [
       "wandb version 0.15.2 is available!  To upgrade, please run:\n",
       " $ pip install wandb --upgrade"
      ],
      "text/plain": [
       "<IPython.core.display.HTML object>"
      ]
     },
     "metadata": {},
     "output_type": "display_data"
    },
    {
     "data": {
      "text/html": [
       "Tracking run with wandb version 0.13.7"
      ],
      "text/plain": [
       "<IPython.core.display.HTML object>"
      ]
     },
     "metadata": {},
     "output_type": "display_data"
    },
    {
     "data": {
      "text/html": [
       "Run data is saved locally in <code>/home/aiarhipov/centernet/wandb/run-20230507_204212-2prqppbh</code>"
      ],
      "text/plain": [
       "<IPython.core.display.HTML object>"
      ]
     },
     "metadata": {},
     "output_type": "display_data"
    },
    {
     "data": {
      "text/html": [
       "Syncing run <strong><a href=\"https://wandb.ai/centernet/CenterNet/runs/2prqppbh\" target=\"_blank\">20_cycle_l1_avg_factor_8_2heatmaps_short</a></strong> to <a href=\"https://wandb.ai/centernet/CenterNet\" target=\"_blank\">Weights & Biases</a> (<a href=\"https://wandb.me/run\" target=\"_blank\">docs</a>)<br/>"
      ],
      "text/plain": [
       "<IPython.core.display.HTML object>"
      ]
     },
     "metadata": {},
     "output_type": "display_data"
    },
    {
     "name": "stderr",
     "output_type": "stream",
     "text": [
      "2023-05-07 20:42:17,584 - mmdet - WARNING - No meta information found in the runner. \n",
      "\u001b[34m\u001b[1mwandb\u001b[0m:   32 of 32 files downloaded.  \n",
      "libpng warning: iCCP: known incorrect sRGB profile\n",
      "libpng warning: iCCP: known incorrect sRGB profile\n",
      "2023-05-07 20:51:13,915 - mmdet - INFO - Epoch [1][500/1372]\tlr: 6.244e-04, eta: 2 days, 11:38:09, time: 1.046, data_time: 0.016, memory: 2448, loss_center_heatmap: 8.7718, loss_offset: 0.1174, loss_c2v: 3.4393, loss_v2c: 0.0227, loss: 12.3512, grad_norm: 72.8073\n",
      "2023-05-07 21:00:13,240 - mmdet - INFO - Epoch [1][1000/1372]\tlr: 1.249e-03, eta: 2 days, 12:25:36, time: 1.079, data_time: 0.010, memory: 2448, loss_center_heatmap: 1.9584, loss_offset: 0.0864, loss_c2v: 1.9862, loss_v2c: 0.0162, loss: 4.0472, grad_norm: 17.3755\n",
      "2023-05-07 21:07:04,958 - mmdet - INFO - Saving checkpoint at 1 epochs\n"
     ]
    },
    {
     "name": "stdout",
     "output_type": "stream",
     "text": [
      "[>>>>>>>>>>>>>>>>>>>>>>>>>>] 3611/3611, 10.5 task/s, elapsed: 344s, ETA:     0s"
     ]
    },
    {
     "name": "stderr",
     "output_type": "stream",
     "text": [
      "2023-05-07 21:18:05,805 - mmdet - INFO - Evaluating bbox...\n"
     ]
    },
    {
     "name": "stdout",
     "output_type": "stream",
     "text": [
      "Loading and preparing results...\n",
      "DONE (t=45.13s)\n",
      "creating index...\n",
      "index created!\n",
      "Running per image evaluation...\n",
      "Evaluate annotation type *bbox*\n"
     ]
    },
    {
     "ename": "KeyboardInterrupt",
     "evalue": "",
     "output_type": "error",
     "traceback": [
      "\u001b[0;31m---------------------------------------------------------------------------\u001b[0m",
      "\u001b[0;31mKeyboardInterrupt\u001b[0m                         Traceback (most recent call last)",
      "Cell \u001b[0;32mIn[1], line 30\u001b[0m\n\u001b[1;32m     28\u001b[0m \u001b[39m# Create work_dir\u001b[39;00m\n\u001b[1;32m     29\u001b[0m mmcv\u001b[39m.\u001b[39mmkdir_or_exist(osp\u001b[39m.\u001b[39mabspath(cfg\u001b[39m.\u001b[39mwork_dir))\n\u001b[0;32m---> 30\u001b[0m train_detector(model, datasets, cfg, distributed\u001b[39m=\u001b[39;49m\u001b[39mFalse\u001b[39;49;00m, validate\u001b[39m=\u001b[39;49m\u001b[39mTrue\u001b[39;49;00m)\n",
      "File \u001b[0;32m~/mmdetection/mmdet/apis/train.py:244\u001b[0m, in \u001b[0;36mtrain_detector\u001b[0;34m(model, dataset, cfg, distributed, validate, timestamp, meta)\u001b[0m\n\u001b[1;32m    242\u001b[0m \u001b[39melif\u001b[39;00m cfg\u001b[39m.\u001b[39mload_from:\n\u001b[1;32m    243\u001b[0m     runner\u001b[39m.\u001b[39mload_checkpoint(cfg\u001b[39m.\u001b[39mload_from)\n\u001b[0;32m--> 244\u001b[0m runner\u001b[39m.\u001b[39;49mrun(data_loaders, cfg\u001b[39m.\u001b[39;49mworkflow)\n",
      "File \u001b[0;32m~/miniconda3/envs/mmdet_edit/lib/python3.8/site-packages/mmcv/runner/epoch_based_runner.py:136\u001b[0m, in \u001b[0;36mEpochBasedRunner.run\u001b[0;34m(self, data_loaders, workflow, max_epochs, **kwargs)\u001b[0m\n\u001b[1;32m    134\u001b[0m             \u001b[39mif\u001b[39;00m mode \u001b[39m==\u001b[39m \u001b[39m'\u001b[39m\u001b[39mtrain\u001b[39m\u001b[39m'\u001b[39m \u001b[39mand\u001b[39;00m \u001b[39mself\u001b[39m\u001b[39m.\u001b[39mepoch \u001b[39m>\u001b[39m\u001b[39m=\u001b[39m \u001b[39mself\u001b[39m\u001b[39m.\u001b[39m_max_epochs:\n\u001b[1;32m    135\u001b[0m                 \u001b[39mbreak\u001b[39;00m\n\u001b[0;32m--> 136\u001b[0m             epoch_runner(data_loaders[i], \u001b[39m*\u001b[39;49m\u001b[39m*\u001b[39;49mkwargs)\n\u001b[1;32m    138\u001b[0m time\u001b[39m.\u001b[39msleep(\u001b[39m1\u001b[39m)  \u001b[39m# wait for some hooks like loggers to finish\u001b[39;00m\n\u001b[1;32m    139\u001b[0m \u001b[39mself\u001b[39m\u001b[39m.\u001b[39mcall_hook(\u001b[39m'\u001b[39m\u001b[39mafter_run\u001b[39m\u001b[39m'\u001b[39m)\n",
      "File \u001b[0;32m~/miniconda3/envs/mmdet_edit/lib/python3.8/site-packages/mmcv/runner/epoch_based_runner.py:58\u001b[0m, in \u001b[0;36mEpochBasedRunner.train\u001b[0;34m(self, data_loader, **kwargs)\u001b[0m\n\u001b[1;32m     55\u001b[0m     \u001b[39mdel\u001b[39;00m \u001b[39mself\u001b[39m\u001b[39m.\u001b[39mdata_batch\n\u001b[1;32m     56\u001b[0m     \u001b[39mself\u001b[39m\u001b[39m.\u001b[39m_iter \u001b[39m+\u001b[39m\u001b[39m=\u001b[39m \u001b[39m1\u001b[39m\n\u001b[0;32m---> 58\u001b[0m \u001b[39mself\u001b[39;49m\u001b[39m.\u001b[39;49mcall_hook(\u001b[39m'\u001b[39;49m\u001b[39mafter_train_epoch\u001b[39;49m\u001b[39m'\u001b[39;49m)\n\u001b[1;32m     59\u001b[0m \u001b[39mself\u001b[39m\u001b[39m.\u001b[39m_epoch \u001b[39m+\u001b[39m\u001b[39m=\u001b[39m \u001b[39m1\u001b[39m\n",
      "File \u001b[0;32m~/miniconda3/envs/mmdet_edit/lib/python3.8/site-packages/mmcv/runner/base_runner.py:317\u001b[0m, in \u001b[0;36mBaseRunner.call_hook\u001b[0;34m(self, fn_name)\u001b[0m\n\u001b[1;32m    310\u001b[0m \u001b[39m\"\"\"Call all hooks.\u001b[39;00m\n\u001b[1;32m    311\u001b[0m \n\u001b[1;32m    312\u001b[0m \u001b[39mArgs:\u001b[39;00m\n\u001b[1;32m    313\u001b[0m \u001b[39m    fn_name (str): The function name in each hook to be called, such as\u001b[39;00m\n\u001b[1;32m    314\u001b[0m \u001b[39m        \"before_train_epoch\".\u001b[39;00m\n\u001b[1;32m    315\u001b[0m \u001b[39m\"\"\"\u001b[39;00m\n\u001b[1;32m    316\u001b[0m \u001b[39mfor\u001b[39;00m hook \u001b[39min\u001b[39;00m \u001b[39mself\u001b[39m\u001b[39m.\u001b[39m_hooks:\n\u001b[0;32m--> 317\u001b[0m     \u001b[39mgetattr\u001b[39;49m(hook, fn_name)(\u001b[39mself\u001b[39;49m)\n",
      "File \u001b[0;32m~/miniconda3/envs/mmdet_edit/lib/python3.8/site-packages/mmcv/runner/hooks/evaluation.py:271\u001b[0m, in \u001b[0;36mEvalHook.after_train_epoch\u001b[0;34m(self, runner)\u001b[0m\n\u001b[1;32m    269\u001b[0m \u001b[39m\"\"\"Called after every training epoch to evaluate the results.\"\"\"\u001b[39;00m\n\u001b[1;32m    270\u001b[0m \u001b[39mif\u001b[39;00m \u001b[39mself\u001b[39m\u001b[39m.\u001b[39mby_epoch \u001b[39mand\u001b[39;00m \u001b[39mself\u001b[39m\u001b[39m.\u001b[39m_should_evaluate(runner):\n\u001b[0;32m--> 271\u001b[0m     \u001b[39mself\u001b[39;49m\u001b[39m.\u001b[39;49m_do_evaluate(runner)\n",
      "File \u001b[0;32m~/mmdetection/mmdet/core/evaluation/eval_hooks.py:63\u001b[0m, in \u001b[0;36mEvalHook._do_evaluate\u001b[0;34m(self, runner)\u001b[0m\n\u001b[1;32m     61\u001b[0m \u001b[39mself\u001b[39m\u001b[39m.\u001b[39mlatest_results \u001b[39m=\u001b[39m results\n\u001b[1;32m     62\u001b[0m runner\u001b[39m.\u001b[39mlog_buffer\u001b[39m.\u001b[39moutput[\u001b[39m'\u001b[39m\u001b[39meval_iter_num\u001b[39m\u001b[39m'\u001b[39m] \u001b[39m=\u001b[39m \u001b[39mlen\u001b[39m(\u001b[39mself\u001b[39m\u001b[39m.\u001b[39mdataloader)\n\u001b[0;32m---> 63\u001b[0m key_score \u001b[39m=\u001b[39m \u001b[39mself\u001b[39;49m\u001b[39m.\u001b[39;49mevaluate(runner, results)\n\u001b[1;32m     64\u001b[0m \u001b[39m# the key_score may be `None` so it needs to skip the action to save\u001b[39;00m\n\u001b[1;32m     65\u001b[0m \u001b[39m# the best checkpoint\u001b[39;00m\n\u001b[1;32m     66\u001b[0m \u001b[39mif\u001b[39;00m \u001b[39mself\u001b[39m\u001b[39m.\u001b[39msave_best \u001b[39mand\u001b[39;00m key_score:\n",
      "File \u001b[0;32m~/miniconda3/envs/mmdet_edit/lib/python3.8/site-packages/mmcv/runner/hooks/evaluation.py:367\u001b[0m, in \u001b[0;36mEvalHook.evaluate\u001b[0;34m(self, runner, results)\u001b[0m\n\u001b[1;32m    360\u001b[0m \u001b[39mdef\u001b[39;00m \u001b[39mevaluate\u001b[39m(\u001b[39mself\u001b[39m, runner, results):\n\u001b[1;32m    361\u001b[0m     \u001b[39m\"\"\"Evaluate the results.\u001b[39;00m\n\u001b[1;32m    362\u001b[0m \n\u001b[1;32m    363\u001b[0m \u001b[39m    Args:\u001b[39;00m\n\u001b[1;32m    364\u001b[0m \u001b[39m        runner (:obj:`mmcv.Runner`): The underlined training runner.\u001b[39;00m\n\u001b[1;32m    365\u001b[0m \u001b[39m        results (list): Output results.\u001b[39;00m\n\u001b[1;32m    366\u001b[0m \u001b[39m    \"\"\"\u001b[39;00m\n\u001b[0;32m--> 367\u001b[0m     eval_res \u001b[39m=\u001b[39m \u001b[39mself\u001b[39;49m\u001b[39m.\u001b[39;49mdataloader\u001b[39m.\u001b[39;49mdataset\u001b[39m.\u001b[39;49mevaluate(\n\u001b[1;32m    368\u001b[0m         results, logger\u001b[39m=\u001b[39;49mrunner\u001b[39m.\u001b[39;49mlogger, \u001b[39m*\u001b[39;49m\u001b[39m*\u001b[39;49m\u001b[39mself\u001b[39;49m\u001b[39m.\u001b[39;49meval_kwargs)\n\u001b[1;32m    370\u001b[0m     \u001b[39mfor\u001b[39;00m name, val \u001b[39min\u001b[39;00m eval_res\u001b[39m.\u001b[39mitems():\n\u001b[1;32m    371\u001b[0m         runner\u001b[39m.\u001b[39mlog_buffer\u001b[39m.\u001b[39moutput[name] \u001b[39m=\u001b[39m val\n",
      "File \u001b[0;32m~/mmdetection/mmdet/datasets/coco.py:642\u001b[0m, in \u001b[0;36mCocoDataset.evaluate\u001b[0;34m(self, results, metric, logger, jsonfile_prefix, classwise, proposal_nums, iou_thrs, metric_items)\u001b[0m\n\u001b[1;32m    639\u001b[0m \u001b[39mself\u001b[39m\u001b[39m.\u001b[39mcat_ids \u001b[39m=\u001b[39m coco_gt\u001b[39m.\u001b[39mget_cat_ids(cat_names\u001b[39m=\u001b[39m\u001b[39mself\u001b[39m\u001b[39m.\u001b[39mCLASSES)\n\u001b[1;32m    641\u001b[0m result_files, tmp_dir \u001b[39m=\u001b[39m \u001b[39mself\u001b[39m\u001b[39m.\u001b[39mformat_results(results, jsonfile_prefix)\n\u001b[0;32m--> 642\u001b[0m eval_results \u001b[39m=\u001b[39m \u001b[39mself\u001b[39;49m\u001b[39m.\u001b[39;49mevaluate_det_segm(results, result_files, coco_gt,\n\u001b[1;32m    643\u001b[0m                                       metrics, logger, classwise,\n\u001b[1;32m    644\u001b[0m                                       proposal_nums, iou_thrs,\n\u001b[1;32m    645\u001b[0m                                       metric_items)\n\u001b[1;32m    647\u001b[0m \u001b[39mif\u001b[39;00m tmp_dir \u001b[39mis\u001b[39;00m \u001b[39mnot\u001b[39;00m \u001b[39mNone\u001b[39;00m:\n\u001b[1;32m    648\u001b[0m     tmp_dir\u001b[39m.\u001b[39mcleanup()\n",
      "File \u001b[0;32m~/mmdetection/mmdet/datasets/coco.py:531\u001b[0m, in \u001b[0;36mCocoDataset.evaluate_det_segm\u001b[0;34m(self, results, result_files, coco_gt, metrics, logger, classwise, proposal_nums, iou_thrs, metric_items)\u001b[0m\n\u001b[1;32m    529\u001b[0m         eval_results[item] \u001b[39m=\u001b[39m val\n\u001b[1;32m    530\u001b[0m \u001b[39melse\u001b[39;00m:\n\u001b[0;32m--> 531\u001b[0m     cocoEval\u001b[39m.\u001b[39;49mevaluate()\n\u001b[1;32m    532\u001b[0m     cocoEval\u001b[39m.\u001b[39maccumulate()\n\u001b[1;32m    534\u001b[0m     \u001b[39m# Save coco summarize print information to logger\u001b[39;00m\n",
      "File \u001b[0;32m~/miniconda3/envs/mmdet_edit/lib/python3.8/site-packages/pycocotools/cocoeval.py:154\u001b[0m, in \u001b[0;36mCOCOeval.evaluate\u001b[0;34m(self)\u001b[0m\n\u001b[1;32m    152\u001b[0m evaluateImg \u001b[39m=\u001b[39m \u001b[39mself\u001b[39m\u001b[39m.\u001b[39mevaluateImg\n\u001b[1;32m    153\u001b[0m maxDet \u001b[39m=\u001b[39m p\u001b[39m.\u001b[39mmaxDets[\u001b[39m-\u001b[39m\u001b[39m1\u001b[39m]\n\u001b[0;32m--> 154\u001b[0m \u001b[39mself\u001b[39m\u001b[39m.\u001b[39mevalImgs \u001b[39m=\u001b[39m [evaluateImg(imgId, catId, areaRng, maxDet)\n\u001b[1;32m    155\u001b[0m          \u001b[39mfor\u001b[39;00m catId \u001b[39min\u001b[39;00m catIds\n\u001b[1;32m    156\u001b[0m          \u001b[39mfor\u001b[39;00m areaRng \u001b[39min\u001b[39;00m p\u001b[39m.\u001b[39mareaRng\n\u001b[1;32m    157\u001b[0m          \u001b[39mfor\u001b[39;00m imgId \u001b[39min\u001b[39;00m p\u001b[39m.\u001b[39mimgIds\n\u001b[1;32m    158\u001b[0m      ]\n\u001b[1;32m    159\u001b[0m \u001b[39mself\u001b[39m\u001b[39m.\u001b[39m_paramsEval \u001b[39m=\u001b[39m copy\u001b[39m.\u001b[39mdeepcopy(\u001b[39mself\u001b[39m\u001b[39m.\u001b[39mparams)\n\u001b[1;32m    160\u001b[0m toc \u001b[39m=\u001b[39m time\u001b[39m.\u001b[39mtime()\n",
      "File \u001b[0;32m~/miniconda3/envs/mmdet_edit/lib/python3.8/site-packages/pycocotools/cocoeval.py:154\u001b[0m, in \u001b[0;36m<listcomp>\u001b[0;34m(.0)\u001b[0m\n\u001b[1;32m    152\u001b[0m evaluateImg \u001b[39m=\u001b[39m \u001b[39mself\u001b[39m\u001b[39m.\u001b[39mevaluateImg\n\u001b[1;32m    153\u001b[0m maxDet \u001b[39m=\u001b[39m p\u001b[39m.\u001b[39mmaxDets[\u001b[39m-\u001b[39m\u001b[39m1\u001b[39m]\n\u001b[0;32m--> 154\u001b[0m \u001b[39mself\u001b[39m\u001b[39m.\u001b[39mevalImgs \u001b[39m=\u001b[39m [evaluateImg(imgId, catId, areaRng, maxDet)\n\u001b[1;32m    155\u001b[0m          \u001b[39mfor\u001b[39;00m catId \u001b[39min\u001b[39;00m catIds\n\u001b[1;32m    156\u001b[0m          \u001b[39mfor\u001b[39;00m areaRng \u001b[39min\u001b[39;00m p\u001b[39m.\u001b[39mareaRng\n\u001b[1;32m    157\u001b[0m          \u001b[39mfor\u001b[39;00m imgId \u001b[39min\u001b[39;00m p\u001b[39m.\u001b[39mimgIds\n\u001b[1;32m    158\u001b[0m      ]\n\u001b[1;32m    159\u001b[0m \u001b[39mself\u001b[39m\u001b[39m.\u001b[39m_paramsEval \u001b[39m=\u001b[39m copy\u001b[39m.\u001b[39mdeepcopy(\u001b[39mself\u001b[39m\u001b[39m.\u001b[39mparams)\n\u001b[1;32m    160\u001b[0m toc \u001b[39m=\u001b[39m time\u001b[39m.\u001b[39mtime()\n",
      "File \u001b[0;32m~/miniconda3/envs/mmdet_edit/lib/python3.8/site-packages/pycocotools/cocoeval.py:280\u001b[0m, in \u001b[0;36mCOCOeval.evaluateImg\u001b[0;34m(self, imgId, catId, aRng, maxDet)\u001b[0m\n\u001b[1;32m    277\u001b[0m m   \u001b[39m=\u001b[39m \u001b[39m-\u001b[39m\u001b[39m1\u001b[39m\n\u001b[1;32m    278\u001b[0m \u001b[39mfor\u001b[39;00m gind, g \u001b[39min\u001b[39;00m \u001b[39menumerate\u001b[39m(gt):\n\u001b[1;32m    279\u001b[0m     \u001b[39m# if this gt already matched, and not a crowd, continue\u001b[39;00m\n\u001b[0;32m--> 280\u001b[0m     \u001b[39mif\u001b[39;00m gtm[tind,gind]\u001b[39m>\u001b[39m\u001b[39m0\u001b[39m \u001b[39mand\u001b[39;00m \u001b[39mnot\u001b[39;00m iscrowd[gind]:\n\u001b[1;32m    281\u001b[0m         \u001b[39mcontinue\u001b[39;00m\n\u001b[1;32m    282\u001b[0m     \u001b[39m# if dt matched to reg gt, and on ignore gt, stop\u001b[39;00m\n",
      "\u001b[0;31mKeyboardInterrupt\u001b[0m: "
     ]
    }
   ],
   "source": [
    "import os.path as osp\n",
    "from sys import argv\n",
    "\n",
    "import mmcv\n",
    "import wandb\n",
    "from mmcv import Config\n",
    "from mmdet.apis import set_random_seed, train_detector\n",
    "\n",
    "# Let's take a look at the dataset image\n",
    "from mmdet.datasets import build_dataset\n",
    "from mmdet.models import build_detector\n",
    "\n",
    "wandb.login()\n",
    "\n",
    "cfg = Config.fromfile(f\"/home/aiarhipov/centernet/exps/20_cycle_l1/config.py\")\n",
    "\n",
    "\n",
    "set_random_seed(0, deterministic=False)\n",
    "\n",
    "# Build dataset\n",
    "datasets = [build_dataset(cfg.data.train), build_dataset(cfg.data.val_loss)]\n",
    "\n",
    "# Build the detector\n",
    "model = build_detector(cfg.model)\n",
    "# Add an attribute for visualization convenience\n",
    "model.CLASSES = datasets[0].CLASSES\n",
    "\n",
    "# Create work_dir\n",
    "mmcv.mkdir_or_exist(osp.abspath(cfg.work_dir))\n",
    "train_detector(model, datasets, cfg, distributed=False, validate=True)\n"
   ]
  },
  {
   "cell_type": "code",
   "execution_count": 17,
   "metadata": {},
   "outputs": [],
   "source": [
    "x = 2\n",
    "y = 3\n",
    "x, y = map(lambda x: 5 if x > 5 else x if x > 0 else 0, (x, y))"
   ]
  },
  {
   "cell_type": "code",
   "execution_count": 23,
   "metadata": {},
   "outputs": [
    {
     "data": {
      "text/plain": [
       "(1, 2, 3, 1, 2, 3)"
      ]
     },
     "execution_count": 23,
     "metadata": {},
     "output_type": "execute_result"
    }
   ],
   "source": [
    "(1, 2, 3)* 2"
   ]
  },
  {
   "cell_type": "code",
   "execution_count": 1,
   "metadata": {},
   "outputs": [
    {
     "name": "stdout",
     "output_type": "stream",
     "text": [
      "loading annotations into memory...\n",
      "Done (t=55.42s)\n",
      "creating index...\n",
      "index created!\n"
     ]
    }
   ],
   "source": [
    "import os.path as osp\n",
    "from sys import argv\n",
    "\n",
    "import mmcv\n",
    "import wandb\n",
    "from mmcv import Config\n",
    "from mmdet.apis import set_random_seed, train_detector\n",
    "\n",
    "# Let's take a look at the dataset image\n",
    "from mmdet.datasets import build_dataset\n",
    "from mmdet.models import build_detector\n",
    "import subprocess\n",
    "import random\n",
    "\n",
    "\n",
    "def get_free_gpu():\n",
    "    log = str(\n",
    "        subprocess.check_output(\"nvidia-smi --format=csv --query-gpu=utilization.gpu,memory.used\", shell=True)\n",
    "    ).split(r\"\\n\")[1:-1]\n",
    "    free_gpu = []\n",
    "    for idx, gpu_info in enumerate(log):\n",
    "        if gpu_info[:-4].split(\" %, \")[0] == \"0\" and gpu_info[:-4].split(\" %, \")[1] == \"3\":\n",
    "            free_gpu.append(idx)\n",
    "    if free_gpu:\n",
    "        return random.choice(free_gpu)\n",
    "    raise RuntimeError(\"All gpus are used\")\n",
    "\n",
    "cfg = Config.fromfile(f\"/home/aiarhipov/centernet/exps/25_test_ds/config.py\")\n",
    "\n",
    "\n",
    "set_random_seed(0, deterministic=False)\n",
    "cfg.gpu_ids = [get_free_gpu()]\n",
    "val = True\n",
    "# Build dataset\n",
    "\n",
    "datasets = build_dataset(cfg.data.train)\n",
    "# datasets = [build_dataset(cfg.data.train), build_dataset(cfg.data.val_loss)]\n",
    "# # Build the detector\n",
    "# model = build_detector(cfg.model)\n",
    "# # Add an attribute for visualization convenience\n",
    "# model.CLASSES = datasets[0].CLASSES\n",
    "\n",
    "# # Create work_dir\n",
    "# mmcv.mkdir_or_exist(osp.abspath(cfg.work_dir))\n",
    "# train_detector(model, datasets, cfg, distributed=False, validate=True)"
   ]
  },
  {
   "cell_type": "code",
   "execution_count": 9,
   "metadata": {},
   "outputs": [
    {
     "data": {
      "text/plain": [
       "dict_keys(['img_metas', 'img', 'gt_bboxes', 'gt_labels'])"
      ]
     },
     "execution_count": 9,
     "metadata": {},
     "output_type": "execute_result"
    }
   ],
   "source": [
    "datasets[0].keys()"
   ]
  },
  {
   "cell_type": "code",
   "execution_count": 10,
   "metadata": {},
   "outputs": [
    {
     "data": {
      "text/plain": [
       "DataContainer({'filename': '/home/aiarhipov/datasets/WTW-dataset/train/images/20200211180812076257-0.jpg', 'ori_filename': '20200211180812076257-0.jpg', 'ori_shape': (2132, 1500, 3), 'img_shape': (512, 512, 3), 'pad_shape': (512, 512, 3), 'scale_factor': array([1.1130434, 1.1130434, 1.1130434, 1.1130434], dtype=float32), 'flip': False, 'flip_direction': None, 'img_norm_cfg': {'mean': array([103.53 , 116.28 , 123.675], dtype=float32), 'std': array([1., 1., 1.], dtype=float32), 'to_rgb': False}})"
      ]
     },
     "execution_count": 10,
     "metadata": {},
     "output_type": "execute_result"
    }
   ],
   "source": [
    "datasets[0][\"img_metas\"]"
   ]
  },
  {
   "cell_type": "code",
   "execution_count": null,
   "metadata": {},
   "outputs": [],
   "source": [
    "datasets[0][\"gt_bboxes\"]"
   ]
  },
  {
   "cell_type": "code",
   "execution_count": 15,
   "metadata": {},
   "outputs": [
    {
     "data": {
      "text/plain": [
       "DataContainer(PolygonMasks(num_masks=39, height=512, width=360))"
      ]
     },
     "execution_count": 15,
     "metadata": {},
     "output_type": "execute_result"
    }
   ],
   "source": [
    "datasets[0][\"gt_masks\"]"
   ]
  },
  {
   "cell_type": "code",
   "execution_count": 4,
   "metadata": {},
   "outputs": [
    {
     "name": "stderr",
     "output_type": "stream",
     "text": [
      "/home/aiarhipov/mmdetection/mmdet/utils/setup_env.py:38: UserWarning: Setting OMP_NUM_THREADS environment variable for each process to be 1 in default, to avoid your system being overloaded, please further tune the variable for optimal performance in your application as needed.\n",
      "  warnings.warn(\n",
      "/home/aiarhipov/mmdetection/mmdet/utils/setup_env.py:48: UserWarning: Setting MKL_NUM_THREADS environment variable for each process to be 1 in default, to avoid your system being overloaded, please further tune the variable for optimal performance in your application as needed.\n",
      "  warnings.warn(\n"
     ]
    },
    {
     "name": "stdout",
     "output_type": "stream",
     "text": [
      "loading annotations into memory...\n",
      "Done (t=7.61s)\n",
      "creating index...\n",
      "index created!\n"
     ]
    },
    {
     "name": "stderr",
     "output_type": "stream",
     "text": [
      "2023-05-23 01:33:28,075 - root - INFO - ModulatedDeformConvPack neck.deconv_layers.0.conv is upgraded to version 2.\n",
      "2023-05-23 01:33:28,079 - root - INFO - ModulatedDeformConvPack neck.deconv_layers.2.conv is upgraded to version 2.\n",
      "2023-05-23 01:33:28,081 - root - INFO - ModulatedDeformConvPack neck.deconv_layers.4.conv is upgraded to version 2.\n"
     ]
    },
    {
     "name": "stdout",
     "output_type": "stream",
     "text": [
      "load checkpoint from local path: /home/aiarhipov/centernet/exps/27_seg/latest.pth\n",
      "[                                                  ] 0/3611, elapsed: 0s, ETA:"
     ]
    },
    {
     "ename": "RuntimeError",
     "evalue": "The size of tensor a (138) must match the size of tensor b (137) at non-singleton dimension 3",
     "output_type": "error",
     "traceback": [
      "\u001b[0;31m---------------------------------------------------------------------------\u001b[0m",
      "\u001b[0;31mRuntimeError\u001b[0m                              Traceback (most recent call last)",
      "Cell \u001b[0;32mIn[4], line 109\u001b[0m\n\u001b[1;32m    107\u001b[0m \u001b[39mif\u001b[39;00m \u001b[39mnot\u001b[39;00m distributed:\n\u001b[1;32m    108\u001b[0m     model \u001b[39m=\u001b[39m build_dp(model, cfg\u001b[39m.\u001b[39mdevice, device_ids\u001b[39m=\u001b[39mcfg\u001b[39m.\u001b[39mgpu_ids)\n\u001b[0;32m--> 109\u001b[0m     outputs \u001b[39m=\u001b[39m single_gpu_test(model, data_loader, \u001b[39mFalse\u001b[39;49;00m, \u001b[39m\"\u001b[39;49m\u001b[39m/home/aiarhipov/centernet/exps/27_seg\u001b[39;49m\u001b[39m\"\u001b[39;49m,\n\u001b[1;32m    110\u001b[0m                                 \u001b[39m0.3\u001b[39;49m)\n\u001b[1;32m    111\u001b[0m \u001b[39melse\u001b[39;00m:\n\u001b[1;32m    112\u001b[0m     model \u001b[39m=\u001b[39m build_ddp(\n\u001b[1;32m    113\u001b[0m         model,\n\u001b[1;32m    114\u001b[0m         cfg\u001b[39m.\u001b[39mdevice,\n\u001b[1;32m    115\u001b[0m         device_ids\u001b[39m=\u001b[39m[\u001b[39mint\u001b[39m(os\u001b[39m.\u001b[39menviron[\u001b[39m'\u001b[39m\u001b[39mLOCAL_RANK\u001b[39m\u001b[39m'\u001b[39m])],\n\u001b[1;32m    116\u001b[0m         broadcast_buffers\u001b[39m=\u001b[39m\u001b[39mFalse\u001b[39;00m)\n",
      "File \u001b[0;32m~/mmdetection/mmdet/apis/test.py:29\u001b[0m, in \u001b[0;36msingle_gpu_test\u001b[0;34m(model, data_loader, show, out_dir, show_score_thr)\u001b[0m\n\u001b[1;32m     27\u001b[0m \u001b[39mfor\u001b[39;00m i, data \u001b[39min\u001b[39;00m \u001b[39menumerate\u001b[39m(data_loader):\n\u001b[1;32m     28\u001b[0m     \u001b[39mwith\u001b[39;00m torch\u001b[39m.\u001b[39mno_grad():\n\u001b[0;32m---> 29\u001b[0m         result \u001b[39m=\u001b[39m model(return_loss\u001b[39m=\u001b[39;49m\u001b[39mFalse\u001b[39;49;00m, rescale\u001b[39m=\u001b[39;49m\u001b[39mTrue\u001b[39;49;00m, \u001b[39m*\u001b[39;49m\u001b[39m*\u001b[39;49mdata)\n\u001b[1;32m     31\u001b[0m     batch_size \u001b[39m=\u001b[39m \u001b[39mlen\u001b[39m(result)\n\u001b[1;32m     32\u001b[0m     \u001b[39mif\u001b[39;00m show \u001b[39mor\u001b[39;00m out_dir:\n",
      "File \u001b[0;32m~/miniconda3/envs/mmdet_edit/lib/python3.8/site-packages/torch/nn/modules/module.py:889\u001b[0m, in \u001b[0;36mModule._call_impl\u001b[0;34m(self, *input, **kwargs)\u001b[0m\n\u001b[1;32m    887\u001b[0m     result \u001b[39m=\u001b[39m \u001b[39mself\u001b[39m\u001b[39m.\u001b[39m_slow_forward(\u001b[39m*\u001b[39m\u001b[39minput\u001b[39m, \u001b[39m*\u001b[39m\u001b[39m*\u001b[39mkwargs)\n\u001b[1;32m    888\u001b[0m \u001b[39melse\u001b[39;00m:\n\u001b[0;32m--> 889\u001b[0m     result \u001b[39m=\u001b[39m \u001b[39mself\u001b[39;49m\u001b[39m.\u001b[39;49mforward(\u001b[39m*\u001b[39;49m\u001b[39minput\u001b[39;49m, \u001b[39m*\u001b[39;49m\u001b[39m*\u001b[39;49mkwargs)\n\u001b[1;32m    890\u001b[0m \u001b[39mfor\u001b[39;00m hook \u001b[39min\u001b[39;00m itertools\u001b[39m.\u001b[39mchain(\n\u001b[1;32m    891\u001b[0m         _global_forward_hooks\u001b[39m.\u001b[39mvalues(),\n\u001b[1;32m    892\u001b[0m         \u001b[39mself\u001b[39m\u001b[39m.\u001b[39m_forward_hooks\u001b[39m.\u001b[39mvalues()):\n\u001b[1;32m    893\u001b[0m     hook_result \u001b[39m=\u001b[39m hook(\u001b[39mself\u001b[39m, \u001b[39minput\u001b[39m, result)\n",
      "File \u001b[0;32m~/miniconda3/envs/mmdet_edit/lib/python3.8/site-packages/mmcv/parallel/data_parallel.py:51\u001b[0m, in \u001b[0;36mMMDataParallel.forward\u001b[0;34m(self, *inputs, **kwargs)\u001b[0m\n\u001b[1;32m     49\u001b[0m     \u001b[39mreturn\u001b[39;00m \u001b[39mself\u001b[39m\u001b[39m.\u001b[39mmodule(\u001b[39m*\u001b[39minputs[\u001b[39m0\u001b[39m], \u001b[39m*\u001b[39m\u001b[39m*\u001b[39mkwargs[\u001b[39m0\u001b[39m])\n\u001b[1;32m     50\u001b[0m \u001b[39melse\u001b[39;00m:\n\u001b[0;32m---> 51\u001b[0m     \u001b[39mreturn\u001b[39;00m \u001b[39msuper\u001b[39;49m()\u001b[39m.\u001b[39;49mforward(\u001b[39m*\u001b[39;49minputs, \u001b[39m*\u001b[39;49m\u001b[39m*\u001b[39;49mkwargs)\n",
      "File \u001b[0;32m~/miniconda3/envs/mmdet_edit/lib/python3.8/site-packages/torch/nn/parallel/data_parallel.py:165\u001b[0m, in \u001b[0;36mDataParallel.forward\u001b[0;34m(self, *inputs, **kwargs)\u001b[0m\n\u001b[1;32m    162\u001b[0m     kwargs \u001b[39m=\u001b[39m ({},)\n\u001b[1;32m    164\u001b[0m \u001b[39mif\u001b[39;00m \u001b[39mlen\u001b[39m(\u001b[39mself\u001b[39m\u001b[39m.\u001b[39mdevice_ids) \u001b[39m==\u001b[39m \u001b[39m1\u001b[39m:\n\u001b[0;32m--> 165\u001b[0m     \u001b[39mreturn\u001b[39;00m \u001b[39mself\u001b[39;49m\u001b[39m.\u001b[39;49mmodule(\u001b[39m*\u001b[39;49minputs[\u001b[39m0\u001b[39;49m], \u001b[39m*\u001b[39;49m\u001b[39m*\u001b[39;49mkwargs[\u001b[39m0\u001b[39;49m])\n\u001b[1;32m    166\u001b[0m replicas \u001b[39m=\u001b[39m \u001b[39mself\u001b[39m\u001b[39m.\u001b[39mreplicate(\u001b[39mself\u001b[39m\u001b[39m.\u001b[39mmodule, \u001b[39mself\u001b[39m\u001b[39m.\u001b[39mdevice_ids[:\u001b[39mlen\u001b[39m(inputs)])\n\u001b[1;32m    167\u001b[0m outputs \u001b[39m=\u001b[39m \u001b[39mself\u001b[39m\u001b[39m.\u001b[39mparallel_apply(replicas, inputs, kwargs)\n",
      "File \u001b[0;32m~/miniconda3/envs/mmdet_edit/lib/python3.8/site-packages/torch/nn/modules/module.py:889\u001b[0m, in \u001b[0;36mModule._call_impl\u001b[0;34m(self, *input, **kwargs)\u001b[0m\n\u001b[1;32m    887\u001b[0m     result \u001b[39m=\u001b[39m \u001b[39mself\u001b[39m\u001b[39m.\u001b[39m_slow_forward(\u001b[39m*\u001b[39m\u001b[39minput\u001b[39m, \u001b[39m*\u001b[39m\u001b[39m*\u001b[39mkwargs)\n\u001b[1;32m    888\u001b[0m \u001b[39melse\u001b[39;00m:\n\u001b[0;32m--> 889\u001b[0m     result \u001b[39m=\u001b[39m \u001b[39mself\u001b[39;49m\u001b[39m.\u001b[39;49mforward(\u001b[39m*\u001b[39;49m\u001b[39minput\u001b[39;49m, \u001b[39m*\u001b[39;49m\u001b[39m*\u001b[39;49mkwargs)\n\u001b[1;32m    890\u001b[0m \u001b[39mfor\u001b[39;00m hook \u001b[39min\u001b[39;00m itertools\u001b[39m.\u001b[39mchain(\n\u001b[1;32m    891\u001b[0m         _global_forward_hooks\u001b[39m.\u001b[39mvalues(),\n\u001b[1;32m    892\u001b[0m         \u001b[39mself\u001b[39m\u001b[39m.\u001b[39m_forward_hooks\u001b[39m.\u001b[39mvalues()):\n\u001b[1;32m    893\u001b[0m     hook_result \u001b[39m=\u001b[39m hook(\u001b[39mself\u001b[39m, \u001b[39minput\u001b[39m, result)\n",
      "File \u001b[0;32m~/miniconda3/envs/mmdet_edit/lib/python3.8/site-packages/mmcv/runner/fp16_utils.py:116\u001b[0m, in \u001b[0;36mauto_fp16.<locals>.auto_fp16_wrapper.<locals>.new_func\u001b[0;34m(*args, **kwargs)\u001b[0m\n\u001b[1;32m    113\u001b[0m     \u001b[39mraise\u001b[39;00m \u001b[39mTypeError\u001b[39;00m(\u001b[39m'\u001b[39m\u001b[39m@auto_fp16 can only be used to decorate the \u001b[39m\u001b[39m'\u001b[39m\n\u001b[1;32m    114\u001b[0m                     \u001b[39mf\u001b[39m\u001b[39m'\u001b[39m\u001b[39mmethod of those classes \u001b[39m\u001b[39m{\u001b[39;00msupported_types\u001b[39m}\u001b[39;00m\u001b[39m'\u001b[39m)\n\u001b[1;32m    115\u001b[0m \u001b[39mif\u001b[39;00m \u001b[39mnot\u001b[39;00m (\u001b[39mhasattr\u001b[39m(args[\u001b[39m0\u001b[39m], \u001b[39m'\u001b[39m\u001b[39mfp16_enabled\u001b[39m\u001b[39m'\u001b[39m) \u001b[39mand\u001b[39;00m args[\u001b[39m0\u001b[39m]\u001b[39m.\u001b[39mfp16_enabled):\n\u001b[0;32m--> 116\u001b[0m     \u001b[39mreturn\u001b[39;00m old_func(\u001b[39m*\u001b[39;49margs, \u001b[39m*\u001b[39;49m\u001b[39m*\u001b[39;49mkwargs)\n\u001b[1;32m    118\u001b[0m \u001b[39m# get the arg spec of the decorated method\u001b[39;00m\n\u001b[1;32m    119\u001b[0m args_info \u001b[39m=\u001b[39m getfullargspec(old_func)\n",
      "File \u001b[0;32m~/mmdetection/mmdet/models/detectors/base.py:174\u001b[0m, in \u001b[0;36mBaseDetector.forward\u001b[0;34m(self, img, img_metas, return_loss, **kwargs)\u001b[0m\n\u001b[1;32m    172\u001b[0m     \u001b[39mreturn\u001b[39;00m \u001b[39mself\u001b[39m\u001b[39m.\u001b[39mforward_train(img, img_metas, \u001b[39m*\u001b[39m\u001b[39m*\u001b[39mkwargs)\n\u001b[1;32m    173\u001b[0m \u001b[39melse\u001b[39;00m:\n\u001b[0;32m--> 174\u001b[0m     \u001b[39mreturn\u001b[39;00m \u001b[39mself\u001b[39;49m\u001b[39m.\u001b[39;49mforward_test(img, img_metas, \u001b[39m*\u001b[39;49m\u001b[39m*\u001b[39;49mkwargs)\n",
      "File \u001b[0;32m~/mmdetection/mmdet/models/detectors/base.py:147\u001b[0m, in \u001b[0;36mBaseDetector.forward_test\u001b[0;34m(self, imgs, img_metas, **kwargs)\u001b[0m\n\u001b[1;32m    145\u001b[0m     \u001b[39mif\u001b[39;00m \u001b[39m'\u001b[39m\u001b[39mproposals\u001b[39m\u001b[39m'\u001b[39m \u001b[39min\u001b[39;00m kwargs:\n\u001b[1;32m    146\u001b[0m         kwargs[\u001b[39m'\u001b[39m\u001b[39mproposals\u001b[39m\u001b[39m'\u001b[39m] \u001b[39m=\u001b[39m kwargs[\u001b[39m'\u001b[39m\u001b[39mproposals\u001b[39m\u001b[39m'\u001b[39m][\u001b[39m0\u001b[39m]\n\u001b[0;32m--> 147\u001b[0m     \u001b[39mreturn\u001b[39;00m \u001b[39mself\u001b[39;49m\u001b[39m.\u001b[39;49msimple_test(imgs[\u001b[39m0\u001b[39;49m], img_metas[\u001b[39m0\u001b[39;49m], \u001b[39m*\u001b[39;49m\u001b[39m*\u001b[39;49mkwargs)\n\u001b[1;32m    148\u001b[0m \u001b[39melse\u001b[39;00m:\n\u001b[1;32m    149\u001b[0m     \u001b[39massert\u001b[39;00m imgs[\u001b[39m0\u001b[39m]\u001b[39m.\u001b[39msize(\u001b[39m0\u001b[39m) \u001b[39m==\u001b[39m \u001b[39m1\u001b[39m, \u001b[39m'\u001b[39m\u001b[39maug test does not support \u001b[39m\u001b[39m'\u001b[39m \\\n\u001b[1;32m    150\u001b[0m                                  \u001b[39m'\u001b[39m\u001b[39minference with batch size \u001b[39m\u001b[39m'\u001b[39m \\\n\u001b[1;32m    151\u001b[0m                                  \u001b[39mf\u001b[39m\u001b[39m'\u001b[39m\u001b[39m{\u001b[39;00mimgs[\u001b[39m0\u001b[39m]\u001b[39m.\u001b[39msize(\u001b[39m0\u001b[39m)\u001b[39m}\u001b[39;00m\u001b[39m'\u001b[39m\n",
      "File \u001b[0;32m~/mmdetection/mmdet/models/detectors/single_stage.py:89\u001b[0m, in \u001b[0;36mSingleStageDetector.simple_test\u001b[0;34m(self, img, img_metas, rescale)\u001b[0m\n\u001b[1;32m     75\u001b[0m \u001b[39mdef\u001b[39;00m \u001b[39msimple_test\u001b[39m(\u001b[39mself\u001b[39m, img, img_metas, rescale\u001b[39m=\u001b[39m\u001b[39mFalse\u001b[39;00m):\n\u001b[1;32m     76\u001b[0m     \u001b[39m\"\"\"Test function without test-time augmentation.\u001b[39;00m\n\u001b[1;32m     77\u001b[0m \n\u001b[1;32m     78\u001b[0m \u001b[39m    Args:\u001b[39;00m\n\u001b[0;32m   (...)\u001b[0m\n\u001b[1;32m     87\u001b[0m \u001b[39m            corresponds to each class.\u001b[39;00m\n\u001b[1;32m     88\u001b[0m \u001b[39m    \"\"\"\u001b[39;00m\n\u001b[0;32m---> 89\u001b[0m     feat \u001b[39m=\u001b[39m \u001b[39mself\u001b[39;49m\u001b[39m.\u001b[39;49mextract_feat(img)\n\u001b[1;32m     90\u001b[0m     results_list \u001b[39m=\u001b[39m \u001b[39mself\u001b[39m\u001b[39m.\u001b[39mbbox_head\u001b[39m.\u001b[39msimple_test(feat, img_metas, rescale\u001b[39m=\u001b[39mrescale)\n\u001b[1;32m     91\u001b[0m     bbox_results \u001b[39m=\u001b[39m [\n\u001b[1;32m     92\u001b[0m         bbox2result(det_bboxes, det_labels, \u001b[39mself\u001b[39m\u001b[39m.\u001b[39mbbox_head\u001b[39m.\u001b[39mnum_classes)\n\u001b[1;32m     93\u001b[0m         \u001b[39mfor\u001b[39;00m det_bboxes, det_labels \u001b[39min\u001b[39;00m results_list\n\u001b[1;32m     94\u001b[0m     ]\n",
      "File \u001b[0;32m~/mmdetection/mmdet/models/detectors/single_stage.py:37\u001b[0m, in \u001b[0;36mSingleStageDetector.extract_feat\u001b[0;34m(self, img)\u001b[0m\n\u001b[1;32m     35\u001b[0m \u001b[39mdef\u001b[39;00m \u001b[39mextract_feat\u001b[39m(\u001b[39mself\u001b[39m, img):\n\u001b[1;32m     36\u001b[0m     \u001b[39m\"\"\"Directly extract features from the backbone+neck.\"\"\"\u001b[39;00m\n\u001b[0;32m---> 37\u001b[0m     x \u001b[39m=\u001b[39m \u001b[39mself\u001b[39;49m\u001b[39m.\u001b[39;49mbackbone(img)\n\u001b[1;32m     38\u001b[0m     \u001b[39mif\u001b[39;00m \u001b[39mself\u001b[39m\u001b[39m.\u001b[39mwith_neck:\n\u001b[1;32m     39\u001b[0m         x \u001b[39m=\u001b[39m \u001b[39mself\u001b[39m\u001b[39m.\u001b[39mneck(x)\n",
      "File \u001b[0;32m~/miniconda3/envs/mmdet_edit/lib/python3.8/site-packages/torch/nn/modules/module.py:889\u001b[0m, in \u001b[0;36mModule._call_impl\u001b[0;34m(self, *input, **kwargs)\u001b[0m\n\u001b[1;32m    887\u001b[0m     result \u001b[39m=\u001b[39m \u001b[39mself\u001b[39m\u001b[39m.\u001b[39m_slow_forward(\u001b[39m*\u001b[39m\u001b[39minput\u001b[39m, \u001b[39m*\u001b[39m\u001b[39m*\u001b[39mkwargs)\n\u001b[1;32m    888\u001b[0m \u001b[39melse\u001b[39;00m:\n\u001b[0;32m--> 889\u001b[0m     result \u001b[39m=\u001b[39m \u001b[39mself\u001b[39;49m\u001b[39m.\u001b[39;49mforward(\u001b[39m*\u001b[39;49m\u001b[39minput\u001b[39;49m, \u001b[39m*\u001b[39;49m\u001b[39m*\u001b[39;49mkwargs)\n\u001b[1;32m    890\u001b[0m \u001b[39mfor\u001b[39;00m hook \u001b[39min\u001b[39;00m itertools\u001b[39m.\u001b[39mchain(\n\u001b[1;32m    891\u001b[0m         _global_forward_hooks\u001b[39m.\u001b[39mvalues(),\n\u001b[1;32m    892\u001b[0m         \u001b[39mself\u001b[39m\u001b[39m.\u001b[39m_forward_hooks\u001b[39m.\u001b[39mvalues()):\n\u001b[1;32m    893\u001b[0m     hook_result \u001b[39m=\u001b[39m hook(\u001b[39mself\u001b[39m, \u001b[39minput\u001b[39m, result)\n",
      "File \u001b[0;32m~/mmdetection/mmdet/models/backbones/dla_mmdet3d.py:474\u001b[0m, in \u001b[0;36mDLANetMMDet3D.forward\u001b[0;34m(self, x)\u001b[0m\n\u001b[1;32m    472\u001b[0m x \u001b[39m=\u001b[39m \u001b[39mself\u001b[39m\u001b[39m.\u001b[39mbase_layer(x)\n\u001b[1;32m    473\u001b[0m \u001b[39mfor\u001b[39;00m i \u001b[39min\u001b[39;00m \u001b[39mrange\u001b[39m(\u001b[39mself\u001b[39m\u001b[39m.\u001b[39mnum_levels):\n\u001b[0;32m--> 474\u001b[0m     x \u001b[39m=\u001b[39m \u001b[39mgetattr\u001b[39;49m(\u001b[39mself\u001b[39;49m, \u001b[39m\"\u001b[39;49m\u001b[39mlevel\u001b[39;49m\u001b[39m{}\u001b[39;49;00m\u001b[39m\"\u001b[39;49m\u001b[39m.\u001b[39;49mformat(i))(x)\n\u001b[1;32m    475\u001b[0m     \u001b[39mif\u001b[39;00m i \u001b[39min\u001b[39;00m \u001b[39mself\u001b[39m\u001b[39m.\u001b[39mout_indices:\n\u001b[1;32m    476\u001b[0m         outs\u001b[39m.\u001b[39mappend(x)\n",
      "File \u001b[0;32m~/miniconda3/envs/mmdet_edit/lib/python3.8/site-packages/torch/nn/modules/module.py:889\u001b[0m, in \u001b[0;36mModule._call_impl\u001b[0;34m(self, *input, **kwargs)\u001b[0m\n\u001b[1;32m    887\u001b[0m     result \u001b[39m=\u001b[39m \u001b[39mself\u001b[39m\u001b[39m.\u001b[39m_slow_forward(\u001b[39m*\u001b[39m\u001b[39minput\u001b[39m, \u001b[39m*\u001b[39m\u001b[39m*\u001b[39mkwargs)\n\u001b[1;32m    888\u001b[0m \u001b[39melse\u001b[39;00m:\n\u001b[0;32m--> 889\u001b[0m     result \u001b[39m=\u001b[39m \u001b[39mself\u001b[39;49m\u001b[39m.\u001b[39;49mforward(\u001b[39m*\u001b[39;49m\u001b[39minput\u001b[39;49m, \u001b[39m*\u001b[39;49m\u001b[39m*\u001b[39;49mkwargs)\n\u001b[1;32m    890\u001b[0m \u001b[39mfor\u001b[39;00m hook \u001b[39min\u001b[39;00m itertools\u001b[39m.\u001b[39mchain(\n\u001b[1;32m    891\u001b[0m         _global_forward_hooks\u001b[39m.\u001b[39mvalues(),\n\u001b[1;32m    892\u001b[0m         \u001b[39mself\u001b[39m\u001b[39m.\u001b[39m_forward_hooks\u001b[39m.\u001b[39mvalues()):\n\u001b[1;32m    893\u001b[0m     hook_result \u001b[39m=\u001b[39m hook(\u001b[39mself\u001b[39m, \u001b[39minput\u001b[39m, result)\n",
      "File \u001b[0;32m~/mmdetection/mmdet/models/backbones/dla_mmdet3d.py:283\u001b[0m, in \u001b[0;36mTree.forward\u001b[0;34m(self, x, identity, children)\u001b[0m\n\u001b[1;32m    281\u001b[0m \u001b[39mif\u001b[39;00m \u001b[39mself\u001b[39m\u001b[39m.\u001b[39mlevel_root:\n\u001b[1;32m    282\u001b[0m     children\u001b[39m.\u001b[39mappend(bottom)\n\u001b[0;32m--> 283\u001b[0m x1 \u001b[39m=\u001b[39m \u001b[39mself\u001b[39;49m\u001b[39m.\u001b[39;49mtree1(x, identity)\n\u001b[1;32m    284\u001b[0m \u001b[39mif\u001b[39;00m \u001b[39mself\u001b[39m\u001b[39m.\u001b[39mlevels \u001b[39m==\u001b[39m \u001b[39m1\u001b[39m:\n\u001b[1;32m    285\u001b[0m     x2 \u001b[39m=\u001b[39m \u001b[39mself\u001b[39m\u001b[39m.\u001b[39mtree2(x1)\n",
      "File \u001b[0;32m~/miniconda3/envs/mmdet_edit/lib/python3.8/site-packages/torch/nn/modules/module.py:889\u001b[0m, in \u001b[0;36mModule._call_impl\u001b[0;34m(self, *input, **kwargs)\u001b[0m\n\u001b[1;32m    887\u001b[0m     result \u001b[39m=\u001b[39m \u001b[39mself\u001b[39m\u001b[39m.\u001b[39m_slow_forward(\u001b[39m*\u001b[39m\u001b[39minput\u001b[39m, \u001b[39m*\u001b[39m\u001b[39m*\u001b[39mkwargs)\n\u001b[1;32m    888\u001b[0m \u001b[39melse\u001b[39;00m:\n\u001b[0;32m--> 889\u001b[0m     result \u001b[39m=\u001b[39m \u001b[39mself\u001b[39;49m\u001b[39m.\u001b[39;49mforward(\u001b[39m*\u001b[39;49m\u001b[39minput\u001b[39;49m, \u001b[39m*\u001b[39;49m\u001b[39m*\u001b[39;49mkwargs)\n\u001b[1;32m    890\u001b[0m \u001b[39mfor\u001b[39;00m hook \u001b[39min\u001b[39;00m itertools\u001b[39m.\u001b[39mchain(\n\u001b[1;32m    891\u001b[0m         _global_forward_hooks\u001b[39m.\u001b[39mvalues(),\n\u001b[1;32m    892\u001b[0m         \u001b[39mself\u001b[39m\u001b[39m.\u001b[39m_forward_hooks\u001b[39m.\u001b[39mvalues()):\n\u001b[1;32m    893\u001b[0m     hook_result \u001b[39m=\u001b[39m hook(\u001b[39mself\u001b[39m, \u001b[39minput\u001b[39m, result)\n",
      "File \u001b[0;32m~/mmdetection/mmdet/models/backbones/dla_mmdet3d.py:101\u001b[0m, in \u001b[0;36mBasicBlock.forward\u001b[0;34m(self, x, identity)\u001b[0m\n\u001b[1;32m     99\u001b[0m out \u001b[39m=\u001b[39m \u001b[39mself\u001b[39m\u001b[39m.\u001b[39mconv2(out)\n\u001b[1;32m    100\u001b[0m out \u001b[39m=\u001b[39m \u001b[39mself\u001b[39m\u001b[39m.\u001b[39mnorm2(out)\n\u001b[0;32m--> 101\u001b[0m out \u001b[39m+\u001b[39m\u001b[39m=\u001b[39m identity\n\u001b[1;32m    102\u001b[0m out \u001b[39m=\u001b[39m \u001b[39mself\u001b[39m\u001b[39m.\u001b[39mrelu(out)\n\u001b[1;32m    104\u001b[0m \u001b[39mreturn\u001b[39;00m out\n",
      "\u001b[0;31mRuntimeError\u001b[0m: The size of tensor a (138) must match the size of tensor b (137) at non-singleton dimension 3"
     ]
    }
   ],
   "source": [
    "# Copyright (c) OpenMMLab. All rights reserved.\n",
    "import argparse\n",
    "import os\n",
    "import os.path as osp\n",
    "import time\n",
    "import warnings\n",
    "\n",
    "import mmcv\n",
    "import torch\n",
    "from mmcv import Config, DictAction\n",
    "from mmcv.cnn import fuse_conv_bn\n",
    "from mmcv.runner import (get_dist_info, init_dist, load_checkpoint,\n",
    "                         wrap_fp16_model)\n",
    "\n",
    "from mmdet.apis import multi_gpu_test, single_gpu_test\n",
    "from mmdet.datasets import (build_dataloader, build_dataset,\n",
    "                            replace_ImageToTensor)\n",
    "from mmdet.models import build_detector\n",
    "from mmdet.utils import (build_ddp, build_dp, compat_cfg, get_device,\n",
    "                         replace_cfg_vals, setup_multi_processes,\n",
    "                         update_data_root)\n",
    "cfg = Config.fromfile(\"/home/aiarhipov/centernet/exps/27_seg/config.py\")\n",
    "\n",
    "# replace the ${key} with the value of cfg.key\n",
    "cfg = replace_cfg_vals(cfg)\n",
    "\n",
    "# update data root according to MMDET_DATASETS\n",
    "update_data_root(cfg)\n",
    "\n",
    "cfg = compat_cfg(cfg)\n",
    "\n",
    "# set multi-process settings\n",
    "setup_multi_processes(cfg)\n",
    "\n",
    "# set cudnn_benchmark\n",
    "if cfg.get('cudnn_benchmark', False):\n",
    "    torch.backends.cudnn.benchmark = True\n",
    "\n",
    "if 'pretrained' in cfg.model:\n",
    "    cfg.model.pretrained = None\n",
    "elif 'init_cfg' in cfg.model.backbone:\n",
    "    cfg.model.backbone.init_cfg = None\n",
    "\n",
    "if cfg.model.get('neck'):\n",
    "    if isinstance(cfg.model.neck, list):\n",
    "        for neck_cfg in cfg.model.neck:\n",
    "            if neck_cfg.get('rfp_backbone'):\n",
    "                if neck_cfg.rfp_backbone.get('pretrained'):\n",
    "                    neck_cfg.rfp_backbone.pretrained = None\n",
    "    elif cfg.model.neck.get('rfp_backbone'):\n",
    "        if cfg.model.neck.rfp_backbone.get('pretrained'):\n",
    "            cfg.model.neck.rfp_backbone.pretrained = None\n",
    "\n",
    "\n",
    "cfg.gpu_ids = [7]\n",
    "\n",
    "cfg.device = get_device()\n",
    "# init distributed env first, since logger depends on the dist info.\n",
    "\n",
    "distributed = False\n",
    "\n",
    "\n",
    "test_dataloader_default_args = dict(\n",
    "    samples_per_gpu=1, workers_per_gpu=2, dist=distributed, shuffle=False)\n",
    "\n",
    "# in case the test dataset is concatenated\n",
    "if isinstance(cfg.data.test, dict):\n",
    "    cfg.data.test.test_mode = True\n",
    "    if cfg.data.test_dataloader.get('samples_per_gpu', 1) > 1:\n",
    "        # Replace 'ImageToTensor' to 'DefaultFormatBundle'\n",
    "        cfg.data.test.pipeline = replace_ImageToTensor(\n",
    "            cfg.data.test.pipeline)\n",
    "elif isinstance(cfg.data.test, list):\n",
    "    for ds_cfg in cfg.data.test:\n",
    "        ds_cfg.test_mode = True\n",
    "    if cfg.data.test_dataloader.get('samples_per_gpu', 1) > 1:\n",
    "        for ds_cfg in cfg.data.test:\n",
    "            ds_cfg.pipeline = replace_ImageToTensor(ds_cfg.pipeline)\n",
    "\n",
    "test_loader_cfg = {\n",
    "    **test_dataloader_default_args,\n",
    "    **cfg.data.get('test_dataloader', {})\n",
    "}\n",
    "\n",
    "rank, _ = get_dist_info()\n",
    "# allows not to create\n",
    "\n",
    "# build the dataloader\n",
    "dataset = build_dataset(cfg.data.test)\n",
    "data_loader = build_dataloader(dataset, **test_loader_cfg)\n",
    "\n",
    "# build the model and load checkpoint\n",
    "cfg.model.train_cfg = None\n",
    "model = build_detector(cfg.model, test_cfg=cfg.get('test_cfg'))\n",
    "fp16_cfg = cfg.get('fp16', None)\n",
    "if fp16_cfg is not None:\n",
    "    wrap_fp16_model(model)\n",
    "checkpoint = load_checkpoint(model, \"/home/aiarhipov/centernet/exps/27_seg/latest.pth\", map_location='cpu')\n",
    "\n",
    "# old versions did not save class info in checkpoints, this walkaround is\n",
    "# for backward compatibility\n",
    "if 'CLASSES' in checkpoint.get('meta', {}):\n",
    "    model.CLASSES = checkpoint['meta']['CLASSES']\n",
    "else:\n",
    "    model.CLASSES = dataset.CLASSES\n",
    "\n",
    "if not distributed:\n",
    "    model = build_dp(model, cfg.device, device_ids=cfg.gpu_ids)\n",
    "    outputs = single_gpu_test(model, data_loader, False, \"/home/aiarhipov/centernet/exps/27_seg\",\n",
    "                                0.3)\n",
    "else:\n",
    "    model = build_ddp(\n",
    "        model,\n",
    "        cfg.device,\n",
    "        device_ids=[int(os.environ['LOCAL_RANK'])],\n",
    "        broadcast_buffers=False)\n",
    "    outputs = multi_gpu_test(\n",
    "        model, data_loader, \"/home/aiarhipov/centernet/exps/27_seg\", True\n",
    "        or cfg.evaluation.get('gpu_collect', False))\n",
    "\n",
    "rank, _ = get_dist_info()\n",
    "if rank == 0:\n",
    "    if True:\n",
    "        print(f'\\nwriting results to {\"/home/aiarhipov/centernet/exps/27_seg/test_output.pkl\"}')\n",
    "        mmcv.dump(outputs, \"/home/aiarhipov/centernet/exps/27_seg/test_output.pkl\")\n",
    "    kwargs = {} \n",
    "\n",
    "    if True:\n",
    "        eval_kwargs = cfg.get('evaluation', {}).copy()\n",
    "        # hard-code way to remove EvalHook args\n",
    "        for key in [\n",
    "                'interval', 'tmpdir', 'start', 'gpu_collect', 'save_best',\n",
    "                'rule', 'dynamic_intervals'\n",
    "        ]:\n",
    "            eval_kwargs.pop(key, None)\n",
    "        eval_kwargs.update(dict(metric=\"bbox\", **kwargs))\n",
    "        metric = dataset.evaluate(outputs, **eval_kwargs)\n",
    "        print(metric)\n",
    "        metric_dict = dict(config=args.config, metric=metric)\n",
    "        if args.work_dir is not None and rank == 0:\n",
    "            mmcv.dump(metric_dict, json_file)\n",
    "\n"
   ]
  },
  {
   "cell_type": "code",
   "execution_count": 6,
   "metadata": {},
   "outputs": [
    {
     "name": "stdout",
     "output_type": "stream",
     "text": [
      "> \u001b[0;32m/home/aiarhipov/mmdetection/mmdet/models/backbones/dla_mmdet3d.py\u001b[0m(101)\u001b[0;36mforward\u001b[0;34m()\u001b[0m\n",
      "\u001b[0;32m     99 \u001b[0;31m        \u001b[0mout\u001b[0m \u001b[0;34m=\u001b[0m \u001b[0mself\u001b[0m\u001b[0;34m.\u001b[0m\u001b[0mconv2\u001b[0m\u001b[0;34m(\u001b[0m\u001b[0mout\u001b[0m\u001b[0;34m)\u001b[0m\u001b[0;34m\u001b[0m\u001b[0;34m\u001b[0m\u001b[0m\n",
      "\u001b[0m\u001b[0;32m    100 \u001b[0;31m        \u001b[0mout\u001b[0m \u001b[0;34m=\u001b[0m \u001b[0mself\u001b[0m\u001b[0;34m.\u001b[0m\u001b[0mnorm2\u001b[0m\u001b[0;34m(\u001b[0m\u001b[0mout\u001b[0m\u001b[0;34m)\u001b[0m\u001b[0;34m\u001b[0m\u001b[0;34m\u001b[0m\u001b[0m\n",
      "\u001b[0m\u001b[0;32m--> 101 \u001b[0;31m        \u001b[0mout\u001b[0m \u001b[0;34m+=\u001b[0m \u001b[0midentity\u001b[0m\u001b[0;34m\u001b[0m\u001b[0;34m\u001b[0m\u001b[0m\n",
      "\u001b[0m\u001b[0;32m    102 \u001b[0;31m        \u001b[0mout\u001b[0m \u001b[0;34m=\u001b[0m \u001b[0mself\u001b[0m\u001b[0;34m.\u001b[0m\u001b[0mrelu\u001b[0m\u001b[0;34m(\u001b[0m\u001b[0mout\u001b[0m\u001b[0;34m)\u001b[0m\u001b[0;34m\u001b[0m\u001b[0;34m\u001b[0m\u001b[0m\n",
      "\u001b[0m\u001b[0;32m    103 \u001b[0;31m\u001b[0;34m\u001b[0m\u001b[0m\n",
      "\u001b[0m\n",
      "tensor([[[[ 1.4697,  0.2132,  0.4471,  ...,  0.5050,  0.6873,  0.8429],\n",
      "          [ 1.9641,  0.5907,  0.4778,  ...,  0.8615,  0.5734,  0.8675],\n",
      "          [ 1.9426,  0.4967,  0.2885,  ...,  0.8883,  0.4669,  0.9239],\n",
      "          ...,\n",
      "          [ 1.3041,  0.6102,  0.5022,  ...,  0.4219, -0.1993, -0.7669],\n",
      "          [ 1.3405,  0.7363,  0.7568,  ...,  0.1736,  0.7196,  0.4418],\n",
      "          [ 1.4662,  0.5046,  0.9331,  ...,  0.2079,  0.6816,  0.4250]],\n",
      "\n",
      "         [[-0.1505, -0.4372, -0.7145,  ..., -0.9129, -0.8585, -0.4997],\n",
      "          [-0.5380, -0.8296, -1.0714,  ..., -0.8866, -0.5394, -0.6916],\n",
      "          [-0.3251, -0.8380, -1.1178,  ..., -0.9714, -0.5580, -0.3422],\n",
      "          ...,\n",
      "          [-0.3401,  0.1151,  1.1932,  ..., -1.1767, -1.1095,  1.1697],\n",
      "          [-0.3239,  0.3627,  0.5151,  ..., -1.1050, -0.9512, -0.7449],\n",
      "          [-0.4903, -0.1447, -0.6506,  ..., -0.9628, -0.8475, -0.9412]],\n",
      "\n",
      "         [[-0.6524, -0.5323, -0.5259,  ..., -0.7253, -0.4819, -0.5610],\n",
      "          [-0.3942, -0.2239, -0.2136,  ..., -0.2427, -0.2186, -0.2736],\n",
      "          [-0.3627, -0.2903, -0.3035,  ...,  0.0468, -0.3234, -0.5260],\n",
      "          ...,\n",
      "          [ 0.1906,  1.4491,  1.0457,  ..., -0.3118, -0.6036,  1.2705],\n",
      "          [ 0.4489,  0.9731,  0.1495,  ..., -0.3818, -0.4295, -0.6193],\n",
      "          [ 0.1251, -0.7589, -0.8767,  ..., -0.5503, -0.5923, -0.6007]],\n",
      "\n",
      "         ...,\n",
      "\n",
      "         [[ 0.8378,  1.1798,  1.4526,  ...,  1.4403,  1.1245,  1.0172],\n",
      "          [ 0.9194,  1.2146,  1.5929,  ...,  0.9441,  0.9639,  0.9242],\n",
      "          [ 0.9513,  1.3531,  1.5343,  ...,  1.2071,  1.1660,  0.8420],\n",
      "          ...,\n",
      "          [ 0.3443, -0.6827, -0.5519,  ...,  1.0294,  0.3881,  0.3480],\n",
      "          [ 0.3134, -0.1681,  0.5109,  ...,  1.2129,  1.0728,  1.2638],\n",
      "          [ 0.1918,  1.3189,  1.0793,  ...,  1.0474,  1.3036,  1.2860]],\n",
      "\n",
      "         [[-0.7747, -0.9303, -1.0018,  ..., -0.9957, -0.7955, -0.8542],\n",
      "          [-0.6809, -0.9086, -1.0124,  ..., -0.9909, -0.6176, -0.9279],\n",
      "          [-0.7381, -0.8708, -1.0522,  ..., -0.8631, -0.6326, -0.7445],\n",
      "          ...,\n",
      "          [ 0.3059,  1.1157,  0.6733,  ..., -1.1992, -0.6920,  0.5491],\n",
      "          [ 0.3633,  0.6865,  0.0334,  ..., -0.9067, -0.9264, -0.9236],\n",
      "          [ 0.1033, -0.4707, -0.8919,  ..., -0.7788, -0.8027, -0.9919]],\n",
      "\n",
      "         [[ 0.5886,  1.3086,  1.1818,  ...,  1.2319,  1.0844,  0.9848],\n",
      "          [ 0.4146,  1.3003,  1.1010,  ...,  0.8244,  0.9287,  0.1011],\n",
      "          [ 0.3359,  1.1245,  1.0733,  ...,  0.3250,  0.9969,  0.6983],\n",
      "          ...,\n",
      "          [-0.2653,  0.4649,  0.2120,  ...,  0.8613,  0.6518, -0.9985],\n",
      "          [-0.6126,  0.4628,  0.1434,  ...,  0.9495,  0.7895,  0.6075],\n",
      "          [-0.0748,  0.9691,  1.1802,  ...,  1.0252,  1.1282,  1.2320]]]],\n",
      "       device='cuda:7')\n",
      "tensor([[[[ 1.4697,  0.2132,  0.4471,  ...,  0.5050,  0.6873,  0.8429],\n",
      "          [ 1.9641,  0.5907,  0.4778,  ...,  0.8615,  0.5734,  0.8675],\n",
      "          [ 1.9426,  0.4967,  0.2885,  ...,  0.8883,  0.4669,  0.9239],\n",
      "          ...,\n",
      "          [ 1.3041,  0.6102,  0.5022,  ...,  0.4219, -0.1993, -0.7669],\n",
      "          [ 1.3405,  0.7363,  0.7568,  ...,  0.1736,  0.7196,  0.4418],\n",
      "          [ 1.4662,  0.5046,  0.9331,  ...,  0.2079,  0.6816,  0.4250]],\n",
      "\n",
      "         [[-0.1505, -0.4372, -0.7145,  ..., -0.9129, -0.8585, -0.4997],\n",
      "          [-0.5380, -0.8296, -1.0714,  ..., -0.8866, -0.5394, -0.6916],\n",
      "          [-0.3251, -0.8380, -1.1178,  ..., -0.9714, -0.5580, -0.3422],\n",
      "          ...,\n",
      "          [-0.3401,  0.1151,  1.1932,  ..., -1.1767, -1.1095,  1.1697],\n",
      "          [-0.3239,  0.3627,  0.5151,  ..., -1.1050, -0.9512, -0.7449],\n",
      "          [-0.4903, -0.1447, -0.6506,  ..., -0.9628, -0.8475, -0.9412]],\n",
      "\n",
      "         [[-0.6524, -0.5323, -0.5259,  ..., -0.7253, -0.4819, -0.5610],\n",
      "          [-0.3942, -0.2239, -0.2136,  ..., -0.2427, -0.2186, -0.2736],\n",
      "          [-0.3627, -0.2903, -0.3035,  ...,  0.0468, -0.3234, -0.5260],\n",
      "          ...,\n",
      "          [ 0.1906,  1.4491,  1.0457,  ..., -0.3118, -0.6036,  1.2705],\n",
      "          [ 0.4489,  0.9731,  0.1495,  ..., -0.3818, -0.4295, -0.6193],\n",
      "          [ 0.1251, -0.7589, -0.8767,  ..., -0.5503, -0.5923, -0.6007]],\n",
      "\n",
      "         ...,\n",
      "\n",
      "         [[ 0.8378,  1.1798,  1.4526,  ...,  1.4403,  1.1245,  1.0172],\n",
      "          [ 0.9194,  1.2146,  1.5929,  ...,  0.9441,  0.9639,  0.9242],\n",
      "          [ 0.9513,  1.3531,  1.5343,  ...,  1.2071,  1.1660,  0.8420],\n",
      "          ...,\n",
      "          [ 0.3443, -0.6827, -0.5519,  ...,  1.0294,  0.3881,  0.3480],\n",
      "          [ 0.3134, -0.1681,  0.5109,  ...,  1.2129,  1.0728,  1.2638],\n",
      "          [ 0.1918,  1.3189,  1.0793,  ...,  1.0474,  1.3036,  1.2860]],\n",
      "\n",
      "         [[-0.7747, -0.9303, -1.0018,  ..., -0.9957, -0.7955, -0.8542],\n",
      "          [-0.6809, -0.9086, -1.0124,  ..., -0.9909, -0.6176, -0.9279],\n",
      "          [-0.7381, -0.8708, -1.0522,  ..., -0.8631, -0.6326, -0.7445],\n",
      "          ...,\n",
      "          [ 0.3059,  1.1157,  0.6733,  ..., -1.1992, -0.6920,  0.5491],\n",
      "          [ 0.3633,  0.6865,  0.0334,  ..., -0.9067, -0.9264, -0.9236],\n",
      "          [ 0.1033, -0.4707, -0.8919,  ..., -0.7788, -0.8027, -0.9919]],\n",
      "\n",
      "         [[ 0.5886,  1.3086,  1.1818,  ...,  1.2319,  1.0844,  0.9848],\n",
      "          [ 0.4146,  1.3003,  1.1010,  ...,  0.8244,  0.9287,  0.1011],\n",
      "          [ 0.3359,  1.1245,  1.0733,  ...,  0.3250,  0.9969,  0.6983],\n",
      "          ...,\n",
      "          [-0.2653,  0.4649,  0.2120,  ...,  0.8613,  0.6518, -0.9985],\n",
      "          [-0.6126,  0.4628,  0.1434,  ...,  0.9495,  0.7895,  0.6075],\n",
      "          [-0.0748,  0.9691,  1.1802,  ...,  1.0252,  1.1282,  1.2320]]]],\n",
      "       device='cuda:7')\n",
      "torch.Size([1, 256, 132, 275])\n",
      "torch.Size([1, 512, 66, 137])\n",
      "torch.Size([1, 512, 66, 138])\n",
      "torch.Size([1, 512, 66, 138])\n",
      "> \u001b[0;32m/home/aiarhipov/miniconda3/envs/mmdet_edit/lib/python3.8/site-packages/torch/nn/modules/module.py\u001b[0m(889)\u001b[0;36m_call_impl\u001b[0;34m()\u001b[0m\n",
      "\u001b[0;32m    887 \u001b[0;31m            \u001b[0mresult\u001b[0m \u001b[0;34m=\u001b[0m \u001b[0mself\u001b[0m\u001b[0;34m.\u001b[0m\u001b[0m_slow_forward\u001b[0m\u001b[0;34m(\u001b[0m\u001b[0;34m*\u001b[0m\u001b[0minput\u001b[0m\u001b[0;34m,\u001b[0m \u001b[0;34m**\u001b[0m\u001b[0mkwargs\u001b[0m\u001b[0;34m)\u001b[0m\u001b[0;34m\u001b[0m\u001b[0;34m\u001b[0m\u001b[0m\n",
      "\u001b[0m\u001b[0;32m    888 \u001b[0;31m        \u001b[0;32melse\u001b[0m\u001b[0;34m:\u001b[0m\u001b[0;34m\u001b[0m\u001b[0;34m\u001b[0m\u001b[0m\n",
      "\u001b[0m\u001b[0;32m--> 889 \u001b[0;31m            \u001b[0mresult\u001b[0m \u001b[0;34m=\u001b[0m \u001b[0mself\u001b[0m\u001b[0;34m.\u001b[0m\u001b[0mforward\u001b[0m\u001b[0;34m(\u001b[0m\u001b[0;34m*\u001b[0m\u001b[0minput\u001b[0m\u001b[0;34m,\u001b[0m \u001b[0;34m**\u001b[0m\u001b[0mkwargs\u001b[0m\u001b[0;34m)\u001b[0m\u001b[0;34m\u001b[0m\u001b[0;34m\u001b[0m\u001b[0m\n",
      "\u001b[0m\u001b[0;32m    890 \u001b[0;31m        for hook in itertools.chain(\n",
      "\u001b[0m\u001b[0;32m    891 \u001b[0;31m                \u001b[0m_global_forward_hooks\u001b[0m\u001b[0;34m.\u001b[0m\u001b[0mvalues\u001b[0m\u001b[0;34m(\u001b[0m\u001b[0;34m)\u001b[0m\u001b[0;34m,\u001b[0m\u001b[0;34m\u001b[0m\u001b[0;34m\u001b[0m\u001b[0m\n",
      "\u001b[0m\n",
      "*** SyntaxError: can't use starred expression here\n",
      "(tensor([[[[0.2190, 0.4721, 0.2011,  ..., 0.0000, 0.0000, 0.0000],\n",
      "          [0.6145, 1.1243, 0.8338,  ..., 0.0000, 0.0000, 0.0000],\n",
      "          [0.5475, 1.2673, 0.9280,  ..., 0.0000, 0.0000, 0.0000],\n",
      "          ...,\n",
      "          [0.4099, 0.0000, 0.0632,  ..., 0.0000, 0.0000, 0.0000],\n",
      "          [0.5916, 0.0000, 0.0000,  ..., 0.0000, 0.0000, 0.0000],\n",
      "          [0.2820, 0.0000, 0.0000,  ..., 0.0000, 0.0000, 0.0000]],\n",
      "\n",
      "         [[0.0123, 0.0000, 0.0000,  ..., 0.0000, 0.0000, 0.0000],\n",
      "          [0.0086, 0.0000, 0.0000,  ..., 0.0000, 0.0000, 0.0000],\n",
      "          [0.0372, 0.0000, 0.0000,  ..., 0.0000, 0.0000, 0.0000],\n",
      "          ...,\n",
      "          [0.5799, 0.0000, 0.6061,  ..., 0.0000, 0.0000, 0.0000],\n",
      "          [0.6708, 0.0000, 0.2242,  ..., 0.0000, 0.0000, 0.0000],\n",
      "          [0.2716, 0.0000, 0.0000,  ..., 0.0000, 0.0000, 0.0000]],\n",
      "\n",
      "         [[0.3192, 0.7297, 0.8688,  ..., 0.8673, 0.6927, 0.5427],\n",
      "          [0.0000, 0.3602, 0.4890,  ..., 0.2571, 0.2306, 0.4306],\n",
      "          [0.0721, 0.3201, 0.2862,  ..., 0.4152, 0.5319, 0.6185],\n",
      "          ...,\n",
      "          [0.0000, 0.6359, 0.2841,  ..., 0.6538, 0.7373, 0.4840],\n",
      "          [0.0000, 0.7030, 0.9837,  ..., 0.6273, 0.5530, 0.5036],\n",
      "          [0.0763, 0.3779, 0.8765,  ..., 0.2567, 0.5845, 0.3896]],\n",
      "\n",
      "         ...,\n",
      "\n",
      "         [[0.2575, 0.4709, 0.0203,  ..., 0.2668, 0.1575, 0.0000],\n",
      "          [0.4475, 0.9253, 0.3485,  ..., 0.4653, 0.4736, 0.0000],\n",
      "          [0.3723, 0.8319, 0.5307,  ..., 0.7779, 0.7460, 0.0000],\n",
      "          ...,\n",
      "          [0.3807, 0.2042, 0.0000,  ..., 0.4140, 0.8246, 0.0340],\n",
      "          [0.3894, 0.6196, 0.1570,  ..., 0.5470, 0.9429, 0.1463],\n",
      "          [0.4507, 0.9902, 0.4955,  ..., 0.7998, 0.7398, 0.2324]],\n",
      "\n",
      "         [[0.0000, 0.0000, 0.0000,  ..., 0.0000, 0.0000, 0.0000],\n",
      "          [0.0000, 0.0000, 0.0000,  ..., 0.0000, 0.0000, 0.0000],\n",
      "          [0.0000, 0.0000, 0.0000,  ..., 0.1316, 0.0000, 0.0000],\n",
      "          ...,\n",
      "          [0.6078, 0.1502, 0.5485,  ..., 0.0000, 0.0000, 0.0000],\n",
      "          [0.6334, 0.0000, 0.0000,  ..., 0.0000, 0.0000, 0.0000],\n",
      "          [0.1802, 0.0000, 0.0000,  ..., 0.0000, 0.0000, 0.0000]],\n",
      "\n",
      "         [[0.0000, 0.0000, 0.0000,  ..., 0.0383, 0.0000, 0.0649],\n",
      "          [0.0000, 0.0000, 0.0000,  ..., 0.1448, 0.0000, 0.0916],\n",
      "          [0.0000, 0.0000, 0.0000,  ..., 0.0000, 0.0000, 0.0353],\n",
      "          ...,\n",
      "          [0.0000, 0.0000, 0.5557,  ..., 0.0000, 0.0000, 0.1944],\n",
      "          [0.0000, 0.0000, 0.1927,  ..., 0.0000, 0.0000, 0.0899],\n",
      "          [0.0000, 0.0000, 0.0000,  ..., 0.0000, 0.0000, 0.0915]]]],\n",
      "       device='cuda:7'), tensor([[[[ 1.4697,  0.2132,  0.4471,  ...,  0.5050,  0.6873,  0.8429],\n",
      "          [ 1.9641,  0.5907,  0.4778,  ...,  0.8615,  0.5734,  0.8675],\n",
      "          [ 1.9426,  0.4967,  0.2885,  ...,  0.8883,  0.4669,  0.9239],\n",
      "          ...,\n",
      "          [ 1.3041,  0.6102,  0.5022,  ...,  0.4219, -0.1993, -0.7669],\n",
      "          [ 1.3405,  0.7363,  0.7568,  ...,  0.1736,  0.7196,  0.4418],\n",
      "          [ 1.4662,  0.5046,  0.9331,  ...,  0.2079,  0.6816,  0.4250]],\n",
      "\n",
      "         [[-0.1505, -0.4372, -0.7145,  ..., -0.9129, -0.8585, -0.4997],\n",
      "          [-0.5380, -0.8296, -1.0714,  ..., -0.8866, -0.5394, -0.6916],\n",
      "          [-0.3251, -0.8380, -1.1178,  ..., -0.9714, -0.5580, -0.3422],\n",
      "          ...,\n",
      "          [-0.3401,  0.1151,  1.1932,  ..., -1.1767, -1.1095,  1.1697],\n",
      "          [-0.3239,  0.3627,  0.5151,  ..., -1.1050, -0.9512, -0.7449],\n",
      "          [-0.4903, -0.1447, -0.6506,  ..., -0.9628, -0.8475, -0.9412]],\n",
      "\n",
      "         [[-0.6524, -0.5323, -0.5259,  ..., -0.7253, -0.4819, -0.5610],\n",
      "          [-0.3942, -0.2239, -0.2136,  ..., -0.2427, -0.2186, -0.2736],\n",
      "          [-0.3627, -0.2903, -0.3035,  ...,  0.0468, -0.3234, -0.5260],\n",
      "          ...,\n",
      "          [ 0.1906,  1.4491,  1.0457,  ..., -0.3118, -0.6036,  1.2705],\n",
      "          [ 0.4489,  0.9731,  0.1495,  ..., -0.3818, -0.4295, -0.6193],\n",
      "          [ 0.1251, -0.7589, -0.8767,  ..., -0.5503, -0.5923, -0.6007]],\n",
      "\n",
      "         ...,\n",
      "\n",
      "         [[ 0.8378,  1.1798,  1.4526,  ...,  1.4403,  1.1245,  1.0172],\n",
      "          [ 0.9194,  1.2146,  1.5929,  ...,  0.9441,  0.9639,  0.9242],\n",
      "          [ 0.9513,  1.3531,  1.5343,  ...,  1.2071,  1.1660,  0.8420],\n",
      "          ...,\n",
      "          [ 0.3443, -0.6827, -0.5519,  ...,  1.0294,  0.3881,  0.3480],\n",
      "          [ 0.3134, -0.1681,  0.5109,  ...,  1.2129,  1.0728,  1.2638],\n",
      "          [ 0.1918,  1.3189,  1.0793,  ...,  1.0474,  1.3036,  1.2860]],\n",
      "\n",
      "         [[-0.7747, -0.9303, -1.0018,  ..., -0.9957, -0.7955, -0.8542],\n",
      "          [-0.6809, -0.9086, -1.0124,  ..., -0.9909, -0.6176, -0.9279],\n",
      "          [-0.7381, -0.8708, -1.0522,  ..., -0.8631, -0.6326, -0.7445],\n",
      "          ...,\n",
      "          [ 0.3059,  1.1157,  0.6733,  ..., -1.1992, -0.6920,  0.5491],\n",
      "          [ 0.3633,  0.6865,  0.0334,  ..., -0.9067, -0.9264, -0.9236],\n",
      "          [ 0.1033, -0.4707, -0.8919,  ..., -0.7788, -0.8027, -0.9919]],\n",
      "\n",
      "         [[ 0.5886,  1.3086,  1.1818,  ...,  1.2319,  1.0844,  0.9848],\n",
      "          [ 0.4146,  1.3003,  1.1010,  ...,  0.8244,  0.9287,  0.1011],\n",
      "          [ 0.3359,  1.1245,  1.0733,  ...,  0.3250,  0.9969,  0.6983],\n",
      "          ...,\n",
      "          [-0.2653,  0.4649,  0.2120,  ...,  0.8613,  0.6518, -0.9985],\n",
      "          [-0.6126,  0.4628,  0.1434,  ...,  0.9495,  0.7895,  0.6075],\n",
      "          [-0.0748,  0.9691,  1.1802,  ...,  1.0252,  1.1282,  1.2320]]]],\n",
      "       device='cuda:7'))\n",
      "(tensor([[[[0.2190, 0.4721, 0.2011,  ..., 0.0000, 0.0000, 0.0000],\n",
      "          [0.6145, 1.1243, 0.8338,  ..., 0.0000, 0.0000, 0.0000],\n",
      "          [0.5475, 1.2673, 0.9280,  ..., 0.0000, 0.0000, 0.0000],\n",
      "          ...,\n",
      "          [0.4099, 0.0000, 0.0632,  ..., 0.0000, 0.0000, 0.0000],\n",
      "          [0.5916, 0.0000, 0.0000,  ..., 0.0000, 0.0000, 0.0000],\n",
      "          [0.2820, 0.0000, 0.0000,  ..., 0.0000, 0.0000, 0.0000]],\n",
      "\n",
      "         [[0.0123, 0.0000, 0.0000,  ..., 0.0000, 0.0000, 0.0000],\n",
      "          [0.0086, 0.0000, 0.0000,  ..., 0.0000, 0.0000, 0.0000],\n",
      "          [0.0372, 0.0000, 0.0000,  ..., 0.0000, 0.0000, 0.0000],\n",
      "          ...,\n",
      "          [0.5799, 0.0000, 0.6061,  ..., 0.0000, 0.0000, 0.0000],\n",
      "          [0.6708, 0.0000, 0.2242,  ..., 0.0000, 0.0000, 0.0000],\n",
      "          [0.2716, 0.0000, 0.0000,  ..., 0.0000, 0.0000, 0.0000]],\n",
      "\n",
      "         [[0.3192, 0.7297, 0.8688,  ..., 0.8673, 0.6927, 0.5427],\n",
      "          [0.0000, 0.3602, 0.4890,  ..., 0.2571, 0.2306, 0.4306],\n",
      "          [0.0721, 0.3201, 0.2862,  ..., 0.4152, 0.5319, 0.6185],\n",
      "          ...,\n",
      "          [0.0000, 0.6359, 0.2841,  ..., 0.6538, 0.7373, 0.4840],\n",
      "          [0.0000, 0.7030, 0.9837,  ..., 0.6273, 0.5530, 0.5036],\n",
      "          [0.0763, 0.3779, 0.8765,  ..., 0.2567, 0.5845, 0.3896]],\n",
      "\n",
      "         ...,\n",
      "\n",
      "         [[0.2575, 0.4709, 0.0203,  ..., 0.2668, 0.1575, 0.0000],\n",
      "          [0.4475, 0.9253, 0.3485,  ..., 0.4653, 0.4736, 0.0000],\n",
      "          [0.3723, 0.8319, 0.5307,  ..., 0.7779, 0.7460, 0.0000],\n",
      "          ...,\n",
      "          [0.3807, 0.2042, 0.0000,  ..., 0.4140, 0.8246, 0.0340],\n",
      "          [0.3894, 0.6196, 0.1570,  ..., 0.5470, 0.9429, 0.1463],\n",
      "          [0.4507, 0.9902, 0.4955,  ..., 0.7998, 0.7398, 0.2324]],\n",
      "\n",
      "         [[0.0000, 0.0000, 0.0000,  ..., 0.0000, 0.0000, 0.0000],\n",
      "          [0.0000, 0.0000, 0.0000,  ..., 0.0000, 0.0000, 0.0000],\n",
      "          [0.0000, 0.0000, 0.0000,  ..., 0.1316, 0.0000, 0.0000],\n",
      "          ...,\n",
      "          [0.6078, 0.1502, 0.5485,  ..., 0.0000, 0.0000, 0.0000],\n",
      "          [0.6334, 0.0000, 0.0000,  ..., 0.0000, 0.0000, 0.0000],\n",
      "          [0.1802, 0.0000, 0.0000,  ..., 0.0000, 0.0000, 0.0000]],\n",
      "\n",
      "         [[0.0000, 0.0000, 0.0000,  ..., 0.0383, 0.0000, 0.0649],\n",
      "          [0.0000, 0.0000, 0.0000,  ..., 0.1448, 0.0000, 0.0916],\n",
      "          [0.0000, 0.0000, 0.0000,  ..., 0.0000, 0.0000, 0.0353],\n",
      "          ...,\n",
      "          [0.0000, 0.0000, 0.5557,  ..., 0.0000, 0.0000, 0.1944],\n",
      "          [0.0000, 0.0000, 0.1927,  ..., 0.0000, 0.0000, 0.0899],\n",
      "          [0.0000, 0.0000, 0.0000,  ..., 0.0000, 0.0000, 0.0915]]]],\n",
      "       device='cuda:7'), tensor([[[[ 1.4697,  0.2132,  0.4471,  ...,  0.5050,  0.6873,  0.8429],\n",
      "          [ 1.9641,  0.5907,  0.4778,  ...,  0.8615,  0.5734,  0.8675],\n",
      "          [ 1.9426,  0.4967,  0.2885,  ...,  0.8883,  0.4669,  0.9239],\n",
      "          ...,\n",
      "          [ 1.3041,  0.6102,  0.5022,  ...,  0.4219, -0.1993, -0.7669],\n",
      "          [ 1.3405,  0.7363,  0.7568,  ...,  0.1736,  0.7196,  0.4418],\n",
      "          [ 1.4662,  0.5046,  0.9331,  ...,  0.2079,  0.6816,  0.4250]],\n",
      "\n",
      "         [[-0.1505, -0.4372, -0.7145,  ..., -0.9129, -0.8585, -0.4997],\n",
      "          [-0.5380, -0.8296, -1.0714,  ..., -0.8866, -0.5394, -0.6916],\n",
      "          [-0.3251, -0.8380, -1.1178,  ..., -0.9714, -0.5580, -0.3422],\n",
      "          ...,\n",
      "          [-0.3401,  0.1151,  1.1932,  ..., -1.1767, -1.1095,  1.1697],\n",
      "          [-0.3239,  0.3627,  0.5151,  ..., -1.1050, -0.9512, -0.7449],\n",
      "          [-0.4903, -0.1447, -0.6506,  ..., -0.9628, -0.8475, -0.9412]],\n",
      "\n",
      "         [[-0.6524, -0.5323, -0.5259,  ..., -0.7253, -0.4819, -0.5610],\n",
      "          [-0.3942, -0.2239, -0.2136,  ..., -0.2427, -0.2186, -0.2736],\n",
      "          [-0.3627, -0.2903, -0.3035,  ...,  0.0468, -0.3234, -0.5260],\n",
      "          ...,\n",
      "          [ 0.1906,  1.4491,  1.0457,  ..., -0.3118, -0.6036,  1.2705],\n",
      "          [ 0.4489,  0.9731,  0.1495,  ..., -0.3818, -0.4295, -0.6193],\n",
      "          [ 0.1251, -0.7589, -0.8767,  ..., -0.5503, -0.5923, -0.6007]],\n",
      "\n",
      "         ...,\n",
      "\n",
      "         [[ 0.8378,  1.1798,  1.4526,  ...,  1.4403,  1.1245,  1.0172],\n",
      "          [ 0.9194,  1.2146,  1.5929,  ...,  0.9441,  0.9639,  0.9242],\n",
      "          [ 0.9513,  1.3531,  1.5343,  ...,  1.2071,  1.1660,  0.8420],\n",
      "          ...,\n",
      "          [ 0.3443, -0.6827, -0.5519,  ...,  1.0294,  0.3881,  0.3480],\n",
      "          [ 0.3134, -0.1681,  0.5109,  ...,  1.2129,  1.0728,  1.2638],\n",
      "          [ 0.1918,  1.3189,  1.0793,  ...,  1.0474,  1.3036,  1.2860]],\n",
      "\n",
      "         [[-0.7747, -0.9303, -1.0018,  ..., -0.9957, -0.7955, -0.8542],\n",
      "          [-0.6809, -0.9086, -1.0124,  ..., -0.9909, -0.6176, -0.9279],\n",
      "          [-0.7381, -0.8708, -1.0522,  ..., -0.8631, -0.6326, -0.7445],\n",
      "          ...,\n",
      "          [ 0.3059,  1.1157,  0.6733,  ..., -1.1992, -0.6920,  0.5491],\n",
      "          [ 0.3633,  0.6865,  0.0334,  ..., -0.9067, -0.9264, -0.9236],\n",
      "          [ 0.1033, -0.4707, -0.8919,  ..., -0.7788, -0.8027, -0.9919]],\n",
      "\n",
      "         [[ 0.5886,  1.3086,  1.1818,  ...,  1.2319,  1.0844,  0.9848],\n",
      "          [ 0.4146,  1.3003,  1.1010,  ...,  0.8244,  0.9287,  0.1011],\n",
      "          [ 0.3359,  1.1245,  1.0733,  ...,  0.3250,  0.9969,  0.6983],\n",
      "          ...,\n",
      "          [-0.2653,  0.4649,  0.2120,  ...,  0.8613,  0.6518, -0.9985],\n",
      "          [-0.6126,  0.4628,  0.1434,  ...,  0.9495,  0.7895,  0.6075],\n",
      "          [-0.0748,  0.9691,  1.1802,  ...,  1.0252,  1.1282,  1.2320]]]],\n",
      "       device='cuda:7'))\n",
      "{}\n",
      "> \u001b[0;32m/home/aiarhipov/mmdetection/mmdet/models/backbones/dla_mmdet3d.py\u001b[0m(283)\u001b[0;36mforward\u001b[0;34m()\u001b[0m\n",
      "\u001b[0;32m    281 \u001b[0;31m        \u001b[0;32mif\u001b[0m \u001b[0mself\u001b[0m\u001b[0;34m.\u001b[0m\u001b[0mlevel_root\u001b[0m\u001b[0;34m:\u001b[0m\u001b[0;34m\u001b[0m\u001b[0;34m\u001b[0m\u001b[0m\n",
      "\u001b[0m\u001b[0;32m    282 \u001b[0;31m            \u001b[0mchildren\u001b[0m\u001b[0;34m.\u001b[0m\u001b[0mappend\u001b[0m\u001b[0;34m(\u001b[0m\u001b[0mbottom\u001b[0m\u001b[0;34m)\u001b[0m\u001b[0;34m\u001b[0m\u001b[0;34m\u001b[0m\u001b[0m\n",
      "\u001b[0m\u001b[0;32m--> 283 \u001b[0;31m        \u001b[0mx1\u001b[0m \u001b[0;34m=\u001b[0m \u001b[0mself\u001b[0m\u001b[0;34m.\u001b[0m\u001b[0mtree1\u001b[0m\u001b[0;34m(\u001b[0m\u001b[0mx\u001b[0m\u001b[0;34m,\u001b[0m \u001b[0midentity\u001b[0m\u001b[0;34m)\u001b[0m\u001b[0;34m\u001b[0m\u001b[0;34m\u001b[0m\u001b[0m\n",
      "\u001b[0m\u001b[0;32m    284 \u001b[0;31m        \u001b[0;32mif\u001b[0m \u001b[0mself\u001b[0m\u001b[0;34m.\u001b[0m\u001b[0mlevels\u001b[0m \u001b[0;34m==\u001b[0m \u001b[0;36m1\u001b[0m\u001b[0;34m:\u001b[0m\u001b[0;34m\u001b[0m\u001b[0;34m\u001b[0m\u001b[0m\n",
      "\u001b[0m\u001b[0;32m    285 \u001b[0;31m            \u001b[0mx2\u001b[0m \u001b[0;34m=\u001b[0m \u001b[0mself\u001b[0m\u001b[0;34m.\u001b[0m\u001b[0mtree2\u001b[0m\u001b[0;34m(\u001b[0m\u001b[0mx1\u001b[0m\u001b[0;34m)\u001b[0m\u001b[0;34m\u001b[0m\u001b[0;34m\u001b[0m\u001b[0m\n",
      "\u001b[0m\n",
      "tensor([[[[ 1.4697,  0.2132,  0.4471,  ...,  0.5050,  0.6873,  0.8429],\n",
      "          [ 1.9641,  0.5907,  0.4778,  ...,  0.8615,  0.5734,  0.8675],\n",
      "          [ 1.9426,  0.4967,  0.2885,  ...,  0.8883,  0.4669,  0.9239],\n",
      "          ...,\n",
      "          [ 1.3041,  0.6102,  0.5022,  ...,  0.4219, -0.1993, -0.7669],\n",
      "          [ 1.3405,  0.7363,  0.7568,  ...,  0.1736,  0.7196,  0.4418],\n",
      "          [ 1.4662,  0.5046,  0.9331,  ...,  0.2079,  0.6816,  0.4250]],\n",
      "\n",
      "         [[-0.1505, -0.4372, -0.7145,  ..., -0.9129, -0.8585, -0.4997],\n",
      "          [-0.5380, -0.8296, -1.0714,  ..., -0.8866, -0.5394, -0.6916],\n",
      "          [-0.3251, -0.8380, -1.1178,  ..., -0.9714, -0.5580, -0.3422],\n",
      "          ...,\n",
      "          [-0.3401,  0.1151,  1.1932,  ..., -1.1767, -1.1095,  1.1697],\n",
      "          [-0.3239,  0.3627,  0.5151,  ..., -1.1050, -0.9512, -0.7449],\n",
      "          [-0.4903, -0.1447, -0.6506,  ..., -0.9628, -0.8475, -0.9412]],\n",
      "\n",
      "         [[-0.6524, -0.5323, -0.5259,  ..., -0.7253, -0.4819, -0.5610],\n",
      "          [-0.3942, -0.2239, -0.2136,  ..., -0.2427, -0.2186, -0.2736],\n",
      "          [-0.3627, -0.2903, -0.3035,  ...,  0.0468, -0.3234, -0.5260],\n",
      "          ...,\n",
      "          [ 0.1906,  1.4491,  1.0457,  ..., -0.3118, -0.6036,  1.2705],\n",
      "          [ 0.4489,  0.9731,  0.1495,  ..., -0.3818, -0.4295, -0.6193],\n",
      "          [ 0.1251, -0.7589, -0.8767,  ..., -0.5503, -0.5923, -0.6007]],\n",
      "\n",
      "         ...,\n",
      "\n",
      "         [[ 0.8378,  1.1798,  1.4526,  ...,  1.4403,  1.1245,  1.0172],\n",
      "          [ 0.9194,  1.2146,  1.5929,  ...,  0.9441,  0.9639,  0.9242],\n",
      "          [ 0.9513,  1.3531,  1.5343,  ...,  1.2071,  1.1660,  0.8420],\n",
      "          ...,\n",
      "          [ 0.3443, -0.6827, -0.5519,  ...,  1.0294,  0.3881,  0.3480],\n",
      "          [ 0.3134, -0.1681,  0.5109,  ...,  1.2129,  1.0728,  1.2638],\n",
      "          [ 0.1918,  1.3189,  1.0793,  ...,  1.0474,  1.3036,  1.2860]],\n",
      "\n",
      "         [[-0.7747, -0.9303, -1.0018,  ..., -0.9957, -0.7955, -0.8542],\n",
      "          [-0.6809, -0.9086, -1.0124,  ..., -0.9909, -0.6176, -0.9279],\n",
      "          [-0.7381, -0.8708, -1.0522,  ..., -0.8631, -0.6326, -0.7445],\n",
      "          ...,\n",
      "          [ 0.3059,  1.1157,  0.6733,  ..., -1.1992, -0.6920,  0.5491],\n",
      "          [ 0.3633,  0.6865,  0.0334,  ..., -0.9067, -0.9264, -0.9236],\n",
      "          [ 0.1033, -0.4707, -0.8919,  ..., -0.7788, -0.8027, -0.9919]],\n",
      "\n",
      "         [[ 0.5886,  1.3086,  1.1818,  ...,  1.2319,  1.0844,  0.9848],\n",
      "          [ 0.4146,  1.3003,  1.1010,  ...,  0.8244,  0.9287,  0.1011],\n",
      "          [ 0.3359,  1.1245,  1.0733,  ...,  0.3250,  0.9969,  0.6983],\n",
      "          ...,\n",
      "          [-0.2653,  0.4649,  0.2120,  ...,  0.8613,  0.6518, -0.9985],\n",
      "          [-0.6126,  0.4628,  0.1434,  ...,  0.9495,  0.7895,  0.6075],\n",
      "          [-0.0748,  0.9691,  1.1802,  ...,  1.0252,  1.1282,  1.2320]]]],\n",
      "       device='cuda:7')\n",
      "torch.Size([1, 512, 66, 137])\n",
      "> \u001b[0;32m/home/aiarhipov/miniconda3/envs/mmdet_edit/lib/python3.8/site-packages/torch/nn/modules/module.py\u001b[0m(889)\u001b[0;36m_call_impl\u001b[0;34m()\u001b[0m\n",
      "\u001b[0;32m    887 \u001b[0;31m            \u001b[0mresult\u001b[0m \u001b[0;34m=\u001b[0m \u001b[0mself\u001b[0m\u001b[0;34m.\u001b[0m\u001b[0m_slow_forward\u001b[0m\u001b[0;34m(\u001b[0m\u001b[0;34m*\u001b[0m\u001b[0minput\u001b[0m\u001b[0;34m,\u001b[0m \u001b[0;34m**\u001b[0m\u001b[0mkwargs\u001b[0m\u001b[0;34m)\u001b[0m\u001b[0;34m\u001b[0m\u001b[0;34m\u001b[0m\u001b[0m\n",
      "\u001b[0m\u001b[0;32m    888 \u001b[0;31m        \u001b[0;32melse\u001b[0m\u001b[0;34m:\u001b[0m\u001b[0;34m\u001b[0m\u001b[0;34m\u001b[0m\u001b[0m\n",
      "\u001b[0m\u001b[0;32m--> 889 \u001b[0;31m            \u001b[0mresult\u001b[0m \u001b[0;34m=\u001b[0m \u001b[0mself\u001b[0m\u001b[0;34m.\u001b[0m\u001b[0mforward\u001b[0m\u001b[0;34m(\u001b[0m\u001b[0;34m*\u001b[0m\u001b[0minput\u001b[0m\u001b[0;34m,\u001b[0m \u001b[0;34m**\u001b[0m\u001b[0mkwargs\u001b[0m\u001b[0;34m)\u001b[0m\u001b[0;34m\u001b[0m\u001b[0;34m\u001b[0m\u001b[0m\n",
      "\u001b[0m\u001b[0;32m    890 \u001b[0;31m        for hook in itertools.chain(\n",
      "\u001b[0m\u001b[0;32m    891 \u001b[0;31m                \u001b[0m_global_forward_hooks\u001b[0m\u001b[0;34m.\u001b[0m\u001b[0mvalues\u001b[0m\u001b[0;34m(\u001b[0m\u001b[0;34m)\u001b[0m\u001b[0;34m,\u001b[0m\u001b[0;34m\u001b[0m\u001b[0;34m\u001b[0m\u001b[0m\n",
      "\u001b[0m\n",
      "> \u001b[0;32m/home/aiarhipov/mmdetection/mmdet/models/backbones/dla_mmdet3d.py\u001b[0m(283)\u001b[0;36mforward\u001b[0;34m()\u001b[0m\n",
      "\u001b[0;32m    281 \u001b[0;31m        \u001b[0;32mif\u001b[0m \u001b[0mself\u001b[0m\u001b[0;34m.\u001b[0m\u001b[0mlevel_root\u001b[0m\u001b[0;34m:\u001b[0m\u001b[0;34m\u001b[0m\u001b[0;34m\u001b[0m\u001b[0m\n",
      "\u001b[0m\u001b[0;32m    282 \u001b[0;31m            \u001b[0mchildren\u001b[0m\u001b[0;34m.\u001b[0m\u001b[0mappend\u001b[0m\u001b[0;34m(\u001b[0m\u001b[0mbottom\u001b[0m\u001b[0;34m)\u001b[0m\u001b[0;34m\u001b[0m\u001b[0;34m\u001b[0m\u001b[0m\n",
      "\u001b[0m\u001b[0;32m--> 283 \u001b[0;31m        \u001b[0mx1\u001b[0m \u001b[0;34m=\u001b[0m \u001b[0mself\u001b[0m\u001b[0;34m.\u001b[0m\u001b[0mtree1\u001b[0m\u001b[0;34m(\u001b[0m\u001b[0mx\u001b[0m\u001b[0;34m,\u001b[0m \u001b[0midentity\u001b[0m\u001b[0;34m)\u001b[0m\u001b[0;34m\u001b[0m\u001b[0;34m\u001b[0m\u001b[0m\n",
      "\u001b[0m\u001b[0;32m    284 \u001b[0;31m        \u001b[0;32mif\u001b[0m \u001b[0mself\u001b[0m\u001b[0;34m.\u001b[0m\u001b[0mlevels\u001b[0m \u001b[0;34m==\u001b[0m \u001b[0;36m1\u001b[0m\u001b[0;34m:\u001b[0m\u001b[0;34m\u001b[0m\u001b[0;34m\u001b[0m\u001b[0m\n",
      "\u001b[0m\u001b[0;32m    285 \u001b[0;31m            \u001b[0mx2\u001b[0m \u001b[0;34m=\u001b[0m \u001b[0mself\u001b[0m\u001b[0;34m.\u001b[0m\u001b[0mtree2\u001b[0m\u001b[0;34m(\u001b[0m\u001b[0mx1\u001b[0m\u001b[0;34m)\u001b[0m\u001b[0;34m\u001b[0m\u001b[0;34m\u001b[0m\u001b[0m\n",
      "\u001b[0m\n",
      "tensor([[[[ 1.4697,  0.2132,  0.4471,  ...,  0.5050,  0.6873,  0.8429],\n",
      "          [ 1.9641,  0.5907,  0.4778,  ...,  0.8615,  0.5734,  0.8675],\n",
      "          [ 1.9426,  0.4967,  0.2885,  ...,  0.8883,  0.4669,  0.9239],\n",
      "          ...,\n",
      "          [ 1.3041,  0.6102,  0.5022,  ...,  0.4219, -0.1993, -0.7669],\n",
      "          [ 1.3405,  0.7363,  0.7568,  ...,  0.1736,  0.7196,  0.4418],\n",
      "          [ 1.4662,  0.5046,  0.9331,  ...,  0.2079,  0.6816,  0.4250]],\n",
      "\n",
      "         [[-0.1505, -0.4372, -0.7145,  ..., -0.9129, -0.8585, -0.4997],\n",
      "          [-0.5380, -0.8296, -1.0714,  ..., -0.8866, -0.5394, -0.6916],\n",
      "          [-0.3251, -0.8380, -1.1178,  ..., -0.9714, -0.5580, -0.3422],\n",
      "          ...,\n",
      "          [-0.3401,  0.1151,  1.1932,  ..., -1.1767, -1.1095,  1.1697],\n",
      "          [-0.3239,  0.3627,  0.5151,  ..., -1.1050, -0.9512, -0.7449],\n",
      "          [-0.4903, -0.1447, -0.6506,  ..., -0.9628, -0.8475, -0.9412]],\n",
      "\n",
      "         [[-0.6524, -0.5323, -0.5259,  ..., -0.7253, -0.4819, -0.5610],\n",
      "          [-0.3942, -0.2239, -0.2136,  ..., -0.2427, -0.2186, -0.2736],\n",
      "          [-0.3627, -0.2903, -0.3035,  ...,  0.0468, -0.3234, -0.5260],\n",
      "          ...,\n",
      "          [ 0.1906,  1.4491,  1.0457,  ..., -0.3118, -0.6036,  1.2705],\n",
      "          [ 0.4489,  0.9731,  0.1495,  ..., -0.3818, -0.4295, -0.6193],\n",
      "          [ 0.1251, -0.7589, -0.8767,  ..., -0.5503, -0.5923, -0.6007]],\n",
      "\n",
      "         ...,\n",
      "\n",
      "         [[ 0.8378,  1.1798,  1.4526,  ...,  1.4403,  1.1245,  1.0172],\n",
      "          [ 0.9194,  1.2146,  1.5929,  ...,  0.9441,  0.9639,  0.9242],\n",
      "          [ 0.9513,  1.3531,  1.5343,  ...,  1.2071,  1.1660,  0.8420],\n",
      "          ...,\n",
      "          [ 0.3443, -0.6827, -0.5519,  ...,  1.0294,  0.3881,  0.3480],\n",
      "          [ 0.3134, -0.1681,  0.5109,  ...,  1.2129,  1.0728,  1.2638],\n",
      "          [ 0.1918,  1.3189,  1.0793,  ...,  1.0474,  1.3036,  1.2860]],\n",
      "\n",
      "         [[-0.7747, -0.9303, -1.0018,  ..., -0.9957, -0.7955, -0.8542],\n",
      "          [-0.6809, -0.9086, -1.0124,  ..., -0.9909, -0.6176, -0.9279],\n",
      "          [-0.7381, -0.8708, -1.0522,  ..., -0.8631, -0.6326, -0.7445],\n",
      "          ...,\n",
      "          [ 0.3059,  1.1157,  0.6733,  ..., -1.1992, -0.6920,  0.5491],\n",
      "          [ 0.3633,  0.6865,  0.0334,  ..., -0.9067, -0.9264, -0.9236],\n",
      "          [ 0.1033, -0.4707, -0.8919,  ..., -0.7788, -0.8027, -0.9919]],\n",
      "\n",
      "         [[ 0.5886,  1.3086,  1.1818,  ...,  1.2319,  1.0844,  0.9848],\n",
      "          [ 0.4146,  1.3003,  1.1010,  ...,  0.8244,  0.9287,  0.1011],\n",
      "          [ 0.3359,  1.1245,  1.0733,  ...,  0.3250,  0.9969,  0.6983],\n",
      "          ...,\n",
      "          [-0.2653,  0.4649,  0.2120,  ...,  0.8613,  0.6518, -0.9985],\n",
      "          [-0.6126,  0.4628,  0.1434,  ...,  0.9495,  0.7895,  0.6075],\n",
      "          [-0.0748,  0.9691,  1.1802,  ...,  1.0252,  1.1282,  1.2320]]]],\n",
      "       device='cuda:7', grad_fn=<CudnnBatchNormBackward>)\n",
      "tensor([[[[ 1.4697,  0.2132,  0.4471,  ...,  0.5050,  0.6873,  0.8429],\n",
      "          [ 1.9641,  0.5907,  0.4778,  ...,  0.8615,  0.5734,  0.8675],\n",
      "          [ 1.9426,  0.4967,  0.2885,  ...,  0.8883,  0.4669,  0.9239],\n",
      "          ...,\n",
      "          [ 1.3041,  0.6102,  0.5022,  ...,  0.4219, -0.1993, -0.7669],\n",
      "          [ 1.3405,  0.7363,  0.7568,  ...,  0.1736,  0.7196,  0.4418],\n",
      "          [ 1.4662,  0.5046,  0.9331,  ...,  0.2079,  0.6816,  0.4250]],\n",
      "\n",
      "         [[-0.1505, -0.4372, -0.7145,  ..., -0.9129, -0.8585, -0.4997],\n",
      "          [-0.5380, -0.8296, -1.0714,  ..., -0.8866, -0.5394, -0.6916],\n",
      "          [-0.3251, -0.8380, -1.1178,  ..., -0.9714, -0.5580, -0.3422],\n",
      "          ...,\n",
      "          [-0.3401,  0.1151,  1.1932,  ..., -1.1767, -1.1095,  1.1697],\n",
      "          [-0.3239,  0.3627,  0.5151,  ..., -1.1050, -0.9512, -0.7449],\n",
      "          [-0.4903, -0.1447, -0.6506,  ..., -0.9628, -0.8475, -0.9412]],\n",
      "\n",
      "         [[-0.6524, -0.5323, -0.5259,  ..., -0.7253, -0.4819, -0.5610],\n",
      "          [-0.3942, -0.2239, -0.2136,  ..., -0.2427, -0.2186, -0.2736],\n",
      "          [-0.3627, -0.2903, -0.3035,  ...,  0.0468, -0.3234, -0.5260],\n",
      "          ...,\n",
      "          [ 0.1906,  1.4491,  1.0457,  ..., -0.3118, -0.6036,  1.2705],\n",
      "          [ 0.4489,  0.9731,  0.1495,  ..., -0.3818, -0.4295, -0.6193],\n",
      "          [ 0.1251, -0.7589, -0.8767,  ..., -0.5503, -0.5923, -0.6007]],\n",
      "\n",
      "         ...,\n",
      "\n",
      "         [[ 0.8378,  1.1798,  1.4526,  ...,  1.4403,  1.1245,  1.0172],\n",
      "          [ 0.9194,  1.2146,  1.5929,  ...,  0.9441,  0.9639,  0.9242],\n",
      "          [ 0.9513,  1.3531,  1.5343,  ...,  1.2071,  1.1660,  0.8420],\n",
      "          ...,\n",
      "          [ 0.3443, -0.6827, -0.5519,  ...,  1.0294,  0.3881,  0.3480],\n",
      "          [ 0.3134, -0.1681,  0.5109,  ...,  1.2129,  1.0728,  1.2638],\n",
      "          [ 0.1918,  1.3189,  1.0793,  ...,  1.0474,  1.3036,  1.2860]],\n",
      "\n",
      "         [[-0.7747, -0.9303, -1.0018,  ..., -0.9957, -0.7955, -0.8542],\n",
      "          [-0.6809, -0.9086, -1.0124,  ..., -0.9909, -0.6176, -0.9279],\n",
      "          [-0.7381, -0.8708, -1.0522,  ..., -0.8631, -0.6326, -0.7445],\n",
      "          ...,\n",
      "          [ 0.3059,  1.1157,  0.6733,  ..., -1.1992, -0.6920,  0.5491],\n",
      "          [ 0.3633,  0.6865,  0.0334,  ..., -0.9067, -0.9264, -0.9236],\n",
      "          [ 0.1033, -0.4707, -0.8919,  ..., -0.7788, -0.8027, -0.9919]],\n",
      "\n",
      "         [[ 0.5886,  1.3086,  1.1818,  ...,  1.2319,  1.0844,  0.9848],\n",
      "          [ 0.4146,  1.3003,  1.1010,  ...,  0.8244,  0.9287,  0.1011],\n",
      "          [ 0.3359,  1.1245,  1.0733,  ...,  0.3250,  0.9969,  0.6983],\n",
      "          ...,\n",
      "          [-0.2653,  0.4649,  0.2120,  ...,  0.8613,  0.6518, -0.9985],\n",
      "          [-0.6126,  0.4628,  0.1434,  ...,  0.9495,  0.7895,  0.6075],\n",
      "          [-0.0748,  0.9691,  1.1802,  ...,  1.0252,  1.1282,  1.2320]]]],\n",
      "       device='cuda:7', grad_fn=<CudnnBatchNormBackward>)\n",
      "torch.Size([1, 512, 66, 137])\n",
      "torch.Size([1, 256, 66, 137])\n",
      "tensor([[[[0.2190, 0.4721, 0.2011,  ..., 0.0000, 0.0000, 0.0000],\n",
      "          [0.6145, 1.1243, 0.8338,  ..., 0.0000, 0.0000, 0.0000],\n",
      "          [0.5475, 1.2673, 0.9280,  ..., 0.0000, 0.0000, 0.0000],\n",
      "          ...,\n",
      "          [0.4099, 0.0000, 0.0632,  ..., 0.0000, 0.0000, 0.0000],\n",
      "          [0.5916, 0.0000, 0.0000,  ..., 0.0000, 0.0000, 0.0000],\n",
      "          [0.2820, 0.0000, 0.0000,  ..., 0.0000, 0.0000, 0.0000]],\n",
      "\n",
      "         [[0.0123, 0.0000, 0.0000,  ..., 0.0000, 0.0000, 0.0000],\n",
      "          [0.0086, 0.0000, 0.0000,  ..., 0.0000, 0.0000, 0.0000],\n",
      "          [0.0372, 0.0000, 0.0000,  ..., 0.0000, 0.0000, 0.0000],\n",
      "          ...,\n",
      "          [0.5799, 0.0000, 0.6061,  ..., 0.0000, 0.0000, 0.0000],\n",
      "          [0.6708, 0.0000, 0.2242,  ..., 0.0000, 0.0000, 0.0000],\n",
      "          [0.2716, 0.0000, 0.0000,  ..., 0.0000, 0.0000, 0.0000]],\n",
      "\n",
      "         [[0.3192, 0.7297, 0.8688,  ..., 0.8673, 0.6927, 0.5427],\n",
      "          [0.0000, 0.3602, 0.4890,  ..., 0.2571, 0.2306, 0.4306],\n",
      "          [0.0721, 0.3201, 0.2862,  ..., 0.4152, 0.5319, 0.6185],\n",
      "          ...,\n",
      "          [0.0000, 0.6359, 0.2841,  ..., 0.6538, 0.7373, 0.4840],\n",
      "          [0.0000, 0.7030, 0.9837,  ..., 0.6273, 0.5530, 0.5036],\n",
      "          [0.0763, 0.3779, 0.8765,  ..., 0.2567, 0.5845, 0.3896]],\n",
      "\n",
      "         ...,\n",
      "\n",
      "         [[0.2575, 0.4709, 0.0203,  ..., 0.2668, 0.1575, 0.0000],\n",
      "          [0.4475, 0.9253, 0.3485,  ..., 0.4653, 0.4736, 0.0000],\n",
      "          [0.3723, 0.8319, 0.5307,  ..., 0.7779, 0.7460, 0.0000],\n",
      "          ...,\n",
      "          [0.3807, 0.2042, 0.0000,  ..., 0.4140, 0.8246, 0.0340],\n",
      "          [0.3894, 0.6196, 0.1570,  ..., 0.5470, 0.9429, 0.1463],\n",
      "          [0.4507, 0.9902, 0.4955,  ..., 0.7998, 0.7398, 0.2324]],\n",
      "\n",
      "         [[0.0000, 0.0000, 0.0000,  ..., 0.0000, 0.0000, 0.0000],\n",
      "          [0.0000, 0.0000, 0.0000,  ..., 0.0000, 0.0000, 0.0000],\n",
      "          [0.0000, 0.0000, 0.0000,  ..., 0.1316, 0.0000, 0.0000],\n",
      "          ...,\n",
      "          [0.6078, 0.1502, 0.5485,  ..., 0.0000, 0.0000, 0.0000],\n",
      "          [0.6334, 0.0000, 0.0000,  ..., 0.0000, 0.0000, 0.0000],\n",
      "          [0.1802, 0.0000, 0.0000,  ..., 0.0000, 0.0000, 0.0000]],\n",
      "\n",
      "         [[0.0000, 0.0000, 0.0000,  ..., 0.0383, 0.0000, 0.0649],\n",
      "          [0.0000, 0.0000, 0.0000,  ..., 0.1448, 0.0000, 0.0916],\n",
      "          [0.0000, 0.0000, 0.0000,  ..., 0.0000, 0.0000, 0.0353],\n",
      "          ...,\n",
      "          [0.0000, 0.0000, 0.5557,  ..., 0.0000, 0.0000, 0.1944],\n",
      "          [0.0000, 0.0000, 0.1927,  ..., 0.0000, 0.0000, 0.0899],\n",
      "          [0.0000, 0.0000, 0.0000,  ..., 0.0000, 0.0000, 0.0915]]]],\n",
      "       device='cuda:7')\n",
      "torch.Size([1, 256, 132, 275])\n",
      "torch.Size([1, 256, 66, 137])\n"
     ]
    }
   ],
   "source": [
    "%debug"
   ]
  }
 ],
 "metadata": {
  "kernelspec": {
   "display_name": "mmdet_edit",
   "language": "python",
   "name": "python3"
  },
  "language_info": {
   "codemirror_mode": {
    "name": "ipython",
    "version": 3
   },
   "file_extension": ".py",
   "mimetype": "text/x-python",
   "name": "python",
   "nbconvert_exporter": "python",
   "pygments_lexer": "ipython3",
   "version": "3.8.15"
  },
  "orig_nbformat": 4
 },
 "nbformat": 4,
 "nbformat_minor": 2
}
