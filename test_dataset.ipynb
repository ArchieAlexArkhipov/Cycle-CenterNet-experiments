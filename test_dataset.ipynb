{
 "cells": [
  {
   "cell_type": "code",
   "execution_count": 1,
   "metadata": {},
   "outputs": [],
   "source": [
    "import xml.etree.ElementTree as ET\n",
    "import numpy as np\n",
    "\n",
    "def all_xml_to_np(xml_path):\n",
    "    tree = ET.parse(xml_path)\n",
    "    root = tree.getroot()\n",
    "    if root.tag != \"annotation\":\n",
    "        raise Exception(\"pascal voc xml root element should be annotation, rather than {}\".format(root.tag))\n",
    "    gt_boxes = []\n",
    "    for elem in root.findall(\"object/bndbox\"):\n",
    "        startrow = int(elem.find(\"startrow\").text)\n",
    "        endrow = int(elem.find(\"endrow\").text)\n",
    "        startcol = int(elem.find(\"startcol\").text)\n",
    "        endcol = int(elem.find(\"endcol\").text)\n",
    "        xmin = float(elem.find(\"xmin\").text)\n",
    "        ymin = float(elem.find(\"ymin\").text)\n",
    "        xmax = float(elem.find(\"xmax\").text)\n",
    "        ymax = float(elem.find(\"ymax\").text)\n",
    "\n",
    "        x1 = float(elem.find(\"x1\").text)\n",
    "        y1 = float(elem.find(\"y1\").text)\n",
    "        x2 = float(elem.find(\"x2\").text)\n",
    "        y2 = float(elem.find(\"y2\").text)\n",
    "        x3 = float(elem.find(\"x3\").text)\n",
    "        y3 = float(elem.find(\"y3\").text)\n",
    "        x4 = float(elem.find(\"x4\").text)\n",
    "        y4 = float(elem.find(\"y4\").text)\n",
    "\n",
    "        gt_boxes.append(\n",
    "            [x1, y1, x2, y2, x3, y3, x4, y4, xmin, ymin, xmax, ymax, startrow, endrow, startcol, endcol]\n",
    "        )\n",
    "    np_gt_boxes = np.array(gt_boxes)\n",
    "    np.set_printoptions(precision=2, suppress=True)\n",
    "    return np_gt_boxes"
   ]
  },
  {
   "cell_type": "code",
   "execution_count": 1,
   "metadata": {},
   "outputs": [
    {
     "name": "stderr",
     "output_type": "stream",
     "text": [
      "Failed to detect the name of this notebook, you can set it manually with the WANDB_NOTEBOOK_NAME environment variable to enable code saving.\n",
      "\u001b[34m\u001b[1mwandb\u001b[0m: Currently logged in as: \u001b[33marchiealexarkhipov\u001b[0m (\u001b[33mcenternet\u001b[0m). Use \u001b[1m`wandb login --relogin`\u001b[0m to force relogin\n"
     ]
    },
    {
     "name": "stdout",
     "output_type": "stream",
     "text": [
      "loading annotations into memory...\n",
      "Done (t=12.84s)\n",
      "creating index...\n",
      "index created!\n",
      "loading annotations into memory...\n",
      "Done (t=3.71s)\n",
      "creating index...\n",
      "index created!\n"
     ]
    },
    {
     "ename": "KeyError",
     "evalue": "'LOCAL_RANK'",
     "output_type": "error",
     "traceback": [
      "\u001b[0;31m---------------------------------------------------------------------------\u001b[0m",
      "\u001b[0;31mKeyError\u001b[0m                                  Traceback (most recent call last)",
      "Cell \u001b[0;32mIn[1], line 35\u001b[0m\n\u001b[1;32m     33\u001b[0m \u001b[39m# Create work_dir\u001b[39;00m\n\u001b[1;32m     34\u001b[0m mmcv\u001b[39m.\u001b[39mmkdir_or_exist(osp\u001b[39m.\u001b[39mabspath(cfg\u001b[39m.\u001b[39mwork_dir))\n\u001b[0;32m---> 35\u001b[0m train_detector(model, datasets, cfg, distributed\u001b[39m=\u001b[39;49m\u001b[39mTrue\u001b[39;49;00m, validate\u001b[39m=\u001b[39;49mval)\n",
      "File \u001b[0;32m~/mmdetection/mmdet/apis/train.py:159\u001b[0m, in \u001b[0;36mtrain_detector\u001b[0;34m(model, dataset, cfg, distributed, validate, timestamp, meta)\u001b[0m\n\u001b[1;32m    153\u001b[0m     find_unused_parameters \u001b[39m=\u001b[39m cfg\u001b[39m.\u001b[39mget(\u001b[39m'\u001b[39m\u001b[39mfind_unused_parameters\u001b[39m\u001b[39m'\u001b[39m, \u001b[39mFalse\u001b[39;00m)\n\u001b[1;32m    154\u001b[0m     \u001b[39m# Sets the `find_unused_parameters` parameter in\u001b[39;00m\n\u001b[1;32m    155\u001b[0m     \u001b[39m# torch.nn.parallel.DistributedDataParallel\u001b[39;00m\n\u001b[1;32m    156\u001b[0m     model \u001b[39m=\u001b[39m build_ddp(\n\u001b[1;32m    157\u001b[0m         model,\n\u001b[1;32m    158\u001b[0m         cfg\u001b[39m.\u001b[39mdevice,\n\u001b[0;32m--> 159\u001b[0m         device_ids\u001b[39m=\u001b[39m[\u001b[39mint\u001b[39m(os\u001b[39m.\u001b[39;49menviron[\u001b[39m'\u001b[39;49m\u001b[39mLOCAL_RANK\u001b[39;49m\u001b[39m'\u001b[39;49m])],\n\u001b[1;32m    160\u001b[0m         broadcast_buffers\u001b[39m=\u001b[39m\u001b[39mFalse\u001b[39;00m,\n\u001b[1;32m    161\u001b[0m         find_unused_parameters\u001b[39m=\u001b[39mfind_unused_parameters)\n\u001b[1;32m    162\u001b[0m \u001b[39melse\u001b[39;00m:\n\u001b[1;32m    163\u001b[0m     model \u001b[39m=\u001b[39m build_dp(model, cfg\u001b[39m.\u001b[39mdevice, device_ids\u001b[39m=\u001b[39mcfg\u001b[39m.\u001b[39mgpu_ids)\n",
      "File \u001b[0;32m~/miniconda3/envs/mmdet_edit/lib/python3.8/os.py:675\u001b[0m, in \u001b[0;36m_Environ.__getitem__\u001b[0;34m(self, key)\u001b[0m\n\u001b[1;32m    672\u001b[0m     value \u001b[39m=\u001b[39m \u001b[39mself\u001b[39m\u001b[39m.\u001b[39m_data[\u001b[39mself\u001b[39m\u001b[39m.\u001b[39mencodekey(key)]\n\u001b[1;32m    673\u001b[0m \u001b[39mexcept\u001b[39;00m \u001b[39mKeyError\u001b[39;00m:\n\u001b[1;32m    674\u001b[0m     \u001b[39m# raise KeyError with the original key value\u001b[39;00m\n\u001b[0;32m--> 675\u001b[0m     \u001b[39mraise\u001b[39;00m \u001b[39mKeyError\u001b[39;00m(key) \u001b[39mfrom\u001b[39;00m \u001b[39mNone\u001b[39m\n\u001b[1;32m    676\u001b[0m \u001b[39mreturn\u001b[39;00m \u001b[39mself\u001b[39m\u001b[39m.\u001b[39mdecodevalue(value)\n",
      "\u001b[0;31mKeyError\u001b[0m: 'LOCAL_RANK'"
     ]
    }
   ],
   "source": [
    "import os.path as osp\n",
    "from sys import argv\n",
    "import cv2\n",
    "import mmcv\n",
    "import wandb\n",
    "from mmcv import Config\n",
    "from mmdet.apis import set_random_seed, train_detector\n",
    "\n",
    "# Let's take a look at the dataset image\n",
    "from mmdet.datasets import build_dataset\n",
    "from mmdet.models import build_detector\n",
    "import subprocess\n",
    "import random\n",
    "\n",
    "wandb.login()\n",
    "\n",
    "cfg = Config.fromfile(f\"/home/aiarhipov/centernet/exps/27_seg/config.py\")\n",
    "\n",
    "\n",
    "set_random_seed(0, deterministic=False)\n",
    "cfg.gpu_ids = [1, 2]\n",
    "val = True\n",
    "# Build dataset\n",
    "\n",
    "# datasets = build_dataset(cfg.data.train)\n",
    "datasets = [build_dataset(cfg.data.train), build_dataset(cfg.data.val_loss)]\n",
    "\n",
    "# Build the detector\n",
    "model = build_detector(cfg.model)\n",
    "# Add an attribute for visualization convenience\n",
    "model.CLASSES = datasets[0].CLASSES\n",
    "\n",
    "# Create work_dir\n",
    "mmcv.mkdir_or_exist(osp.abspath(cfg.work_dir))\n",
    "train_detector(model, datasets, cfg, distributed=True, validate=val)\n"
   ]
  },
  {
   "cell_type": "code",
   "execution_count": null,
   "metadata": {},
   "outputs": [],
   "source": []
  }
 ],
 "metadata": {
  "kernelspec": {
   "display_name": "mmdet_edit",
   "language": "python",
   "name": "python3"
  },
  "language_info": {
   "codemirror_mode": {
    "name": "ipython",
    "version": 3
   },
   "file_extension": ".py",
   "mimetype": "text/x-python",
   "name": "python",
   "nbconvert_exporter": "python",
   "pygments_lexer": "ipython3",
   "version": "3.8.15"
  },
  "orig_nbformat": 4
 },
 "nbformat": 4,
 "nbformat_minor": 2
}
