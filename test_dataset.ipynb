{
 "cells": [
  {
   "cell_type": "code",
   "execution_count": 1,
   "metadata": {},
   "outputs": [],
   "source": [
    "import xml.etree.ElementTree as ET\n",
    "import numpy as np\n",
    "\n",
    "def all_xml_to_np(xml_path):\n",
    "    tree = ET.parse(xml_path)\n",
    "    root = tree.getroot()\n",
    "    if root.tag != \"annotation\":\n",
    "        raise Exception(\"pascal voc xml root element should be annotation, rather than {}\".format(root.tag))\n",
    "    gt_boxes = []\n",
    "    for elem in root.findall(\"object/bndbox\"):\n",
    "        startrow = int(elem.find(\"startrow\").text)\n",
    "        endrow = int(elem.find(\"endrow\").text)\n",
    "        startcol = int(elem.find(\"startcol\").text)\n",
    "        endcol = int(elem.find(\"endcol\").text)\n",
    "        xmin = float(elem.find(\"xmin\").text)\n",
    "        ymin = float(elem.find(\"ymin\").text)\n",
    "        xmax = float(elem.find(\"xmax\").text)\n",
    "        ymax = float(elem.find(\"ymax\").text)\n",
    "\n",
    "        x1 = float(elem.find(\"x1\").text)\n",
    "        y1 = float(elem.find(\"y1\").text)\n",
    "        x2 = float(elem.find(\"x2\").text)\n",
    "        y2 = float(elem.find(\"y2\").text)\n",
    "        x3 = float(elem.find(\"x3\").text)\n",
    "        y3 = float(elem.find(\"y3\").text)\n",
    "        x4 = float(elem.find(\"x4\").text)\n",
    "        y4 = float(elem.find(\"y4\").text)\n",
    "\n",
    "        gt_boxes.append(\n",
    "            [x1, y1, x2, y2, x3, y3, x4, y4, xmin, ymin, xmax, ymax, startrow, endrow, startcol, endcol]\n",
    "        )\n",
    "    np_gt_boxes = np.array(gt_boxes)\n",
    "    np.set_printoptions(precision=2, suppress=True)\n",
    "    return np_gt_boxes"
   ]
  },
  {
   "cell_type": "code",
   "execution_count": null,
   "metadata": {},
   "outputs": [],
   "source": []
  }
 ],
 "metadata": {
  "kernelspec": {
   "display_name": "mmdet_edit",
   "language": "python",
   "name": "python3"
  },
  "language_info": {
   "codemirror_mode": {
    "name": "ipython",
    "version": 3
   },
   "file_extension": ".py",
   "mimetype": "text/x-python",
   "name": "python",
   "nbconvert_exporter": "python",
   "pygments_lexer": "ipython3",
   "version": "3.8.15"
  },
  "orig_nbformat": 4
 },
 "nbformat": 4,
 "nbformat_minor": 2
}
